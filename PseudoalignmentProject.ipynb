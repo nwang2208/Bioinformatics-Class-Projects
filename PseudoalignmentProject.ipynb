{
  "nbformat": 4,
  "nbformat_minor": 0,
  "metadata": {
    "colab": {
      "provenance": [],
      "mount_file_id": "1AewpziHFIesygImRRczb4BeeLlc2qVt2",
      "authorship_tag": "ABX9TyMiMDS3GKtoE6OGQG5Ja0lM",
      "include_colab_link": true
    },
    "kernelspec": {
      "name": "python3",
      "display_name": "Python 3"
    },
    "language_info": {
      "name": "python"
    }
  },
  "cells": [
    {
      "cell_type": "markdown",
      "metadata": {
        "id": "view-in-github",
        "colab_type": "text"
      },
      "source": [
        "<a href=\"https://colab.research.google.com/github/nwang2208/Bioinformatics-Class-Projects/blob/pseudoalignment/PseudoalignmentProject.ipynb\" target=\"_parent\"><img src=\"https://colab.research.google.com/assets/colab-badge.svg\" alt=\"Open In Colab\"/></a>"
      ]
    },
    {
      "cell_type": "markdown",
      "source": [
        "import packages"
      ],
      "metadata": {
        "id": "3wa0tU8Y_YXM"
      }
    },
    {
      "cell_type": "code",
      "execution_count": null,
      "metadata": {
        "id": "xy_9k93A_IGd"
      },
      "outputs": [],
      "source": [
        "import sys, re\n",
        "import gzip\n",
        "import io\n",
        "import pandas as pd\n",
        "import collections\n",
        "import matplotlib.pyplot as plt"
      ]
    },
    {
      "cell_type": "markdown",
      "source": [
        "Preparing transcriptome fasta file"
      ],
      "metadata": {
        "id": "1OW1SLCr_0da"
      }
    },
    {
      "cell_type": "code",
      "source": [
        "chr11=open('/content/drive/MyDrive/pseudoalignment data/chr11_transcriptome.fasta','r')\n",
        "chr11_lines=chr11.readlines()\n",
        "hre=re.compile('>(\\S+)')\n",
        "#outh = hre.search(chr11_lines[0])\n",
        "#if outh:\n",
        "    #print(outh.group(1))\n",
        "\n",
        "lre=re.compile('^(\\S+)$')\n",
        "#outl = lre.search(lines[1])\n",
        "#if outl:\n",
        "    #print(outl.group(1))\n",
        "\n",
        "gene={}\n",
        "\n",
        "for line in chr11_lines:\n",
        "        outh = hre.search(line)\n",
        "        if outh:\n",
        "                id=outh.group(1)\n",
        "        else:\n",
        "                outl=lre.search(line)\n",
        "                if(id in gene.keys()):\n",
        "                        gene[id] += outl.group(1)\n",
        "                else:\n",
        "                        gene[id]  =outl.group(1)\n"
      ],
      "metadata": {
        "id": "XFQit1h8_RI9"
      },
      "execution_count": null,
      "outputs": []
    },
    {
      "cell_type": "code",
      "source": [
        "gene"
      ],
      "metadata": {
        "id": "e0aDzsS4ExV8"
      },
      "execution_count": null,
      "outputs": []
    },
    {
      "cell_type": "markdown",
      "source": [
        "Iterating through transcriptome and creating hash table of transcriptome (named transcript)"
      ],
      "metadata": {
        "id": "DVkZFOj2IK7I"
      }
    },
    {
      "cell_type": "code",
      "source": [
        "\n",
        "kmer = 31\n",
        "start = 0\n",
        "end = 0\n",
        "i=0\n",
        "transcript={}\n",
        "for key, value in gene.items():\n",
        "  while(end < len(value)) :\n",
        "    end = start + kmer\n",
        "    if(end > len(value)):\n",
        "      end = len(value)\n",
        "    seq = value[start:start+kmer]\n",
        "    if seq in transcript.keys():\n",
        "      transcript[seq].append(key)\n",
        "    else:\n",
        "      #transcript[seq] = [i]\n",
        "      #i+=1\n",
        "      transcript[seq] = [key]\n",
        "    start += 1\n",
        "  start = 0\n",
        "  end = 0\n"
      ],
      "metadata": {
        "id": "dKA3lJpfEVP1"
      },
      "execution_count": null,
      "outputs": []
    },
    {
      "cell_type": "code",
      "source": [
        "transcript"
      ],
      "metadata": {
        "id": "rZt9epCdNBFd"
      },
      "execution_count": null,
      "outputs": []
    },
    {
      "cell_type": "markdown",
      "source": [
        "Prepare reads file into dict called reads2\n",
        "\n"
      ],
      "metadata": {
        "id": "Mf44NAhIQo61"
      }
    },
    {
      "cell_type": "code",
      "source": [
        "r = gzip.open('/content/drive/MyDrive/pseudoalignment data/reads.fasta.gz', 'rb')\n",
        "reads_lines = r.readlines()\n",
        "\n",
        "#get rid of the 'b'\n",
        "i=0\n",
        "for line in reads_lines:\n",
        "  reads_lines[i] = line.decode('UTF-8')\n",
        "  i+=1\n",
        "\n",
        "#organize into the read number and sequence as an array\n",
        "reads = {}\n",
        "for line in reads_lines:\n",
        "        outh = hre.search(line)\n",
        "        if outh:\n",
        "                id=outh.group(1)\n",
        "        else:\n",
        "                outl=lre.search(line)\n",
        "                if(id in reads.keys()):\n",
        "                        reads[id] += outl.group(1)\n",
        "                else:\n",
        "                        reads[id]  =outl.group(1)\n"
      ],
      "metadata": {
        "id": "umNiKaXyQpP8"
      },
      "execution_count": null,
      "outputs": []
    },
    {
      "cell_type": "code",
      "source": [
        "reads"
      ],
      "metadata": {
        "id": "F987P4tsdVJl"
      },
      "execution_count": null,
      "outputs": []
    },
    {
      "cell_type": "code",
      "source": [
        "reads2 = {} #read number | entire sequence\n",
        "\n",
        "for key, value in reads.items():\n",
        "  newk = key.split('/')[0]\n",
        "  reads2[newk] = value"
      ],
      "metadata": {
        "id": "YFe0CDrEcUZC"
      },
      "execution_count": null,
      "outputs": []
    },
    {
      "cell_type": "code",
      "source": [
        "reads2"
      ],
      "metadata": {
        "id": "KS6cPpUfdN2y"
      },
      "execution_count": null,
      "outputs": []
    },
    {
      "cell_type": "markdown",
      "source": [
        "Match reads to get equivalence class for forward strand"
      ],
      "metadata": {
        "id": "rKMw-3fdd-WN"
      }
    },
    {
      "cell_type": "code",
      "source": [
        "#intersection algorithm\n",
        "start = 0\n",
        "end = 0\n",
        "kmer = 31\n",
        "\n",
        "i_align = {} #read number | eqv class\n",
        "\n",
        "for key, value in reads2.items():\n",
        "\n",
        "\n",
        "  classes = [] #hold all the different eqv classes\n",
        "  while(end < len(value)) :\n",
        "    end = start + kmer\n",
        "    if(end > len(value)):\n",
        "      end = len(value)\n",
        "\n",
        "    seq = value[start:end]\n",
        "\n",
        "    if(seq in transcript.keys()): #match in transcriptome, and already eqv classes in align\n",
        "      classes.append(transcript[seq])\n",
        "    else: #there was an error\n",
        "      classes = []\n",
        "      i_align[key] = {'NA'}\n",
        "      break\n",
        "\n",
        "    start += 1\n",
        "\n",
        "  y = []\n",
        "\n",
        "  if(len(classes) > 0):\n",
        "    y = set.intersection(*map(set,classes))\n",
        "    i_align[key] = y\n",
        "\n",
        "\n",
        "  start = 0\n",
        "  end = 0"
      ],
      "metadata": {
        "id": "0dA3XaTD7gNn"
      },
      "execution_count": null,
      "outputs": []
    },
    {
      "cell_type": "code",
      "source": [
        "#check to make sure no messed up values\n",
        "num = 0\n",
        "for key, value in i_align.items():\n",
        "  if(value == set()):\n",
        "      num += 1\n",
        "\n",
        "num\n"
      ],
      "metadata": {
        "colab": {
          "base_uri": "https://localhost:8080/"
        },
        "id": "b7SnbebFcLcu",
        "outputId": "c61f7df5-a42f-43c3-8ec2-1f5649810820"
      },
      "execution_count": null,
      "outputs": [
        {
          "output_type": "execute_result",
          "data": {
            "text/plain": [
              "0"
            ]
          },
          "metadata": {},
          "execution_count": 290
        }
      ]
    },
    {
      "cell_type": "code",
      "source": [
        "i_align"
      ],
      "metadata": {
        "id": "FQlFLoKL-32n"
      },
      "execution_count": null,
      "outputs": []
    },
    {
      "cell_type": "code",
      "source": [
        "#checking number of NA values\n",
        "i_sum = 0\n",
        "for key, value in i_align.items():\n",
        "  if (value == {'NA'}):\n",
        "    i_sum += 1"
      ],
      "metadata": {
        "id": "kAAG1oe77yyo"
      },
      "execution_count": null,
      "outputs": []
    },
    {
      "cell_type": "code",
      "source": [
        "i_sum #intersection"
      ],
      "metadata": {
        "colab": {
          "base_uri": "https://localhost:8080/"
        },
        "id": "rmVbcZU972bY",
        "outputId": "e6bc15fb-77d5-4868-a828-88b11794e500"
      },
      "execution_count": null,
      "outputs": [
        {
          "output_type": "execute_result",
          "data": {
            "text/plain": [
              "743829"
            ]
          },
          "metadata": {},
          "execution_count": 191
        }
      ]
    },
    {
      "cell_type": "markdown",
      "source": [
        "Appying Error Algorithm to align for forward strand"
      ],
      "metadata": {
        "id": "EEEnA-EC8RHp"
      }
    },
    {
      "cell_type": "code",
      "source": [
        "#functions for intersection\n",
        "\n",
        "def find_sublist(sub, bigger):\n",
        "    if not bigger:\n",
        "        return -1\n",
        "    if not sub:\n",
        "        return 0\n",
        "    first, rest = sub[0], sub[1:]\n",
        "    pos = 0\n",
        "    try:\n",
        "        while True:\n",
        "            pos = bigger.index(first, pos) + 1\n",
        "            if not rest or bigger[pos:pos+len(rest)] == rest:\n",
        "                return pos\n",
        "    except ValueError:\n",
        "        return -1\n",
        "\n",
        "def is_sublist(sub, bigger):\n",
        "    return find_sublist(sub, bigger) >= 0\n",
        "\n",
        "def listel (st): #turn a set of tuples to a list of lists\n",
        "  out = []\n",
        "  for el in st:\n",
        "      out.append(list(el))\n",
        "  return(out)"
      ],
      "metadata": {
        "id": "eHgiaLBZ7QKk"
      },
      "execution_count": null,
      "outputs": []
    },
    {
      "cell_type": "code",
      "source": [
        "#intersection instead\n",
        "\n",
        "start = 0\n",
        "end = 0\n",
        "kmer = 31\n",
        "\n",
        "bad_pre = [('NA')]\n",
        "bad = bad_pre*(kmer + 1) #32 NA's\n",
        "\n",
        "\n",
        "for key, value in i_align.items():\n",
        "  classes = []\n",
        "  if(value == {'NA'}):\n",
        "      while(end < len(reads2[key])) :\n",
        "          end = start + kmer\n",
        "          if(end > len(reads2[key])):\n",
        "              end = len(reads2[key])\n",
        "\n",
        "          seq = reads2[key][start:end]\n",
        "\n",
        "          if(seq in transcript.keys()): #match in transcriptome\n",
        "              if(len(transcript[seq]) == 1): #tuple of one element\n",
        "                  classes.append(tuple(transcript[seq],))\n",
        "              else: #tuple of multiple elements\n",
        "                classes.append(tuple(transcript[seq]))\n",
        "          else: #there was an error\n",
        "              classes.append(('NA',))\n",
        "\n",
        "          start += 1\n",
        "\n",
        "\n",
        "\n",
        "\n",
        "      y = []\n",
        "      if(is_sublist(bad,classes)): #list of 32 NA's next to each other\n",
        "        classes = []\n",
        "      if(classes != []): #did not find contiguous\n",
        "          classes2 = set(classes)\n",
        "          classes2.remove(('NA',))\n",
        "          classes2 = listel(classes2)\n",
        "          classes2 = list(classes2)\n",
        "          if(classes2 == []):\n",
        "              i_align[key] = {'NA'}\n",
        "          else:\n",
        "              y = set.intersection(*map(set, list(classes2)))\n",
        "              #if(y == set()):\n",
        "                  #i_align[key] = list(classes2)\n",
        "              #else:\n",
        "              i_align[key] = y\n",
        "      else:\n",
        "          i_align[key] = {'NA'}\n",
        "\n",
        "\n",
        "  start = 0\n",
        "  end = 0\n",
        ""
      ],
      "metadata": {
        "id": "vZYUAfvc6UVR"
      },
      "execution_count": null,
      "outputs": []
    },
    {
      "cell_type": "code",
      "source": [
        "i_align"
      ],
      "metadata": {
        "id": "vlBuF9iG_8Zu"
      },
      "execution_count": null,
      "outputs": []
    },
    {
      "cell_type": "code",
      "source": [
        "#check to make sure no messed up values\n",
        "num = 0\n",
        "for key, value in i_align.items():\n",
        "  if(value == set()):\n",
        "      num += 1\n",
        "\n",
        "num"
      ],
      "metadata": {
        "colab": {
          "base_uri": "https://localhost:8080/"
        },
        "id": "ynAaGsoRclxP",
        "outputId": "0620d8b0-4efa-479f-85be-21790d0a75e2"
      },
      "execution_count": null,
      "outputs": [
        {
          "output_type": "execute_result",
          "data": {
            "text/plain": [
              "0"
            ]
          },
          "metadata": {},
          "execution_count": 291
        }
      ]
    },
    {
      "cell_type": "code",
      "source": [
        "#checking number of NA's\n",
        "i_sum = 0\n",
        "for key, value in i_align.items():\n",
        "  if (value == {'NA'}):\n",
        "    i_sum += 1"
      ],
      "metadata": {
        "id": "yQSM7DUG7XXv"
      },
      "execution_count": null,
      "outputs": []
    },
    {
      "cell_type": "code",
      "source": [
        "i_sum #intersection"
      ],
      "metadata": {
        "colab": {
          "base_uri": "https://localhost:8080/"
        },
        "id": "JeaOc_uD7W0n",
        "outputId": "793810ca-fb78-4b3e-dfc3-6b141d6c3ef7"
      },
      "execution_count": null,
      "outputs": [
        {
          "output_type": "execute_result",
          "data": {
            "text/plain": [
              "606087"
            ]
          },
          "metadata": {},
          "execution_count": 196
        }
      ]
    },
    {
      "cell_type": "markdown",
      "source": [
        "Make Reverse Strand Transcriptome into r_transcript"
      ],
      "metadata": {
        "id": "KN7fAb9r-Sk0"
      }
    },
    {
      "cell_type": "code",
      "source": [
        "r_gene = {}\n",
        "\n",
        "for key,value in gene.items():\n",
        "  r_seq = \"\"\n",
        "  for x in range(0,len(value)):\n",
        "    base = ''\n",
        "    if(value[x] == \"A\"):\n",
        "      base = 'T'\n",
        "    elif(value[x] == \"T\"):\n",
        "      base = 'A'\n",
        "    elif(value[x] == \"C\"):\n",
        "      base = 'G'\n",
        "    else:\n",
        "      base = 'C'\n",
        "    r_seq += base\n",
        "  r_gene[key] = r_seq[::-1]\n"
      ],
      "metadata": {
        "id": "-l94kGhO-XLY"
      },
      "execution_count": null,
      "outputs": []
    },
    {
      "cell_type": "code",
      "source": [
        "kmer = 31\n",
        "start = 0\n",
        "end = 0\n",
        "i=0\n",
        "r_transcript={}\n",
        "for key, value in r_gene.items():\n",
        "  while(end < len(value)) :\n",
        "    end = start + kmer\n",
        "    if(end > len(value)):\n",
        "      end = len(value)\n",
        "    seq = value[start:start+kmer]\n",
        "    if seq in r_transcript.keys():\n",
        "      r_transcript[seq].append(key)\n",
        "    else:\n",
        "      r_transcript[seq] = [key]\n",
        "    start += 1\n",
        "  start = 0\n",
        "  end = 0\n",
        "\n"
      ],
      "metadata": {
        "id": "VwpAtXIA-9Uz"
      },
      "execution_count": null,
      "outputs": []
    },
    {
      "cell_type": "markdown",
      "source": [
        " Match reads with reverse transcriptome"
      ],
      "metadata": {
        "id": "VWIJYN4fA5Aw"
      }
    },
    {
      "cell_type": "code",
      "source": [
        "#intersection\n",
        "\n",
        "start = 0\n",
        "end = 0\n",
        "kmer = 31\n",
        "\n",
        "i_r_align = {} #read number | eqv class\n",
        "\n",
        "for key, value in reads2.items():\n",
        "\n",
        "\n",
        "  classes = [] #hold all the different eqv classes\n",
        "  while(end < len(value)) :\n",
        "    end = start + kmer\n",
        "    if(end > len(value)):\n",
        "      end = len(value)\n",
        "\n",
        "    seq = value[start:end]\n",
        "\n",
        "    if(seq in r_transcript.keys()): #match in transcriptome, and already eqv classes in align\n",
        "      classes.append(r_transcript[seq])\n",
        "    else: #there was an error\n",
        "      classes = []\n",
        "      i_r_align[key] = {'NA'}\n",
        "      break\n",
        "\n",
        "    start += 1\n",
        "\n",
        "  y = []\n",
        "\n",
        "  if(len(classes) > 0):\n",
        "    y = set.intersection(*map(set,classes))\n",
        "    i_r_align[key] = y\n",
        "\n",
        "\n",
        "  start = 0\n",
        "  end = 0"
      ],
      "metadata": {
        "id": "RbhqPP1ni_gX"
      },
      "execution_count": null,
      "outputs": []
    },
    {
      "cell_type": "code",
      "source": [
        "#check to make sure no messed up values\n",
        "num = 0\n",
        "for key, value in i_r_align.items():\n",
        "  if(value == set()):\n",
        "      num += 1\n",
        "\n",
        "num"
      ],
      "metadata": {
        "colab": {
          "base_uri": "https://localhost:8080/"
        },
        "id": "ijSUl-jycpFm",
        "outputId": "2cf0c97b-6ed0-4e9f-e9c7-d387e3f8f701"
      },
      "execution_count": null,
      "outputs": [
        {
          "output_type": "execute_result",
          "data": {
            "text/plain": [
              "0"
            ]
          },
          "metadata": {},
          "execution_count": 292
        }
      ]
    },
    {
      "cell_type": "code",
      "source": [
        "#checking number of NA's\n",
        "i_sum = 0\n",
        "for key, value in i_r_align.items():\n",
        "  if (value == {'NA'}):\n",
        "    i_sum += 1"
      ],
      "metadata": {
        "id": "8Rr-ST8CCpwt"
      },
      "execution_count": null,
      "outputs": []
    },
    {
      "cell_type": "code",
      "source": [
        "i_sum #intersection"
      ],
      "metadata": {
        "colab": {
          "base_uri": "https://localhost:8080/"
        },
        "id": "e53up60hCq-E",
        "outputId": "904d3d12-551b-494d-9c8c-b5d9c1f038f8"
      },
      "execution_count": null,
      "outputs": [
        {
          "output_type": "execute_result",
          "data": {
            "text/plain": [
              "748577"
            ]
          },
          "metadata": {},
          "execution_count": 201
        }
      ]
    },
    {
      "cell_type": "markdown",
      "source": [
        "Apply Error Algorithm to r_align"
      ],
      "metadata": {
        "id": "0V-s7GrRCLnC"
      }
    },
    {
      "cell_type": "code",
      "source": [
        "#functions for intersection\n",
        "\n",
        "def find_sublist(sub, bigger):\n",
        "    if not bigger:\n",
        "        return -1\n",
        "    if not sub:\n",
        "        return 0\n",
        "    first, rest = sub[0], sub[1:]\n",
        "    pos = 0\n",
        "    try:\n",
        "        while True:\n",
        "            pos = bigger.index(first, pos) + 1\n",
        "            if not rest or bigger[pos:pos+len(rest)] == rest:\n",
        "                return pos\n",
        "    except ValueError:\n",
        "        return -1\n",
        "\n",
        "def is_sublist(sub, bigger):\n",
        "    return find_sublist(sub, bigger) >= 0\n",
        "\n",
        "def listel (st): #turn a set of tuples to a list of lists\n",
        "  out = []\n",
        "  for el in st:\n",
        "      out.append(list(el))\n",
        "  return(out)"
      ],
      "metadata": {
        "id": "eP0QDTiNDLLG"
      },
      "execution_count": null,
      "outputs": []
    },
    {
      "cell_type": "code",
      "source": [
        "#intersection instead\n",
        "\n",
        "start = 0\n",
        "end = 0\n",
        "kmer = 31\n",
        "\n",
        "bad_pre = [('NA')]\n",
        "bad = bad_pre*(kmer + 1)\n",
        "\n",
        "\n",
        "for key, value in i_r_align.items():\n",
        "  classes = []\n",
        "  if(value == {'NA'}):\n",
        "      while(end < len(reads2[key])) :\n",
        "          end = start + kmer\n",
        "          if(end > len(reads2[key])):\n",
        "              end = len(reads2[key])\n",
        "\n",
        "          seq = reads2[key][start:end]\n",
        "\n",
        "          if(seq in r_transcript.keys()): #match in transcriptome\n",
        "              if(len(r_transcript[seq]) == 1): #tuple of one element\n",
        "                  classes.append(tuple(r_transcript[seq],))\n",
        "              else: #tuple of multiple elements\n",
        "                classes.append(tuple(r_transcript[seq]))\n",
        "          else: #there was an error\n",
        "              classes.append(('NA',))\n",
        "\n",
        "          start += 1\n",
        "\n",
        "\n",
        "\n",
        "\n",
        "      y = []\n",
        "      if(is_sublist(bad,classes)): #list of 32 NA's next to each other\n",
        "        classes = []\n",
        "      if(classes != []): #did not find contiguous\n",
        "          classes2 = set(classes)\n",
        "          classes2.remove(('NA',))\n",
        "          classes2 = listel(classes2)\n",
        "          classes2 = list(classes2)\n",
        "          if(classes2 == []):\n",
        "              i_r_align[key] = {'NA'}\n",
        "          else:\n",
        "              y = set.intersection(*map(set, list(classes2)))\n",
        "              #if(y == set()):\n",
        "                  #i_align[key] = list(classes2)\n",
        "              #else:\n",
        "              i_r_align[key] = y\n",
        "      else:\n",
        "          i_r_align[key] = {'NA'}\n",
        "\n",
        "\n",
        "  start = 0\n",
        "  end = 0\n",
        ""
      ],
      "metadata": {
        "id": "UXNBxgxLpCbG"
      },
      "execution_count": null,
      "outputs": []
    },
    {
      "cell_type": "code",
      "source": [
        "#check to make sure no messed up values\n",
        "num = 0\n",
        "for key, value in i_r_align.items():\n",
        "  if(value == set()):\n",
        "      num += 1\n",
        "\n",
        "num"
      ],
      "metadata": {
        "colab": {
          "base_uri": "https://localhost:8080/"
        },
        "id": "lPXEPJidcru-",
        "outputId": "661d14b4-a5b4-4de2-bbf6-36dd3578fa27"
      },
      "execution_count": null,
      "outputs": [
        {
          "output_type": "execute_result",
          "data": {
            "text/plain": [
              "0"
            ]
          },
          "metadata": {},
          "execution_count": 293
        }
      ]
    },
    {
      "cell_type": "code",
      "source": [
        "i_r_align"
      ],
      "metadata": {
        "id": "zzRuuuPKqxDG"
      },
      "execution_count": null,
      "outputs": []
    },
    {
      "cell_type": "code",
      "source": [
        "#checking number of NA's\n",
        "i_sum = 0\n",
        "for key, value in i_r_align.items():\n",
        "  if (value == {'NA'}):\n",
        "    i_sum += 1"
      ],
      "metadata": {
        "id": "kY6F9SnZ51_c"
      },
      "execution_count": null,
      "outputs": []
    },
    {
      "cell_type": "code",
      "source": [
        "i_sum #intersection error"
      ],
      "metadata": {
        "colab": {
          "base_uri": "https://localhost:8080/"
        },
        "id": "lQJ-0TGFC5nV",
        "outputId": "d5d0769b-f057-4b72-87cf-13c390968a31"
      },
      "execution_count": null,
      "outputs": [
        {
          "output_type": "execute_result",
          "data": {
            "text/plain": [
              "609621"
            ]
          },
          "metadata": {},
          "execution_count": 206
        }
      ]
    },
    {
      "cell_type": "markdown",
      "source": [
        "Make sure each read only has 1 eqv class ($)"
      ],
      "metadata": {
        "id": "Jt4-xiI3ugik"
      }
    },
    {
      "cell_type": "code",
      "source": [
        "#function to find the union of the forward and reverse strand eqv classes\n",
        "def Union(lst1, lst2):\n",
        "    final_list = set(set(lst1) | set(lst2))\n",
        "    return tuple(final_list)"
      ],
      "metadata": {
        "id": "FxxHpTT06r8d"
      },
      "execution_count": null,
      "outputs": []
    },
    {
      "cell_type": "code",
      "source": [
        "def convert(list):\n",
        "    return tuple(sorted(tuple(i for i in list))) #make sure order of all tuples would be the same if same eqv class"
      ],
      "metadata": {
        "id": "gvYU2Je5LpiE"
      },
      "execution_count": null,
      "outputs": []
    },
    {
      "cell_type": "code",
      "source": [
        "for key, value in i_r_align.items():\n",
        "  i_r_align[key] = convert(value)"
      ],
      "metadata": {
        "id": "WObdWSsPEL_h"
      },
      "execution_count": null,
      "outputs": []
    },
    {
      "cell_type": "code",
      "source": [
        "for key, value in i_align.items():\n",
        "  i_align[key] = convert(value)"
      ],
      "metadata": {
        "id": "at8lXLmaJ0S2"
      },
      "execution_count": null,
      "outputs": []
    },
    {
      "cell_type": "code",
      "source": [
        "i_align"
      ],
      "metadata": {
        "id": "mQnzlFqK6GmU"
      },
      "execution_count": null,
      "outputs": []
    },
    {
      "cell_type": "code",
      "source": [
        "i_r_align"
      ],
      "metadata": {
        "id": "QEu-THgX6Irk"
      },
      "execution_count": null,
      "outputs": []
    },
    {
      "cell_type": "code",
      "source": [
        "#intersection\n",
        "\n",
        "i_combine_align = {}\n",
        "\n",
        "for key, value in i_align.items():\n",
        "  if((i_align[key] != ('NA',)) & (i_r_align[key] != ('NA',))): #different sets of real eqv classes\n",
        "      i_combine_align[key] = Union(i_align[key], i_r_align[key])#union of the forward and reverse strands\n",
        "      #i_combine_align[key] = i_align[key]\n",
        "  elif((i_align[key] != ('NA',)) & (i_r_align[key] == ('NA',))): #eqv class only in forward strand, reverse strand no match\n",
        "        i_combine_align[key] = i_align[key]\n",
        "  elif((i_r_align[key] != ('NA',)) & (i_align[key] == ('NA',))): #eqv class only in reverse strand, forward strand no match\n",
        "        i_combine_align[key] = i_r_align[key]\n",
        "  else: #both strands do not match --> NA\n",
        "        i_combine_align[key] = ('NA',)\n"
      ],
      "metadata": {
        "id": "P96GoADn5_Wd"
      },
      "execution_count": null,
      "outputs": []
    },
    {
      "cell_type": "code",
      "source": [
        "i_combine_align"
      ],
      "metadata": {
        "id": "DC6CCacpxQXS"
      },
      "execution_count": null,
      "outputs": []
    },
    {
      "cell_type": "markdown",
      "source": [
        "Make dict of equivalence classes and counts for combined align hashtables"
      ],
      "metadata": {
        "id": "WhCANuquxf6W"
      }
    },
    {
      "cell_type": "code",
      "source": [
        "i_r_align"
      ],
      "metadata": {
        "id": "GPtfsl2jZ5yX"
      },
      "execution_count": null,
      "outputs": []
    },
    {
      "cell_type": "code",
      "source": [
        "i_align"
      ],
      "metadata": {
        "id": "_BY3tyxKZ71f"
      },
      "execution_count": null,
      "outputs": []
    },
    {
      "cell_type": "code",
      "source": [
        "i_combine_final = {}\n",
        "\n",
        "for key, value in i_combine_align.items():\n",
        "  if(value in i_combine_final.keys()): #eqv class already in table\n",
        "    i_combine_final[value] += 1\n",
        "  else: #eqv class not in table yet\n",
        "    i_combine_final[value] = 1"
      ],
      "metadata": {
        "id": "DyUl7Y3IRB9I"
      },
      "execution_count": null,
      "outputs": []
    },
    {
      "cell_type": "code",
      "source": [
        "len(i_combine_final) #number of eqv classes"
      ],
      "metadata": {
        "colab": {
          "base_uri": "https://localhost:8080/"
        },
        "id": "6D-N9Am_8u9Q",
        "outputId": "b0df9603-bd3c-4e72-9086-e1586be6bc58"
      },
      "execution_count": null,
      "outputs": [
        {
          "output_type": "execute_result",
          "data": {
            "text/plain": [
              "14133"
            ]
          },
          "metadata": {},
          "execution_count": 351
        }
      ]
    },
    {
      "cell_type": "code",
      "source": [
        "#checking the number of reads\n",
        "sum = 0\n",
        "\n",
        "for key, value in i_combine_final.items():\n",
        "  sum += value"
      ],
      "metadata": {
        "id": "VZ16RgPiRXAX"
      },
      "execution_count": null,
      "outputs": []
    },
    {
      "cell_type": "code",
      "source": [
        "sum #matches with reads2, so i_combine_final has the right amount of reads!"
      ],
      "metadata": {
        "colab": {
          "base_uri": "https://localhost:8080/"
        },
        "id": "XF2OErnm801v",
        "outputId": "cfb40f3a-e4b9-40d1-e7d4-435c4f9dfe27"
      },
      "execution_count": null,
      "outputs": [
        {
          "output_type": "execute_result",
          "data": {
            "text/plain": [
              "1282526"
            ]
          },
          "metadata": {},
          "execution_count": 118
        }
      ]
    },
    {
      "cell_type": "code",
      "source": [
        "len(reads2) #number of reads"
      ],
      "metadata": {
        "colab": {
          "base_uri": "https://localhost:8080/"
        },
        "id": "fhUV7wPQx-Pa",
        "outputId": "104d4d11-28d4-4333-b9dc-917d406479e8"
      },
      "execution_count": null,
      "outputs": [
        {
          "output_type": "execute_result",
          "data": {
            "text/plain": [
              "1282526"
            ]
          },
          "metadata": {},
          "execution_count": 153
        }
      ]
    },
    {
      "cell_type": "code",
      "source": [
        "i_combine_final[('NA',)] #checking number of NA's"
      ],
      "metadata": {
        "colab": {
          "base_uri": "https://localhost:8080/"
        },
        "id": "-7biW0LKRb7n",
        "outputId": "548ae3a3-d2f6-40f6-8a97-6553dda1287a"
      },
      "execution_count": null,
      "outputs": [
        {
          "output_type": "execute_result",
          "data": {
            "text/plain": [
              "7"
            ]
          },
          "metadata": {},
          "execution_count": 282
        }
      ]
    },
    {
      "cell_type": "code",
      "source": [
        "i_combine_final"
      ],
      "metadata": {
        "id": "nieLU1QJFviw"
      },
      "execution_count": null,
      "outputs": []
    },
    {
      "cell_type": "markdown",
      "source": [
        "Make the final table"
      ],
      "metadata": {
        "id": "SwF3JPtjbjUu"
      }
    },
    {
      "cell_type": "code",
      "source": [
        "#turn i_combine_final into a dataframe\n",
        "pd.DataFrame(i_combine_final.items())\n",
        "df = pd.DataFrame(i_combine_final.items(), columns=['isoforms in equivalence class', 'counts'])"
      ],
      "metadata": {
        "id": "Y4r4U_wHc3du"
      },
      "execution_count": null,
      "outputs": []
    },
    {
      "cell_type": "code",
      "source": [
        "df"
      ],
      "metadata": {
        "id": "xLaydNkidYhv"
      },
      "execution_count": null,
      "outputs": []
    },
    {
      "cell_type": "code",
      "source": [
        "#add a column for number of items in equivalence class\n",
        "class_count = []\n",
        "\n",
        "for i in range(0,len(df)):\n",
        "    if(df.iloc[i,0] == ('NA',)):\n",
        "        class_count.append(0)\n",
        "    else:\n",
        "        class_count.append(len(df.iloc[i,0]))\n",
        "\n",
        "df['number of items in equivalence class'] = class_count"
      ],
      "metadata": {
        "id": "6lnEjbONdZCW"
      },
      "execution_count": null,
      "outputs": []
    },
    {
      "cell_type": "code",
      "source": [
        "df"
      ],
      "metadata": {
        "colab": {
          "base_uri": "https://localhost:8080/",
          "height": 655
        },
        "id": "3gfo0L75hsxN",
        "outputId": "e4e5493c-05bd-4758-d42c-a0b202d46b3b"
      },
      "execution_count": null,
      "outputs": [
        {
          "output_type": "execute_result",
          "data": {
            "text/plain": [
              "                           isoforms in equivalence class  counts  \\\n",
              "0      (ENST00000410108, ENST00000332865, ENST0000048...      52   \n",
              "1                                     (ENST00000410108,)      90   \n",
              "2      (ENST00000410108, ENST00000529614, ENST0000033...      17   \n",
              "3      (ENST00000410108, ENST00000486280, ENST0000033...       2   \n",
              "4      (ENST00000410108, ENST00000332865, ENST0000038...       1   \n",
              "...                                                  ...     ...   \n",
              "14128                                 (ENST00000455971,)       1   \n",
              "14129                 (ENST00000339772, ENST00000535456)      12   \n",
              "14130  (ENST00000431683, ENST00000389887, ENST0000033...       1   \n",
              "14131                                 (ENST00000524765,)       9   \n",
              "14132  (ENST00000392580, ENST00000524765, ENST0000031...       3   \n",
              "\n",
              "       number of items in equivalence class  \n",
              "0                                         5  \n",
              "1                                         1  \n",
              "2                                         5  \n",
              "3                                         5  \n",
              "4                                         4  \n",
              "...                                     ...  \n",
              "14128                                     1  \n",
              "14129                                     2  \n",
              "14130                                     4  \n",
              "14131                                     1  \n",
              "14132                                     3  \n",
              "\n",
              "[14133 rows x 3 columns]"
            ],
            "text/html": [
              "\n",
              "  <div id=\"df-4031807d-48f3-4230-b321-8ff4145cdfd9\">\n",
              "    <div class=\"colab-df-container\">\n",
              "      <div>\n",
              "<style scoped>\n",
              "    .dataframe tbody tr th:only-of-type {\n",
              "        vertical-align: middle;\n",
              "    }\n",
              "\n",
              "    .dataframe tbody tr th {\n",
              "        vertical-align: top;\n",
              "    }\n",
              "\n",
              "    .dataframe thead th {\n",
              "        text-align: right;\n",
              "    }\n",
              "</style>\n",
              "<table border=\"1\" class=\"dataframe\">\n",
              "  <thead>\n",
              "    <tr style=\"text-align: right;\">\n",
              "      <th></th>\n",
              "      <th>isoforms in equivalence class</th>\n",
              "      <th>counts</th>\n",
              "      <th>number of items in equivalence class</th>\n",
              "    </tr>\n",
              "  </thead>\n",
              "  <tbody>\n",
              "    <tr>\n",
              "      <th>0</th>\n",
              "      <td>(ENST00000410108, ENST00000332865, ENST0000048...</td>\n",
              "      <td>52</td>\n",
              "      <td>5</td>\n",
              "    </tr>\n",
              "    <tr>\n",
              "      <th>1</th>\n",
              "      <td>(ENST00000410108,)</td>\n",
              "      <td>90</td>\n",
              "      <td>1</td>\n",
              "    </tr>\n",
              "    <tr>\n",
              "      <th>2</th>\n",
              "      <td>(ENST00000410108, ENST00000529614, ENST0000033...</td>\n",
              "      <td>17</td>\n",
              "      <td>5</td>\n",
              "    </tr>\n",
              "    <tr>\n",
              "      <th>3</th>\n",
              "      <td>(ENST00000410108, ENST00000486280, ENST0000033...</td>\n",
              "      <td>2</td>\n",
              "      <td>5</td>\n",
              "    </tr>\n",
              "    <tr>\n",
              "      <th>4</th>\n",
              "      <td>(ENST00000410108, ENST00000332865, ENST0000038...</td>\n",
              "      <td>1</td>\n",
              "      <td>4</td>\n",
              "    </tr>\n",
              "    <tr>\n",
              "      <th>...</th>\n",
              "      <td>...</td>\n",
              "      <td>...</td>\n",
              "      <td>...</td>\n",
              "    </tr>\n",
              "    <tr>\n",
              "      <th>14128</th>\n",
              "      <td>(ENST00000455971,)</td>\n",
              "      <td>1</td>\n",
              "      <td>1</td>\n",
              "    </tr>\n",
              "    <tr>\n",
              "      <th>14129</th>\n",
              "      <td>(ENST00000339772, ENST00000535456)</td>\n",
              "      <td>12</td>\n",
              "      <td>2</td>\n",
              "    </tr>\n",
              "    <tr>\n",
              "      <th>14130</th>\n",
              "      <td>(ENST00000431683, ENST00000389887, ENST0000033...</td>\n",
              "      <td>1</td>\n",
              "      <td>4</td>\n",
              "    </tr>\n",
              "    <tr>\n",
              "      <th>14131</th>\n",
              "      <td>(ENST00000524765,)</td>\n",
              "      <td>9</td>\n",
              "      <td>1</td>\n",
              "    </tr>\n",
              "    <tr>\n",
              "      <th>14132</th>\n",
              "      <td>(ENST00000392580, ENST00000524765, ENST0000031...</td>\n",
              "      <td>3</td>\n",
              "      <td>3</td>\n",
              "    </tr>\n",
              "  </tbody>\n",
              "</table>\n",
              "<p>14133 rows × 3 columns</p>\n",
              "</div>\n",
              "      <button class=\"colab-df-convert\" onclick=\"convertToInteractive('df-4031807d-48f3-4230-b321-8ff4145cdfd9')\"\n",
              "              title=\"Convert this dataframe to an interactive table.\"\n",
              "              style=\"display:none;\">\n",
              "        \n",
              "  <svg xmlns=\"http://www.w3.org/2000/svg\" height=\"24px\"viewBox=\"0 0 24 24\"\n",
              "       width=\"24px\">\n",
              "    <path d=\"M0 0h24v24H0V0z\" fill=\"none\"/>\n",
              "    <path d=\"M18.56 5.44l.94 2.06.94-2.06 2.06-.94-2.06-.94-.94-2.06-.94 2.06-2.06.94zm-11 1L8.5 8.5l.94-2.06 2.06-.94-2.06-.94L8.5 2.5l-.94 2.06-2.06.94zm10 10l.94 2.06.94-2.06 2.06-.94-2.06-.94-.94-2.06-.94 2.06-2.06.94z\"/><path d=\"M17.41 7.96l-1.37-1.37c-.4-.4-.92-.59-1.43-.59-.52 0-1.04.2-1.43.59L10.3 9.45l-7.72 7.72c-.78.78-.78 2.05 0 2.83L4 21.41c.39.39.9.59 1.41.59.51 0 1.02-.2 1.41-.59l7.78-7.78 2.81-2.81c.8-.78.8-2.07 0-2.86zM5.41 20L4 18.59l7.72-7.72 1.47 1.35L5.41 20z\"/>\n",
              "  </svg>\n",
              "      </button>\n",
              "      \n",
              "  <style>\n",
              "    .colab-df-container {\n",
              "      display:flex;\n",
              "      flex-wrap:wrap;\n",
              "      gap: 12px;\n",
              "    }\n",
              "\n",
              "    .colab-df-convert {\n",
              "      background-color: #E8F0FE;\n",
              "      border: none;\n",
              "      border-radius: 50%;\n",
              "      cursor: pointer;\n",
              "      display: none;\n",
              "      fill: #1967D2;\n",
              "      height: 32px;\n",
              "      padding: 0 0 0 0;\n",
              "      width: 32px;\n",
              "    }\n",
              "\n",
              "    .colab-df-convert:hover {\n",
              "      background-color: #E2EBFA;\n",
              "      box-shadow: 0px 1px 2px rgba(60, 64, 67, 0.3), 0px 1px 3px 1px rgba(60, 64, 67, 0.15);\n",
              "      fill: #174EA6;\n",
              "    }\n",
              "\n",
              "    [theme=dark] .colab-df-convert {\n",
              "      background-color: #3B4455;\n",
              "      fill: #D2E3FC;\n",
              "    }\n",
              "\n",
              "    [theme=dark] .colab-df-convert:hover {\n",
              "      background-color: #434B5C;\n",
              "      box-shadow: 0px 1px 3px 1px rgba(0, 0, 0, 0.15);\n",
              "      filter: drop-shadow(0px 1px 2px rgba(0, 0, 0, 0.3));\n",
              "      fill: #FFFFFF;\n",
              "    }\n",
              "  </style>\n",
              "\n",
              "      <script>\n",
              "        const buttonEl =\n",
              "          document.querySelector('#df-4031807d-48f3-4230-b321-8ff4145cdfd9 button.colab-df-convert');\n",
              "        buttonEl.style.display =\n",
              "          google.colab.kernel.accessAllowed ? 'block' : 'none';\n",
              "\n",
              "        async function convertToInteractive(key) {\n",
              "          const element = document.querySelector('#df-4031807d-48f3-4230-b321-8ff4145cdfd9');\n",
              "          const dataTable =\n",
              "            await google.colab.kernel.invokeFunction('convertToInteractive',\n",
              "                                                     [key], {});\n",
              "          if (!dataTable) return;\n",
              "\n",
              "          const docLinkHtml = 'Like what you see? Visit the ' +\n",
              "            '<a target=\"_blank\" href=https://colab.research.google.com/notebooks/data_table.ipynb>data table notebook</a>'\n",
              "            + ' to learn more about interactive tables.';\n",
              "          element.innerHTML = '';\n",
              "          dataTable['output_type'] = 'display_data';\n",
              "          await google.colab.output.renderOutput(dataTable, element);\n",
              "          const docLink = document.createElement('div');\n",
              "          docLink.innerHTML = docLinkHtml;\n",
              "          element.appendChild(docLink);\n",
              "        }\n",
              "      </script>\n",
              "    </div>\n",
              "  </div>\n",
              "  "
            ]
          },
          "metadata": {},
          "execution_count": 327
        }
      ]
    },
    {
      "cell_type": "code",
      "source": [
        "#rearrange columns to look like the example in the project description\n",
        "df2 = df.iloc[:,[1,2,0]]\n",
        "df2"
      ],
      "metadata": {
        "colab": {
          "base_uri": "https://localhost:8080/",
          "height": 424
        },
        "id": "lpYTxaGBh_ZF",
        "outputId": "0f57a8f7-82ee-4eec-8ff8-ba74d15a8379"
      },
      "execution_count": null,
      "outputs": [
        {
          "output_type": "execute_result",
          "data": {
            "text/plain": [
              "       counts  number of items in equivalence class  \\\n",
              "0          52                                     5   \n",
              "1          90                                     1   \n",
              "2          17                                     5   \n",
              "3           2                                     5   \n",
              "4           1                                     4   \n",
              "...       ...                                   ...   \n",
              "14128       1                                     1   \n",
              "14129      12                                     2   \n",
              "14130       1                                     4   \n",
              "14131       9                                     1   \n",
              "14132       3                                     3   \n",
              "\n",
              "                           isoforms in equivalence class  \n",
              "0      (ENST00000410108, ENST00000332865, ENST0000048...  \n",
              "1                                     (ENST00000410108,)  \n",
              "2      (ENST00000410108, ENST00000529614, ENST0000033...  \n",
              "3      (ENST00000410108, ENST00000486280, ENST0000033...  \n",
              "4      (ENST00000410108, ENST00000332865, ENST0000038...  \n",
              "...                                                  ...  \n",
              "14128                                 (ENST00000455971,)  \n",
              "14129                 (ENST00000339772, ENST00000535456)  \n",
              "14130  (ENST00000431683, ENST00000389887, ENST0000033...  \n",
              "14131                                 (ENST00000524765,)  \n",
              "14132  (ENST00000392580, ENST00000524765, ENST0000031...  \n",
              "\n",
              "[14133 rows x 3 columns]"
            ],
            "text/html": [
              "\n",
              "  <div id=\"df-e28c848f-4620-4e01-90e1-6d953e403335\">\n",
              "    <div class=\"colab-df-container\">\n",
              "      <div>\n",
              "<style scoped>\n",
              "    .dataframe tbody tr th:only-of-type {\n",
              "        vertical-align: middle;\n",
              "    }\n",
              "\n",
              "    .dataframe tbody tr th {\n",
              "        vertical-align: top;\n",
              "    }\n",
              "\n",
              "    .dataframe thead th {\n",
              "        text-align: right;\n",
              "    }\n",
              "</style>\n",
              "<table border=\"1\" class=\"dataframe\">\n",
              "  <thead>\n",
              "    <tr style=\"text-align: right;\">\n",
              "      <th></th>\n",
              "      <th>counts</th>\n",
              "      <th>number of items in equivalence class</th>\n",
              "      <th>isoforms in equivalence class</th>\n",
              "    </tr>\n",
              "  </thead>\n",
              "  <tbody>\n",
              "    <tr>\n",
              "      <th>0</th>\n",
              "      <td>52</td>\n",
              "      <td>5</td>\n",
              "      <td>(ENST00000410108, ENST00000332865, ENST0000048...</td>\n",
              "    </tr>\n",
              "    <tr>\n",
              "      <th>1</th>\n",
              "      <td>90</td>\n",
              "      <td>1</td>\n",
              "      <td>(ENST00000410108,)</td>\n",
              "    </tr>\n",
              "    <tr>\n",
              "      <th>2</th>\n",
              "      <td>17</td>\n",
              "      <td>5</td>\n",
              "      <td>(ENST00000410108, ENST00000529614, ENST0000033...</td>\n",
              "    </tr>\n",
              "    <tr>\n",
              "      <th>3</th>\n",
              "      <td>2</td>\n",
              "      <td>5</td>\n",
              "      <td>(ENST00000410108, ENST00000486280, ENST0000033...</td>\n",
              "    </tr>\n",
              "    <tr>\n",
              "      <th>4</th>\n",
              "      <td>1</td>\n",
              "      <td>4</td>\n",
              "      <td>(ENST00000410108, ENST00000332865, ENST0000038...</td>\n",
              "    </tr>\n",
              "    <tr>\n",
              "      <th>...</th>\n",
              "      <td>...</td>\n",
              "      <td>...</td>\n",
              "      <td>...</td>\n",
              "    </tr>\n",
              "    <tr>\n",
              "      <th>14128</th>\n",
              "      <td>1</td>\n",
              "      <td>1</td>\n",
              "      <td>(ENST00000455971,)</td>\n",
              "    </tr>\n",
              "    <tr>\n",
              "      <th>14129</th>\n",
              "      <td>12</td>\n",
              "      <td>2</td>\n",
              "      <td>(ENST00000339772, ENST00000535456)</td>\n",
              "    </tr>\n",
              "    <tr>\n",
              "      <th>14130</th>\n",
              "      <td>1</td>\n",
              "      <td>4</td>\n",
              "      <td>(ENST00000431683, ENST00000389887, ENST0000033...</td>\n",
              "    </tr>\n",
              "    <tr>\n",
              "      <th>14131</th>\n",
              "      <td>9</td>\n",
              "      <td>1</td>\n",
              "      <td>(ENST00000524765,)</td>\n",
              "    </tr>\n",
              "    <tr>\n",
              "      <th>14132</th>\n",
              "      <td>3</td>\n",
              "      <td>3</td>\n",
              "      <td>(ENST00000392580, ENST00000524765, ENST0000031...</td>\n",
              "    </tr>\n",
              "  </tbody>\n",
              "</table>\n",
              "<p>14133 rows × 3 columns</p>\n",
              "</div>\n",
              "      <button class=\"colab-df-convert\" onclick=\"convertToInteractive('df-e28c848f-4620-4e01-90e1-6d953e403335')\"\n",
              "              title=\"Convert this dataframe to an interactive table.\"\n",
              "              style=\"display:none;\">\n",
              "        \n",
              "  <svg xmlns=\"http://www.w3.org/2000/svg\" height=\"24px\"viewBox=\"0 0 24 24\"\n",
              "       width=\"24px\">\n",
              "    <path d=\"M0 0h24v24H0V0z\" fill=\"none\"/>\n",
              "    <path d=\"M18.56 5.44l.94 2.06.94-2.06 2.06-.94-2.06-.94-.94-2.06-.94 2.06-2.06.94zm-11 1L8.5 8.5l.94-2.06 2.06-.94-2.06-.94L8.5 2.5l-.94 2.06-2.06.94zm10 10l.94 2.06.94-2.06 2.06-.94-2.06-.94-.94-2.06-.94 2.06-2.06.94z\"/><path d=\"M17.41 7.96l-1.37-1.37c-.4-.4-.92-.59-1.43-.59-.52 0-1.04.2-1.43.59L10.3 9.45l-7.72 7.72c-.78.78-.78 2.05 0 2.83L4 21.41c.39.39.9.59 1.41.59.51 0 1.02-.2 1.41-.59l7.78-7.78 2.81-2.81c.8-.78.8-2.07 0-2.86zM5.41 20L4 18.59l7.72-7.72 1.47 1.35L5.41 20z\"/>\n",
              "  </svg>\n",
              "      </button>\n",
              "      \n",
              "  <style>\n",
              "    .colab-df-container {\n",
              "      display:flex;\n",
              "      flex-wrap:wrap;\n",
              "      gap: 12px;\n",
              "    }\n",
              "\n",
              "    .colab-df-convert {\n",
              "      background-color: #E8F0FE;\n",
              "      border: none;\n",
              "      border-radius: 50%;\n",
              "      cursor: pointer;\n",
              "      display: none;\n",
              "      fill: #1967D2;\n",
              "      height: 32px;\n",
              "      padding: 0 0 0 0;\n",
              "      width: 32px;\n",
              "    }\n",
              "\n",
              "    .colab-df-convert:hover {\n",
              "      background-color: #E2EBFA;\n",
              "      box-shadow: 0px 1px 2px rgba(60, 64, 67, 0.3), 0px 1px 3px 1px rgba(60, 64, 67, 0.15);\n",
              "      fill: #174EA6;\n",
              "    }\n",
              "\n",
              "    [theme=dark] .colab-df-convert {\n",
              "      background-color: #3B4455;\n",
              "      fill: #D2E3FC;\n",
              "    }\n",
              "\n",
              "    [theme=dark] .colab-df-convert:hover {\n",
              "      background-color: #434B5C;\n",
              "      box-shadow: 0px 1px 3px 1px rgba(0, 0, 0, 0.15);\n",
              "      filter: drop-shadow(0px 1px 2px rgba(0, 0, 0, 0.3));\n",
              "      fill: #FFFFFF;\n",
              "    }\n",
              "  </style>\n",
              "\n",
              "      <script>\n",
              "        const buttonEl =\n",
              "          document.querySelector('#df-e28c848f-4620-4e01-90e1-6d953e403335 button.colab-df-convert');\n",
              "        buttonEl.style.display =\n",
              "          google.colab.kernel.accessAllowed ? 'block' : 'none';\n",
              "\n",
              "        async function convertToInteractive(key) {\n",
              "          const element = document.querySelector('#df-e28c848f-4620-4e01-90e1-6d953e403335');\n",
              "          const dataTable =\n",
              "            await google.colab.kernel.invokeFunction('convertToInteractive',\n",
              "                                                     [key], {});\n",
              "          if (!dataTable) return;\n",
              "\n",
              "          const docLinkHtml = 'Like what you see? Visit the ' +\n",
              "            '<a target=\"_blank\" href=https://colab.research.google.com/notebooks/data_table.ipynb>data table notebook</a>'\n",
              "            + ' to learn more about interactive tables.';\n",
              "          element.innerHTML = '';\n",
              "          dataTable['output_type'] = 'display_data';\n",
              "          await google.colab.output.renderOutput(dataTable, element);\n",
              "          const docLink = document.createElement('div');\n",
              "          docLink.innerHTML = docLinkHtml;\n",
              "          element.appendChild(docLink);\n",
              "        }\n",
              "      </script>\n",
              "    </div>\n",
              "  </div>\n",
              "  "
            ]
          },
          "metadata": {},
          "execution_count": 335
        }
      ]
    },
    {
      "cell_type": "code",
      "source": [
        "df2.to_csv('pseudoalingment.csv', index=False) #save csv"
      ],
      "metadata": {
        "id": "7leUBlU1qVIc"
      },
      "execution_count": null,
      "outputs": []
    },
    {
      "cell_type": "code",
      "source": [
        "#make dict with total counts for each size eqv class\n",
        "graph = {} #number of items in equivalence class | counts\n",
        "for i in range(0, len(df2)):\n",
        "    if(df2.iloc[i,1] in graph.keys()): #number of items already in dict\n",
        "        graph[df2.iloc[i,1]] += df2.iloc[i,0]\n",
        "    else:\n",
        "        graph[df2.iloc[i,1]] = df2.iloc[i,0]\n",
        "graph"
      ],
      "metadata": {
        "id": "IGRhMXcZp5Kr"
      },
      "execution_count": null,
      "outputs": []
    },
    {
      "cell_type": "code",
      "source": [
        "#turn that dict into a data frame\n",
        "pd.DataFrame(graph.items())\n",
        "plot = pd.DataFrame(graph.items(), columns=['number of items in equivalence class', 'counts'])\n",
        "\n",
        "plot"
      ],
      "metadata": {
        "id": "qM_xXbICqrV8"
      },
      "execution_count": null,
      "outputs": []
    },
    {
      "cell_type": "code",
      "source": [
        "#graph the dataframe\n",
        "plt.scatter(plot['number of items in equivalence class'], plot['counts'])\n",
        "plt.title(\"Data Mapping to Different Sized Equivalence Classes\")\n",
        "plt.xlabel(\"number of items in equivalence class\")\n",
        "plt.ylabel(\"counts\")\n",
        "plt.show()\n"
      ],
      "metadata": {
        "colab": {
          "base_uri": "https://localhost:8080/",
          "height": 295
        },
        "id": "Y6DK_x7ipg2U",
        "outputId": "ab4398e1-d233-47d4-f8b5-eb20a058e103"
      },
      "execution_count": null,
      "outputs": [
        {
          "output_type": "display_data",
          "data": {
            "text/plain": [
              "<Figure size 432x288 with 1 Axes>"
            ],
            "image/png": "[encoded data removed]"
          },
          "metadata": {
            "needs_background": "light"
          }
        }
      ]
    },
    {
      "cell_type": "markdown",
      "source": [
        "The above figure shows the amount of reads that map to certain sized equivalence classes. As one can see, there appears to be a relationship that looks like an exponential regression in the figure. As the number of isoforms in the equivalence class increases, less reads map to that particular equivalence class."
      ],
      "metadata": {
        "id": "neIZfsyV5Qbg"
      }
    }
  ]
}
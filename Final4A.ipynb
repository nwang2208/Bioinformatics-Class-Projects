{
  "cells": [
    {
      "cell_type": "markdown",
      "metadata": {
        "id": "view-in-github",
        "colab_type": "text"
      },
      "source": [
        "<a href=\"https://colab.research.google.com/github/nwang2208/Bioinformatics-Class-Projects/blob/mapping-reads/Final4A.ipynb\" target=\"_parent\"><img src=\"https://colab.research.google.com/assets/colab-badge.svg\" alt=\"Open In Colab\"/></a>"
      ]
    },
    {
      "cell_type": "code",
      "execution_count": null,
      "metadata": {
        "id": "DiBVB0Vb5A-z"
      },
      "outputs": [],
      "source": [
        "k = 10\n",
        "m = 10"
      ]
    },
    {
      "cell_type": "code",
      "execution_count": null,
      "metadata": {
        "id": "1qbsIxE25oMu"
      },
      "outputs": [],
      "source": [
        "!pip install Bio"
      ]
    },
    {
      "cell_type": "code",
      "execution_count": null,
      "metadata": {
        "id": "-ZWW-yqF5qba"
      },
      "outputs": [],
      "source": [
        "from Bio import SeqIO\n",
        "import pickle\n",
        "import numpy as np"
      ]
    },
    {
      "cell_type": "markdown",
      "metadata": {
        "id": "C1F1vCS25ROl"
      },
      "source": [
        "Opening stuff"
      ]
    },
    {
      "cell_type": "code",
      "execution_count": null,
      "metadata": {
        "id": "GD3YkAK45Sez"
      },
      "outputs": [],
      "source": [
        "genome_dict = {}\n",
        "for i in range(999):\n",
        "    for seq_record in SeqIO.parse('/content/drive/MyDrive/122data/project4a-data/project4a_10000_genome_'+str(i)+'.fasta', \"fasta\"):\n",
        "        genome_dict[seq_record.id] = str(seq_record.seq)"
      ]
    },
    {
      "cell_type": "code",
      "execution_count": null,
      "metadata": {
        "id": "2TkRiNXH5YPK"
      },
      "outputs": [],
      "source": [
        "genome_kmer_dict = {}\n",
        "for key, value in genome_dict.items():\n",
        "    transcripts = []\n",
        "    for i in range(0, len(value)-k+1):\n",
        "        seq = value[i:i+k]\n",
        "        transcripts.append(seq)\n",
        "    genome_kmer_dict[key] = transcripts"
      ]
    },
    {
      "cell_type": "code",
      "execution_count": null,
      "metadata": {
        "id": "pVt8Hu6_5ujq"
      },
      "outputs": [],
      "source": [
        "reads = {}\n",
        "for seq_record in SeqIO.parse('/content/drive/MyDrive/122data/project4a-data/project4a_10000_reads.fasta', \"fasta\"):\n",
        "    reads[seq_record.id] = str(seq_record.seq)"
      ]
    },
    {
      "cell_type": "markdown",
      "metadata": {
        "id": "6v2-X839507e"
      },
      "source": [
        "Minimizing"
      ]
    },
    {
      "cell_type": "code",
      "execution_count": null,
      "metadata": {
        "id": "7HKECXgc51qX"
      },
      "outputs": [],
      "source": [
        "def minKmer(read):\n",
        "    kmers_list = []\n",
        "    for i in range(0,len(read)-m+1):\n",
        "        seq = read[i:i+m]\n",
        "        kmers_list.append(seq)\n",
        "    final = min(x for x in kmers_list if isinstance(x, str))\n",
        "    return final,kmers_list"
      ]
    },
    {
      "cell_type": "code",
      "execution_count": null,
      "metadata": {
        "id": "LctxAnDA53te"
      },
      "outputs": [],
      "source": [
        "min_dict = {}\n",
        "kmer_dict = {}\n",
        "for key, value in reads.items():\n",
        "    final = minKmer(value)\n",
        "    min_dict[key] = final[0]\n",
        "    kmer_dict[key] = final[1]"
      ]
    },
    {
      "cell_type": "markdown",
      "metadata": {
        "id": "QzpCsZpp5-15"
      },
      "source": [
        "Open map_dict"
      ]
    },
    {
      "cell_type": "code",
      "source": [
        "map_dict = {}\n",
        "for key1, value1 in min_dict.items():\n",
        "    for key2, value2 in genome_dict.items():\n",
        "        if key1 in map_dict.keys() and value1 in value2:\n",
        "            map_dict[key1].append(key2)\n",
        "        elif value1 in value2:\n",
        "            map_dict[key1] = [key2]\n",
        "\n",
        "from google.colab import auth\n",
        "from googleapiclient.discovery import build\n",
        "from googleapiclient.errors import HttpError\n",
        "from googleapiclient.http import MediaFileUpload\n",
        "import pickle\n",
        "\n",
        "with open('data.pickle', 'wb') as handle:\n",
        "    pickle.dump(map_dict, handle, protocol=pickle.HIGHEST_PROTOCOL)\n",
        "\n",
        "#Authenticate and construct the Drive API client\n",
        "auth.authenticate_user()\n",
        "drive_service = build('drive', 'v3')\n",
        "\n",
        "file_metadata = {'name': 'data.pickle'}\n",
        "media = MediaFileUpload('data.pickle', mimetype='application/octet-stream')\n",
        "file = drive_service.files().create(body=file_metadata, media_body=media,\n",
        "                                    fields='id').execute()"
      ],
      "metadata": {
        "id": "hs3NfcL9uR9E"
      },
      "execution_count": null,
      "outputs": []
    },
    {
      "cell_type": "code",
      "execution_count": null,
      "metadata": {
        "id": "WLkIO7g_5__J"
      },
      "outputs": [],
      "source": [
        "map_dict = open('/content/drive/MyDrive/data.pickle', 'rb')\n",
        "map_dict = pickle.load(map_dict)"
      ]
    },
    {
      "cell_type": "code",
      "execution_count": null,
      "metadata": {
        "id": "vvc9AJSUK0R_"
      },
      "outputs": [],
      "source": [
        "map_dict"
      ]
    },
    {
      "cell_type": "code",
      "execution_count": null,
      "metadata": {
        "id": "cg0dJzRnL0Sm"
      },
      "outputs": [],
      "source": [
        "map_dict2 = {}\n",
        "for key1, value1 in min_dict.items():\n",
        "    for key2, value2 in genome_dict.items():\n",
        "        if key1 in map_dict2.keys() and value1 in value2:\n",
        "            map_dict2[key1].append(key2)\n",
        "        elif value1 in value2:\n",
        "            map_dict2[key1] = [key2]"
      ]
    },
    {
      "cell_type": "markdown",
      "metadata": {
        "id": "fCgJCnTM4f5Z"
      },
      "source": [
        "Map to genomes"
      ]
    },
    {
      "cell_type": "code",
      "execution_count": null,
      "metadata": {
        "id": "n7xPk7eU4b1D"
      },
      "outputs": [],
      "source": [
        "def transcriptTime(genome):\n",
        "    start = 0\n",
        "    end = 0\n",
        "    transcript={}\n",
        "    for i in range(0, len(genome)):\n",
        "        end = i + k\n",
        "        if(end > len(genome)):\n",
        "          break\n",
        "        seq = genome[i:end]\n",
        "        if seq in transcript.keys():\n",
        "          transcript[seq].append(i)\n",
        "        else:\n",
        "          transcript[seq] = [i]\n",
        "\n",
        "    return(transcript)"
      ]
    },
    {
      "cell_type": "code",
      "execution_count": null,
      "metadata": {
        "id": "esvyZvL94lgE"
      },
      "outputs": [],
      "source": [
        "def scoring(positions): #helps alignRead\n",
        "\n",
        "    #first find the ranges\n",
        "    r1 = {}\n",
        "    r2 = {}\n",
        "    r3 = {}\n",
        "\n",
        "\n",
        "\n",
        "    for x in range(0, len(positions)):\n",
        "        for y in range(0, len(positions[x])):\n",
        "            pos = positions[x][y]\n",
        "            if len(str(pos)) == 3: #3 digit number\n",
        "                rg = int(str(pos)[:2] + str(0))\n",
        "            elif len(str(pos)) == 2: #2 digit number\n",
        "                rg = int(str(pos)[0] + str(0))\n",
        "            else: #single digit\n",
        "                rg = pos\n",
        "\n",
        "            if(x < 15):\n",
        "                if rg in r1.keys():\n",
        "                    r1[rg] += 1\n",
        "                else:\n",
        "                    r1[rg] = 1\n",
        "            elif(x < 30):\n",
        "                if rg in r2.keys():\n",
        "                    r2[rg] += 1\n",
        "                else:\n",
        "                    r2[rg] = 1\n",
        "            else:\n",
        "                if rg in r3.keys():\n",
        "                    r3[rg] += 1\n",
        "                else:\n",
        "                    r3[rg] = 1\n",
        "\n",
        "\n",
        "\n",
        "    #now score\n",
        "    final_positions = []\n",
        "    scores = {}\n",
        "    ranges = {}\n",
        "    one_score = 0\n",
        "    for x in range(0, len(positions)):\n",
        "          if len(positions[x]) > 1: #there are multiple positions to choose from\n",
        "              for i in range(0, len(positions[x])):\n",
        "                  if(len(str(positions[x][i])) == 3): #3 digit number\n",
        "                      kee = int(str(positions[x][i])[:2] + str(0))\n",
        "                  elif len(str(positions[x][i])) == 2: #2 digit number\n",
        "                      kee = int(str(positions[x][i])[0] + str(0))\n",
        "                  else: #single digit number\n",
        "                      kee = positions[x][i]\n",
        "\n",
        "                  kee_before = kee - 10\n",
        "                  kee_after = kee + 10\n",
        "\n",
        "                  if(x < 15):\n",
        "                      ranges = r1.copy()\n",
        "                  elif(x < 30):\n",
        "                      ranges = r2.copy()\n",
        "                  else:\n",
        "                      ranges = r3.copy()\n",
        "\n",
        "\n",
        "\n",
        "\n",
        "                  if(kee_before in ranges.keys()):\n",
        "                      score1 = ranges[kee_before]\n",
        "                      one_score += score1\n",
        "                  if(kee in ranges.keys()):\n",
        "                      score2 = ranges[kee]\n",
        "                      one_score += score2\n",
        "                  if(kee_after in ranges.keys()):\n",
        "                      score3 = ranges[kee_after]\n",
        "                      one_score += score3\n",
        "\n",
        "                  scores[positions[x][i]] = one_score\n",
        "                  one_score = 0\n",
        "              best_pos = maxDict(scores)\n",
        "              final_positions.append(best_pos)\n",
        "              scores = {}\n",
        "          else:\n",
        "              final_positions.append(positions[x][0])\n",
        "\n",
        "    return(final_positions)"
      ]
    },
    {
      "cell_type": "code",
      "execution_count": null,
      "metadata": {
        "id": "Np8L8igP4tu1"
      },
      "outputs": [],
      "source": [
        "def screening(final_positions, positions): #if there are consecutive positions and they accidentally chose the wrong ones, let's bring back incrememnting consecutive positions\n",
        "    for r in range(1, len(final_positions)-1):\n",
        "        num_interest = final_positions[r]\n",
        "        before_num = final_positions[r - 1]\n",
        "        after_num = final_positions[r + 1]\n",
        "        if((num_interest != before_num+1) and (num_interest != after_num-1)): #both sides aren't good\n",
        "            for i in range(0, len(positions[r])):\n",
        "                if(positions[r][i] == before_num+1 and positions[r][i] == after_num-1): #ranges didn't catch things\n",
        "                    final_positions[r] = positions[r][i]\n",
        "                    break\n",
        "                else:\n",
        "                    final_positions[r] = 10000\n",
        "        elif(num_interest != before_num+1 and after_num == 10000): #after is a non match\n",
        "            for i in range(0, len(positions[r])):\n",
        "                if(positions[r][i] == before_num+1): #ranges didn't catch things\n",
        "                    final_positions[r] = positions[r][i]\n",
        "                    break\n",
        "                else:\n",
        "                    final_positions[r] = 10000\n",
        "        elif(num_interest != after_num-1 and before_num == 10000): #before is nonmatch\n",
        "            for i in range(0, len(positions[r])):\n",
        "                if(positions[r][i] == after_num-1): #ranges didn't catch things\n",
        "                    final_positions[r] = positions[r][i]\n",
        "                    break\n",
        "                else:\n",
        "                    final_positions[r] = 10000\n",
        "        elif(num_interest != before_num+1 and after_num != 10000 and before_num != 10000): #let's try to match our nums\n",
        "            for i in range(0, len(positions[r])):\n",
        "                if(positions[r][i] == before_num+1): #ranges didn't catch things\n",
        "                    final_positions[r] = positions[r][i]\n",
        "                    break\n",
        "                else:\n",
        "                    final_positions[r] = 10000\n",
        "\n",
        "    #now go through the list again to make sure no false 10000\n",
        "    for a in range(1, len(final_positions) - 1):\n",
        "        num_interest = final_positions[a]\n",
        "        before_num = final_positions[a - 1]\n",
        "        after_num = final_positions[a + 1]\n",
        "\n",
        "        if (num_interest == 10000 and before_num != 10000): #before is a normal number\n",
        "            for j in range(0, len(positions[a])):\n",
        "                if(positions[a][j] == before_num + 1):\n",
        "                    final_positions[a] = positions[a][j]\n",
        "                    break\n",
        "        elif(num_interest == 10000 and after_num != 10000): #after is a normal number\n",
        "            for j in range(0, len(positions[a])):\n",
        "                if(positions[a][j] == after_num - 1):\n",
        "                    final_positions[a] = positions[a][j]\n",
        "                    break\n",
        "\n",
        "\n",
        "\n",
        "\n",
        "#we need to look at the last base too\n",
        "    #if(final_positions[len(final_positions) - 1] != final_positions[len(final_positions)-2]):\n",
        "        #for i in range(0, len(positions[r])):\n",
        "                #if(positions[len(final_positions) - 1][i] == final_positions[len(final_positions)-2]): #ranges didn't catch things\n",
        "                    #final_positions[len(final_positions) - 1] = positions[len(final_positions) - 1][i]\n",
        "                    #break\n",
        "                #else:\n",
        "                    #final_positions[len(final_positions) - 1] = 10000\n",
        "\n",
        "\n",
        "    return(final_positions)"
      ]
    },
    {
      "cell_type": "code",
      "execution_count": null,
      "metadata": {
        "id": "b9mjw58c4uPq"
      },
      "outputs": [],
      "source": [
        "def maxDict(d): #helps(alignRead)\n",
        "  return max(d, key = d.get)"
      ]
    },
    {
      "cell_type": "code",
      "execution_count": null,
      "metadata": {
        "id": "Erq8N7AH4wpY"
      },
      "outputs": [],
      "source": [
        "def alignRead(kmer_list, genome): #final positions assigns a position to all bases, whether or not that is a good thing\n",
        "    start = 0\n",
        "    end = 0\n",
        "    positions = []\n",
        "    transcript = transcriptTime(genome)\n",
        "\n",
        "    for seq in kmer_list:\n",
        "        if seq in transcript.keys(): #match with ref\n",
        "            positions.append(transcript[seq])\n",
        "        else:\n",
        "            positions.append([10000])\n",
        "\n",
        "    positions2 = scoring(positions)\n",
        "    final_positions = screening(positions2, positions)\n",
        "\n",
        "\n",
        "    return(final_positions)"
      ]
    },
    {
      "cell_type": "code",
      "execution_count": null,
      "metadata": {
        "id": "_c5IfYRt4yxV"
      },
      "outputs": [],
      "source": [
        "def splitList(final_positions):\n",
        "    #screen out just wrong numbers\n",
        "    split_list = {}\n",
        "    count = 0\n",
        "    for pos in final_positions:\n",
        "        if(pos != 10000):\n",
        "            if(count in split_list.keys()):\n",
        "                split_list[count].append(pos)\n",
        "            else:\n",
        "                split_list[count] = [pos]\n",
        "        elif(pos == 10000):\n",
        "              count += 1\n",
        "              if(count-1 in split_list.keys()):\n",
        "                  a = 'nothing'\n",
        "              else:\n",
        "                  count -= 1\n",
        "\n",
        "    return(split_list)"
      ]
    },
    {
      "cell_type": "code",
      "execution_count": null,
      "metadata": {
        "id": "EQqxC_Px40rc"
      },
      "outputs": [],
      "source": [
        "def matchPos(split_list): #maybe just skip ahead of final_positions when you hit 1000 and see if you hit a good position a certain amount of kmers away\n",
        "    match_pos = {}\n",
        "    match_pos[0] = split_list[0].copy()\n",
        "    match_key = 0\n",
        "\n",
        "    #creating match_pos, a dict with only positions of bases that are right, this only works for substituion rn\n",
        "    keeplast = 0\n",
        "    prev_list = 0\n",
        "    prev_index = 0\n",
        "    for t in range(1, len(split_list)):\n",
        "        firstofnext = split_list[t][0]\n",
        "        if (keeplast != 1):\n",
        "            prev_list = t-1\n",
        "            prev_index = len(split_list[prev_list]) - 1\n",
        "            keeplast = 0\n",
        "\n",
        "        lastofprev = split_list[prev_list][prev_index]\n",
        "\n",
        "        #both del and in look the same in matchPos\n",
        "        if(0 <= firstofnext - lastofprev <= k*3):\n",
        "            match_key += 1\n",
        "            match_pos[match_key] = split_list[t]\n",
        "            keeplast = 0\n",
        "        else:\n",
        "            keeplast = 1\n",
        "\n",
        "    return(match_pos)"
      ]
    },
    {
      "cell_type": "code",
      "execution_count": null,
      "metadata": {
        "id": "WfsfXACp43AT"
      },
      "outputs": [],
      "source": [
        "def bestGenome(matchposlist):\n",
        "    score_genomes = {}\n",
        "    for key, value in matchposlist.items():\n",
        "        score = 0\n",
        "        for key2, value2 in value.items():\n",
        "            score += len(value2)\n",
        "        score_genomes[key] = score\n",
        "\n",
        "    genomes_list = []\n",
        "    big = max(score_genomes.values())\n",
        "    for key, value in score_genomes.items():\n",
        "          if(value == big):\n",
        "              genomes_list.append(key)\n",
        "\n",
        "    return(genomes_list)\n",
        "\n",
        "\n",
        "\n",
        ""
      ]
    },
    {
      "cell_type": "code",
      "execution_count": null,
      "metadata": {
        "id": "3dqJJF5z45LL"
      },
      "outputs": [],
      "source": [
        "def everythingMinWork(read_name, genome_list):\n",
        "\n",
        "    test_matches = {}\n",
        "\n",
        "\n",
        "\n",
        "    for el in genome_list:\n",
        "        final_positions = alignRead(kmer_dict[read_name], genome_dict[el])\n",
        "        split_list = splitList(final_positions)\n",
        "        if(len(split_list) > 0):\n",
        "            match_pos = matchPos(split_list)\n",
        "        else:\n",
        "            match_pos = {}\n",
        "\n",
        "        test_matches[el] = match_pos #genome name | all the positions\n",
        "\n",
        "    for key, value in test_matches.items():\n",
        "        if(len(value) > 0):\n",
        "            return bestGenome(test_matches)\n",
        "        else:\n",
        "            return \"mismatch\"\n"
      ]
    },
    {
      "cell_type": "code",
      "execution_count": null,
      "metadata": {
        "id": "oWSr2g2S47Tf"
      },
      "outputs": [],
      "source": [
        "def everythingMinNoWork(read_name):\n",
        "      test_matches = {}\n",
        "\n",
        "      for key in genome_dict:\n",
        "          final_positions = alignRead(kmer_dict[read_name], genome_dict[key])\n",
        "          split_list = splitList(final_positions)\n",
        "          if(len(split_list) > 0):\n",
        "              match_pos = matchPos(split_list)\n",
        "          else:\n",
        "              match_pos = {}\n",
        "\n",
        "          test_matches[key] = match_pos\n",
        "\n",
        "      return bestGenome(test_matches)\n",
        "\n"
      ]
    },
    {
      "cell_type": "code",
      "execution_count": null,
      "metadata": {
        "id": "9-5SS7EYXkEx"
      },
      "outputs": [],
      "source": [
        "def everything(read_name, top10):\n",
        "      test_matches = {}\n",
        "      for el in top10:\n",
        "          final_positions = alignRead(kmer_dict[read_name], genome_dict[el])\n",
        "          split_list = splitList(final_positions)\n",
        "          if(len(split_list) > 0):\n",
        "              match_pos = matchPos(split_list)\n",
        "          else:\n",
        "              match_pos = {}\n",
        "\n",
        "          test_matches[el] = match_pos\n",
        "\n",
        "      return bestGenome(test_matches)\n"
      ]
    },
    {
      "cell_type": "markdown",
      "source": [
        "Testing out something...(meh)"
      ],
      "metadata": {
        "id": "2sTI69yYo_5J"
      }
    },
    {
      "cell_type": "code",
      "execution_count": null,
      "metadata": {
        "id": "RTjfyI6P8DTJ"
      },
      "outputs": [],
      "source": [
        "reads4 = {}\n",
        "for i in range(0, 100):\n",
        "    reads4['read_'+str(i)] = reads['read_'+str(i)]\n"
      ]
    },
    {
      "cell_type": "code",
      "execution_count": null,
      "metadata": {
        "id": "HORRLOn_6np4"
      },
      "outputs": [],
      "source": [
        "mtog_dict4 = {}\n",
        "\n",
        "\n",
        "for key in reads4:\n",
        "    if key in map_dict.keys():\n",
        "        pos = everythingMinWork(key)\n",
        "        if(pos != \"mismatch\"):\n",
        "            mtog_dict4[key] = pos\n",
        "        else:\n",
        "            pos = everythingMinNoWork(key)\n",
        "            mtog_dict4[key] = pos\n",
        "    else:\n",
        "          pos = everythingMinNoWork(key)\n",
        "          mtog_dict4[key] = pos\n",
        "\n"
      ]
    },
    {
      "cell_type": "code",
      "execution_count": null,
      "metadata": {
        "id": "rpXBh5ksVsLJ"
      },
      "outputs": [],
      "source": [
        "mtog_dict4"
      ]
    },
    {
      "cell_type": "code",
      "execution_count": null,
      "metadata": {
        "id": "61RV4UM4V1v_"
      },
      "outputs": [],
      "source": [
        "from google.colab import auth\n",
        "from googleapiclient.discovery import build\n",
        "from googleapiclient.errors import HttpError\n",
        "from googleapiclient.http import MediaFileUpload\n",
        "import pickle\n",
        "\n",
        "with open('mtog4.pickle', 'wb') as handle:\n",
        "    pickle.dump(mtog_dict4, handle, protocol=pickle.HIGHEST_PROTOCOL)\n",
        "\n",
        "#Authenticate and construct the Drive API client\n",
        "auth.authenticate_user()\n",
        "drive_service = build('drive', 'v3')\n",
        "\n",
        "file_metadata = {'name': 'mtog4.pickle'}\n",
        "media = MediaFileUpload('mtog4.pickle', mimetype='application/octet-stream')\n",
        "file = drive_service.files().create(body=file_metadata, media_body=media,\n",
        "                                    fields='id').execute()"
      ]
    },
    {
      "cell_type": "markdown",
      "metadata": {
        "id": "-i9KuFHIWDJB"
      },
      "source": [
        "Pick out top 10 genomes"
      ]
    },
    {
      "cell_type": "code",
      "execution_count": null,
      "metadata": {
        "id": "EVchih1EWFJT"
      },
      "outputs": [],
      "source": [
        "map_dict"
      ]
    },
    {
      "cell_type": "code",
      "execution_count": null,
      "metadata": {
        "id": "jxZBdf2CWH_g"
      },
      "outputs": [],
      "source": [
        "count_dict = {}\n",
        "for key, value in map_dict.items():\n",
        "    for el in value:\n",
        "        if el in count_dict.keys():\n",
        "            count_dict[el] += 1\n",
        "        else:\n",
        "            count_dict[el] = 1\n"
      ]
    },
    {
      "cell_type": "code",
      "execution_count": null,
      "metadata": {
        "id": "I0jZyImTWUEJ"
      },
      "outputs": [],
      "source": [
        "sorted_dict = sorted(count_dict.items(), key=lambda x:x[1])\n",
        "sorted_dict = dict(sorted_dict)\n"
      ]
    },
    {
      "cell_type": "code",
      "execution_count": null,
      "metadata": {
        "id": "4SrHYduxW9Ww"
      },
      "outputs": [],
      "source": [
        "sorted_dict"
      ]
    },
    {
      "cell_type": "code",
      "execution_count": null,
      "metadata": {
        "id": "SIeicAO-Wgi0"
      },
      "outputs": [],
      "source": [
        "sorted_keys = list(sorted_dict.keys())"
      ]
    },
    {
      "cell_type": "code",
      "execution_count": null,
      "metadata": {
        "colab": {
          "base_uri": "https://localhost:8080/"
        },
        "id": "HtKBEglZXDeA",
        "outputId": "4a1266f7-c1d7-4c25-d516-9405a8a61ca4"
      },
      "outputs": [
        {
          "data": {
            "text/plain": [
              "999"
            ]
          },
          "execution_count": 52,
          "metadata": {},
          "output_type": "execute_result"
        }
      ],
      "source": [
        "len(sorted_keys)"
      ]
    },
    {
      "cell_type": "code",
      "execution_count": null,
      "metadata": {
        "id": "5UPxRycuXJY8"
      },
      "outputs": [],
      "source": [
        "top10 = sorted_keys[990:1000]"
      ]
    },
    {
      "cell_type": "code",
      "execution_count": null,
      "metadata": {
        "id": "Sfy9xz8ZXTV1",
        "colab": {
          "base_uri": "https://localhost:8080/"
        },
        "outputId": "f6605e7e-2aea-4462-cf35-aea0534abaf4"
      },
      "outputs": [
        {
          "output_type": "execute_result",
          "data": {
            "text/plain": [
              "['Genome_Number_634',\n",
              " 'Genome_Number_659',\n",
              " 'Genome_Number_671',\n",
              " 'Genome_Number_353',\n",
              " 'Genome_Number_146',\n",
              " 'Genome_Number_377',\n",
              " 'Genome_Number_622',\n",
              " 'Genome_Number_489',\n",
              " 'Genome_Number_358']"
            ]
          },
          "metadata": {},
          "execution_count": 38
        }
      ],
      "source": [
        "top10"
      ]
    },
    {
      "cell_type": "code",
      "source": [
        "top10_dict = {}\n",
        "\n",
        "for i in range(9):\n",
        "    top10_dict[top10[i]] = i"
      ],
      "metadata": {
        "id": "6mk0NSJFs8Vb"
      },
      "execution_count": null,
      "outputs": []
    },
    {
      "cell_type": "code",
      "source": [
        "top10_dict"
      ],
      "metadata": {
        "id": "PYY0GPYPtGI-"
      },
      "execution_count": null,
      "outputs": []
    },
    {
      "cell_type": "markdown",
      "metadata": {
        "id": "B9VjHgkNXVVL"
      },
      "source": [
        "Map all reads to the top 10 genomes"
      ]
    },
    {
      "cell_type": "code",
      "execution_count": null,
      "metadata": {
        "colab": {
          "background_save": true
        },
        "id": "wx5mCfkrXXwt"
      },
      "outputs": [],
      "source": [
        "final_dict = {}\n",
        "\n",
        "for key in reads:\n",
        "    final_dict[key] = everything(key, top10)\n",
        "\n",
        "\n",
        "from google.colab import auth\n",
        "from googleapiclient.discovery import build\n",
        "from googleapiclient.errors import HttpError\n",
        "from googleapiclient.http import MediaFileUpload\n",
        "import pickle\n",
        "\n",
        "with open('final.pickle', 'wb') as handle:\n",
        "    pickle.dump(final_dict, handle, protocol=pickle.HIGHEST_PROTOCOL)\n",
        "\n",
        "#Authenticate and construct the Drive API client\n",
        "auth.authenticate_user()\n",
        "drive_service = build('drive', 'v3')\n",
        "\n",
        "file_metadata = {'name': 'final.pickle'}\n",
        "media = MediaFileUpload('final.pickle', mimetype='application/octet-stream')\n",
        "file = drive_service.files().create(body=file_metadata, media_body=media,\n",
        "                                    fields='id').execute()\n",
        ""
      ]
    },
    {
      "cell_type": "code",
      "source": [
        "final_dict = open('/content/drive/MyDrive/final.pickle', 'rb')\n",
        "final_dict = pickle.load(final_dict)"
      ],
      "metadata": {
        "id": "4s1N3joaoYKK"
      },
      "execution_count": null,
      "outputs": []
    },
    {
      "cell_type": "code",
      "source": [
        "final_dict"
      ],
      "metadata": {
        "id": "JyJ3Kl1Do2ZQ"
      },
      "execution_count": null,
      "outputs": []
    },
    {
      "cell_type": "markdown",
      "source": [
        "Make sure each read maps to 1 genome"
      ],
      "metadata": {
        "id": "HtqZzjTso7B9"
      }
    },
    {
      "cell_type": "code",
      "source": [
        "ans_dict = {}\n",
        "\n",
        "for key, value in final_dict.items():\n",
        "    if(len(value) > 1):\n",
        "        max_num = top10_dict[value[0]]\n",
        "        max = value[0]\n",
        "        for i in range(1, len(value)):\n",
        "            if(top10_dict[value[i]] > max_num):\n",
        "                max_num = top10_dict[value[i]]\n",
        "                max = value[i]\n",
        "        ans_dict[\">\"+key] = max\n",
        "    elif(len(value) == 1):\n",
        "        ans_dict[\">\"+key] = value[0]\n",
        "    else:\n",
        "        ans_dict[\">\"+key] = 'Genome_Number_358'"
      ],
      "metadata": {
        "id": "B3QdG8ups0Vo"
      },
      "execution_count": null,
      "outputs": []
    },
    {
      "cell_type": "code",
      "source": [
        "len(ans_dict)"
      ],
      "metadata": {
        "colab": {
          "base_uri": "https://localhost:8080/"
        },
        "id": "qn8f_XwLvEbL",
        "outputId": "9944bfc2-fc16-40c1-9f3c-c03f37c221bc"
      },
      "execution_count": null,
      "outputs": [
        {
          "output_type": "execute_result",
          "data": {
            "text/plain": [
              "20000"
            ]
          },
          "metadata": {},
          "execution_count": 66
        }
      ]
    },
    {
      "cell_type": "code",
      "source": [
        "len(reads)"
      ],
      "metadata": {
        "colab": {
          "base_uri": "https://localhost:8080/"
        },
        "id": "be57BVKzxKTm",
        "outputId": "aba524a6-b15f-4758-c8bd-49149e0e5280"
      },
      "execution_count": null,
      "outputs": [
        {
          "output_type": "execute_result",
          "data": {
            "text/plain": [
              "20000"
            ]
          },
          "metadata": {},
          "execution_count": 63
        }
      ]
    },
    {
      "cell_type": "code",
      "source": [
        "ans_dict"
      ],
      "metadata": {
        "id": "z966uIMjxMi2"
      },
      "execution_count": null,
      "outputs": []
    },
    {
      "cell_type": "code",
      "source": [
        "ans = [0] * 20000\n",
        "\n",
        "i = 0\n",
        "for key, value in ans_dict.items():\n",
        "    ans[i] = key + ' ' + value\n",
        "    i+=1\n",
        ""
      ],
      "metadata": {
        "id": "WM8PzsqTvfL6"
      },
      "execution_count": null,
      "outputs": []
    },
    {
      "cell_type": "code",
      "source": [
        "ans"
      ],
      "metadata": {
        "id": "u5oAQhDtzH3b"
      },
      "execution_count": null,
      "outputs": []
    },
    {
      "cell_type": "code",
      "source": [
        "np.savetxt(\"predictions.csv\",\n",
        "           ans,\n",
        "           delimiter =\" \",  # Set the delimiter as a comma followed by a space\n",
        "           fmt ='% s')"
      ],
      "metadata": {
        "id": "yfQitpIfzJXD"
      },
      "execution_count": null,
      "outputs": []
    }
  ],
  "metadata": {
    "colab": {
      "provenance": [],
      "mount_file_id": "1OcicTZr6V29yWiIi27jfyFJ8HkplEEDz",
      "authorship_tag": "ABX9TyMC9A56Wf9xb7L4nepr65d2",
      "include_colab_link": true
    },
    "kernelspec": {
      "display_name": "Python 3",
      "name": "python3"
    },
    "language_info": {
      "name": "python"
    }
  },
  "nbformat": 4,
  "nbformat_minor": 0
}
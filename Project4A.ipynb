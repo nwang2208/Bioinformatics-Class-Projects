{
  "nbformat": 4,
  "nbformat_minor": 0,
  "metadata": {
    "colab": {
      "provenance": [],
      "mount_file_id": "1e7tFTMmKkbhg45Hl8RLEfsxKr474EILa",
      "authorship_tag": "ABX9TyNSerLGXi/uRzroZkWOdt1Z",
      "include_colab_link": true
    },
    "kernelspec": {
      "name": "python3",
      "display_name": "Python 3"
    },
    "language_info": {
      "name": "python"
    }
  },
  "cells": [
    {
      "cell_type": "markdown",
      "metadata": {
        "id": "view-in-github",
        "colab_type": "text"
      },
      "source": [
        "<a href=\"https://colab.research.google.com/github/nwang2208/Bioinformatics-Class-Projects/blob/mapping-reads/Project4A.ipynb\" target=\"_parent\"><img src=\"https://colab.research.google.com/assets/colab-badge.svg\" alt=\"Open In Colab\"/></a>"
      ]
    },
    {
      "cell_type": "code",
      "execution_count": null,
      "metadata": {
        "id": "g9TzRJdKRE7F"
      },
      "outputs": [],
      "source": [
        "!pip install Bio"
      ]
    },
    {
      "cell_type": "code",
      "source": [
        "from Bio import SeqIO\n",
        "import numpy as np"
      ],
      "metadata": {
        "id": "uqudfmMJRKUH"
      },
      "execution_count": null,
      "outputs": []
    },
    {
      "cell_type": "code",
      "source": [
        "m = 10\n",
        "k = 10"
      ],
      "metadata": {
        "id": "z-n7J_PAU6v4"
      },
      "execution_count": null,
      "outputs": []
    },
    {
      "cell_type": "markdown",
      "source": [
        "Upload genomes"
      ],
      "metadata": {
        "id": "EeuvuUqrRN71"
      }
    },
    {
      "cell_type": "code",
      "source": [
        "genome_dict = {}\n",
        "for i in range(999):\n",
        "    for seq_record in SeqIO.parse('/content/drive/MyDrive/122data/project4a-data/project4a_10000_genome_'+str(i)+'.fasta', \"fasta\"):\n",
        "        genome_dict[seq_record.id] = str(seq_record.seq)"
      ],
      "metadata": {
        "id": "Ej9Bp078RPc2"
      },
      "execution_count": null,
      "outputs": []
    },
    {
      "cell_type": "code",
      "source": [
        "genome_dict"
      ],
      "metadata": {
        "id": "tD5_gx11R0MM"
      },
      "execution_count": null,
      "outputs": []
    },
    {
      "cell_type": "code",
      "source": [
        "genome_kmer_dict = {}\n",
        "for key, value in genome_dict.items():\n",
        "    transcripts = []\n",
        "    for i in range(0, len(value)-k+1):\n",
        "        seq = value[i:i+k]\n",
        "        transcripts.append(seq)\n",
        "    genome_kmer_dict[key] = transcripts\n",
        "\n"
      ],
      "metadata": {
        "id": "MtqZu_lfbe1r"
      },
      "execution_count": null,
      "outputs": []
    },
    {
      "cell_type": "code",
      "source": [
        "genome_kmer_dict"
      ],
      "metadata": {
        "id": "nPPl9ucJb-Np"
      },
      "execution_count": null,
      "outputs": []
    },
    {
      "cell_type": "markdown",
      "source": [
        "Open reads"
      ],
      "metadata": {
        "id": "V3v-EdVsRzqp"
      }
    },
    {
      "cell_type": "code",
      "source": [
        "reads = {}\n",
        "for seq_record in SeqIO.parse('/content/drive/MyDrive/122data/project4a-data/project4a_10000_reads.fasta', \"fasta\"):\n",
        "    reads[seq_record.id] = str(seq_record.seq)\n",
        ""
      ],
      "metadata": {
        "id": "k1uudP6yR3Zz"
      },
      "execution_count": null,
      "outputs": []
    },
    {
      "cell_type": "code",
      "source": [
        "\n",
        "ans = open('/content/drive/MyDrive/122data/project4-sample/project4_sample_10000_reads_with_source_and_positions.fasta')\n",
        "ans = ans.readlines()"
      ],
      "metadata": {
        "id": "yN4m8lpESBfA"
      },
      "execution_count": null,
      "outputs": []
    },
    {
      "cell_type": "code",
      "source": [
        "ans"
      ],
      "metadata": {
        "id": "g-8qJGmOSIlA"
      },
      "execution_count": null,
      "outputs": []
    },
    {
      "cell_type": "markdown",
      "source": [
        "Minimizing"
      ],
      "metadata": {
        "id": "ypReCqzkTNXU"
      }
    },
    {
      "cell_type": "code",
      "source": [
        "def minKmer(read):\n",
        "    kmers_list = []\n",
        "    for i in range(0,len(read)-m+1):\n",
        "        seq = read[i:i+m]\n",
        "        kmers_list.append(seq)\n",
        "    final = min(x for x in kmers_list if isinstance(x, str))\n",
        "    return final,kmers_list\n"
      ],
      "metadata": {
        "id": "pTViYefGTP-j"
      },
      "execution_count": null,
      "outputs": []
    },
    {
      "cell_type": "code",
      "source": [
        "min_dict = {}\n",
        "kmer_dict = {}\n",
        "for key, value in reads.items():\n",
        "    final = minKmer(value)\n",
        "    min_dict[key] = final[0]\n",
        "    kmer_dict[key] = final[1]"
      ],
      "metadata": {
        "id": "dpdOzqF-Vo1k"
      },
      "execution_count": null,
      "outputs": []
    },
    {
      "cell_type": "code",
      "source": [
        "kmer_dict"
      ],
      "metadata": {
        "id": "wRk3bWSPXeEU"
      },
      "execution_count": null,
      "outputs": []
    },
    {
      "cell_type": "code",
      "source": [
        "min_dict"
      ],
      "metadata": {
        "id": "FYE9uyT3V2U_"
      },
      "execution_count": null,
      "outputs": []
    },
    {
      "cell_type": "markdown",
      "source": [
        "Map minimizers to genomes"
      ],
      "metadata": {
        "id": "dDxuz3FYWkNu"
      }
    },
    {
      "cell_type": "code",
      "source": [
        "map_dict = {}\n",
        "for key1, value1 in min_dict.items():\n",
        "    for key2, value2 in genome_dict.items():\n",
        "        if key1 in map_dict.keys() and value1 in value2:\n",
        "            map_dict[key1].append(key2)\n",
        "        elif value1 in value2:\n",
        "            map_dict[key1] = [key2]\n",
        "\n",
        "from google.colab import auth\n",
        "from googleapiclient.discovery import build\n",
        "from googleapiclient.errors import HttpError\n",
        "from googleapiclient.http import MediaFileUpload\n",
        "import pickle\n",
        "\n",
        "with open('data.pickle', 'wb') as handle:\n",
        "    pickle.dump(map_dict, handle, protocol=pickle.HIGHEST_PROTOCOL)\n",
        "\n",
        "#Authenticate and construct the Drive API client\n",
        "auth.authenticate_user()\n",
        "drive_service = build('drive', 'v3')\n",
        "\n",
        "file_metadata = {'name': 'data.pickle'}\n",
        "media = MediaFileUpload('data.pickle', mimetype='application/octet-stream')\n",
        "file = drive_service.files().create(body=file_metadata, media_body=media,\n",
        "                                    fields='id').execute()"
      ],
      "metadata": {
        "id": "IFnTrEKvWnm5"
      },
      "execution_count": null,
      "outputs": []
    },
    {
      "cell_type": "code",
      "source": [
        "map_dict"
      ],
      "metadata": {
        "id": "OJ9BSRxEW7jV"
      },
      "execution_count": null,
      "outputs": []
    },
    {
      "cell_type": "markdown",
      "source": [
        "Map to the best genome"
      ],
      "metadata": {
        "id": "egkqHsrPZKJ7"
      }
    },
    {
      "cell_type": "code",
      "source": [
        "def transcriptTime(genome):\n",
        "    start = 0\n",
        "    end = 0\n",
        "    transcript={}\n",
        "    for i in range(0, len(genome)):\n",
        "        end = i + k\n",
        "        if(end > len(genome)):\n",
        "          break\n",
        "        seq = genome[i:end]\n",
        "        if seq in transcript.keys():\n",
        "          transcript[seq].append(i)\n",
        "        else:\n",
        "          transcript[seq] = [i]\n",
        "\n",
        "    return(transcript)"
      ],
      "metadata": {
        "id": "EP3BvFS_ge8d"
      },
      "execution_count": null,
      "outputs": []
    },
    {
      "cell_type": "code",
      "source": [
        "def scoring(positions): #helps alignRead\n",
        "\n",
        "    #first find the ranges\n",
        "    r1 = {}\n",
        "    r2 = {}\n",
        "    r3 = {}\n",
        "\n",
        "\n",
        "\n",
        "    for x in range(0, len(positions)):\n",
        "        for y in range(0, len(positions[x])):\n",
        "            pos = positions[x][y]\n",
        "            if len(str(pos)) == 3: #3 digit number\n",
        "                rg = int(str(pos)[:2] + str(0))\n",
        "            elif len(str(pos)) == 2: #2 digit number\n",
        "                rg = int(str(pos)[0] + str(0))\n",
        "            else: #single digit\n",
        "                rg = pos\n",
        "\n",
        "            if(x < 15):\n",
        "                if rg in r1.keys():\n",
        "                    r1[rg] += 1\n",
        "                else:\n",
        "                    r1[rg] = 1\n",
        "            elif(x < 30):\n",
        "                if rg in r2.keys():\n",
        "                    r2[rg] += 1\n",
        "                else:\n",
        "                    r2[rg] = 1\n",
        "            else:\n",
        "                if rg in r3.keys():\n",
        "                    r3[rg] += 1\n",
        "                else:\n",
        "                    r3[rg] = 1\n",
        "\n",
        "\n",
        "\n",
        "    #now score\n",
        "    final_positions = []\n",
        "    scores = {}\n",
        "    ranges = {}\n",
        "    one_score = 0\n",
        "    for x in range(0, len(positions)):\n",
        "          if len(positions[x]) > 1: #there are multiple positions to choose from\n",
        "              for i in range(0, len(positions[x])):\n",
        "                  if(len(str(positions[x][i])) == 3): #3 digit number\n",
        "                      kee = int(str(positions[x][i])[:2] + str(0))\n",
        "                  elif len(str(positions[x][i])) == 2: #2 digit number\n",
        "                      kee = int(str(positions[x][i])[0] + str(0))\n",
        "                  else: #single digit number\n",
        "                      kee = positions[x][i]\n",
        "\n",
        "                  kee_before = kee - 10\n",
        "                  kee_after = kee + 10\n",
        "\n",
        "                  if(x < 15):\n",
        "                      ranges = r1.copy()\n",
        "                  elif(x < 30):\n",
        "                      ranges = r2.copy()\n",
        "                  else:\n",
        "                      ranges = r3.copy()\n",
        "\n",
        "\n",
        "\n",
        "\n",
        "                  if(kee_before in ranges.keys()):\n",
        "                      score1 = ranges[kee_before]\n",
        "                      one_score += score1\n",
        "                  if(kee in ranges.keys()):\n",
        "                      score2 = ranges[kee]\n",
        "                      one_score += score2\n",
        "                  if(kee_after in ranges.keys()):\n",
        "                      score3 = ranges[kee_after]\n",
        "                      one_score += score3\n",
        "\n",
        "                  scores[positions[x][i]] = one_score\n",
        "                  one_score = 0\n",
        "              best_pos = maxDict(scores)\n",
        "              final_positions.append(best_pos)\n",
        "              scores = {}\n",
        "          else:\n",
        "              final_positions.append(positions[x][0])\n",
        "\n",
        "    return(final_positions)"
      ],
      "metadata": {
        "id": "GrvtK4VPZMpG"
      },
      "execution_count": null,
      "outputs": []
    },
    {
      "cell_type": "code",
      "source": [
        "def screening(final_positions, positions): #if there are consecutive positions and they accidentally chose the wrong ones, let's bring back incrememnting consecutive positions\n",
        "    for r in range(1, len(final_positions)-1):\n",
        "        num_interest = final_positions[r]\n",
        "        before_num = final_positions[r - 1]\n",
        "        after_num = final_positions[r + 1]\n",
        "        if((num_interest != before_num+1) and (num_interest != after_num-1)): #both sides aren't good\n",
        "            for i in range(0, len(positions[r])):\n",
        "                if(positions[r][i] == before_num+1 and positions[r][i] == after_num-1): #ranges didn't catch things\n",
        "                    final_positions[r] = positions[r][i]\n",
        "                    break\n",
        "                else:\n",
        "                    final_positions[r] = 10000\n",
        "        elif(num_interest != before_num+1 and after_num == 10000): #after is a non match\n",
        "            for i in range(0, len(positions[r])):\n",
        "                if(positions[r][i] == before_num+1): #ranges didn't catch things\n",
        "                    final_positions[r] = positions[r][i]\n",
        "                    break\n",
        "                else:\n",
        "                    final_positions[r] = 10000\n",
        "        elif(num_interest != after_num-1 and before_num == 10000): #before is nonmatch\n",
        "            for i in range(0, len(positions[r])):\n",
        "                if(positions[r][i] == after_num-1): #ranges didn't catch things\n",
        "                    final_positions[r] = positions[r][i]\n",
        "                    break\n",
        "                else:\n",
        "                    final_positions[r] = 10000\n",
        "        elif(num_interest != before_num+1 and after_num != 10000 and before_num != 10000): #let's try to match our nums\n",
        "            for i in range(0, len(positions[r])):\n",
        "                if(positions[r][i] == before_num+1): #ranges didn't catch things\n",
        "                    final_positions[r] = positions[r][i]\n",
        "                    break\n",
        "                else:\n",
        "                    final_positions[r] = 10000\n",
        "\n",
        "    #now go through the list again to make sure no false 10000\n",
        "    for a in range(1, len(final_positions) - 1):\n",
        "        num_interest = final_positions[a]\n",
        "        before_num = final_positions[a - 1]\n",
        "        after_num = final_positions[a + 1]\n",
        "\n",
        "        if (num_interest == 10000 and before_num != 10000): #before is a normal number\n",
        "            for j in range(0, len(positions[a])):\n",
        "                if(positions[a][j] == before_num + 1):\n",
        "                    final_positions[a] = positions[a][j]\n",
        "                    break\n",
        "        elif(num_interest == 10000 and after_num != 10000): #after is a normal number\n",
        "            for j in range(0, len(positions[a])):\n",
        "                if(positions[a][j] == after_num - 1):\n",
        "                    final_positions[a] = positions[a][j]\n",
        "                    break\n",
        "\n",
        "\n",
        "\n",
        "\n",
        "#we need to look at the last base too\n",
        "    #if(final_positions[len(final_positions) - 1] != final_positions[len(final_positions)-2]):\n",
        "        #for i in range(0, len(positions[r])):\n",
        "                #if(positions[len(final_positions) - 1][i] == final_positions[len(final_positions)-2]): #ranges didn't catch things\n",
        "                    #final_positions[len(final_positions) - 1] = positions[len(final_positions) - 1][i]\n",
        "                    #break\n",
        "                #else:\n",
        "                    #final_positions[len(final_positions) - 1] = 10000\n",
        "\n",
        "\n",
        "    return(final_positions)"
      ],
      "metadata": {
        "id": "w5wqbX4LZejq"
      },
      "execution_count": null,
      "outputs": []
    },
    {
      "cell_type": "code",
      "source": [
        "def maxDict(d): #helps(alignRead)\n",
        "  return max(d, key = d.get)"
      ],
      "metadata": {
        "id": "c-wqOZxkZh5t"
      },
      "execution_count": null,
      "outputs": []
    },
    {
      "cell_type": "code",
      "source": [
        "def alignRead(kmer_list, genome): #final positions assigns a position to all bases, whether or not that is a good thing\n",
        "    start = 0\n",
        "    end = 0\n",
        "    positions = []\n",
        "    transcript = transcriptTime(genome)\n",
        "\n",
        "    for seq in kmer_list:\n",
        "        if seq in transcript.keys(): #match with ref\n",
        "            positions.append(transcript[seq])\n",
        "        else:\n",
        "            positions.append([10000])\n",
        "\n",
        "    positions2 = scoring(positions)\n",
        "    final_positions = screening(positions2, positions)\n",
        "\n",
        "\n",
        "    return(final_positions)"
      ],
      "metadata": {
        "id": "ouLW51oxZkUz"
      },
      "execution_count": null,
      "outputs": []
    },
    {
      "cell_type": "code",
      "source": [
        "def splitList(final_positions):\n",
        "    #screen out just wrong numbers\n",
        "    split_list = {}\n",
        "    count = 0\n",
        "    for pos in final_positions:\n",
        "        if(pos != 10000):\n",
        "            if(count in split_list.keys()):\n",
        "                split_list[count].append(pos)\n",
        "            else:\n",
        "                split_list[count] = [pos]\n",
        "        elif(pos == 10000):\n",
        "              count += 1\n",
        "              if(count-1 in split_list.keys()):\n",
        "                  a = 'nothing'\n",
        "              else:\n",
        "                  count -= 1\n",
        "\n",
        "    return(split_list)"
      ],
      "metadata": {
        "id": "IeMvjWGCZoYs"
      },
      "execution_count": null,
      "outputs": []
    },
    {
      "cell_type": "code",
      "source": [
        "def matchPos(split_list): #maybe just skip ahead of final_positions when you hit 1000 and see if you hit a good position a certain amount of kmers away\n",
        "    match_pos = {}\n",
        "    match_pos[0] = split_list[0].copy()\n",
        "    match_key = 0\n",
        "\n",
        "    #creating match_pos, a dict with only positions of bases that are right, this only works for substituion rn\n",
        "    keeplast = 0\n",
        "    prev_list = 0\n",
        "    prev_index = 0\n",
        "    for t in range(1, len(split_list)):\n",
        "        firstofnext = split_list[t][0]\n",
        "        if (keeplast != 1):\n",
        "            prev_list = t-1\n",
        "            prev_index = len(split_list[prev_list]) - 1\n",
        "            keeplast = 0\n",
        "\n",
        "        lastofprev = split_list[prev_list][prev_index]\n",
        "\n",
        "        #both del and in look the same in matchPos\n",
        "        if(0 <= firstofnext - lastofprev <= k*3):\n",
        "            match_key += 1\n",
        "            match_pos[match_key] = split_list[t]\n",
        "            keeplast = 0\n",
        "        else:\n",
        "            keeplast = 1\n",
        "\n",
        "    return(match_pos)"
      ],
      "metadata": {
        "id": "v1wxa9pnZuBQ"
      },
      "execution_count": null,
      "outputs": []
    },
    {
      "cell_type": "code",
      "source": [
        "def bestGenome(matchposlist):\n",
        "    score_genomes = {}\n",
        "    for key, value in matchposlist.items():\n",
        "        score = 0\n",
        "        for key2, value2 in value.items():\n",
        "            score += len(value2)\n",
        "        score_genomes[key] = score\n",
        "\n",
        "    genomes_list = []\n",
        "    big = max(score_genomes.values())\n",
        "    for key, value in score_genomes.items():\n",
        "          if(value == big):\n",
        "              genomes_list.append(key)\n",
        "\n",
        "    return(genomes_list)\n",
        "\n",
        "\n",
        "\n",
        ""
      ],
      "metadata": {
        "id": "myzO03fIiaZ1"
      },
      "execution_count": null,
      "outputs": []
    },
    {
      "cell_type": "code",
      "source": [
        "def everythingMinWork(read_name):\n",
        "\n",
        "    test_matches = {}\n",
        "\n",
        "    test = map_dict[read_name]\n",
        "\n",
        "    for el in test:\n",
        "        final_positions = alignRead(kmer_dict[read_name], genome_dict[el])\n",
        "        split_list = splitList(final_positions)\n",
        "        if(len(split_list) > 0):\n",
        "            match_pos = matchPos(split_list)\n",
        "        else:\n",
        "            match_pos = {}\n",
        "\n",
        "        test_matches[el] = match_pos #genome name | all the positions\n",
        "\n",
        "    for key, value in test_matches.items():\n",
        "        if(len(value) > 0):\n",
        "            return bestGenome(test_matches)\n",
        "        else:\n",
        "            return \"mismatch\"\n"
      ],
      "metadata": {
        "id": "IqJCVu0JmNc8"
      },
      "execution_count": null,
      "outputs": []
    },
    {
      "cell_type": "code",
      "source": [
        "def everythingMinNoWork(read_name):\n",
        "      test_matches = {}\n",
        "\n",
        "      for key in genome_dict:\n",
        "          final_positions = alignRead(kmer_dict[read_name], genome_dict[key])\n",
        "          split_list = splitList(final_positions)\n",
        "          if(len(split_list) > 0):\n",
        "              match_pos = matchPos(split_list)\n",
        "          else:\n",
        "              match_pos = {}\n",
        "\n",
        "          test_matches[key] = match_pos\n",
        "\n",
        "      return bestGenome(test_matches)\n",
        "\n"
      ],
      "metadata": {
        "id": "l5FhM5iZtdCi"
      },
      "execution_count": null,
      "outputs": []
    },
    {
      "cell_type": "code",
      "source": [
        "reads1 = {}\n",
        "for i in range(0,5000):\n",
        "    reads1['read_'+str(i)] = reads['read_'+str(i)]\n"
      ],
      "metadata": {
        "id": "SpOJpO8f64Ng"
      },
      "execution_count": null,
      "outputs": []
    },
    {
      "cell_type": "code",
      "source": [
        "mtog_dict1 = {}\n",
        "\n",
        "for key in reads1:\n",
        "    if key in map_dict.keys():\n",
        "        pos = everythingMinWork(key)\n",
        "        if(pos != \"mismatch\"):\n",
        "            mtog_dict1[key] = pos\n",
        "        else:\n",
        "            pos = everythingMinNoWork(key)\n",
        "            mtog_dict1[key] = pos\n",
        "    else:\n",
        "          pos = everythingMinNoWork(key)\n",
        "          mtog_dict1[key] = pos\n",
        "\n",
        "\n",
        "\n",
        "\n"
      ],
      "metadata": {
        "id": "ZK-6nfNjwn63"
      },
      "execution_count": null,
      "outputs": []
    },
    {
      "cell_type": "code",
      "source": [
        "maptogenome_dict = {}\n",
        "for key in reads:\n",
        "    if key in map_dict.keys():\n",
        "        pos = everythingMinWork(key)\n",
        "        if(pos != \"mismatch\"):\n",
        "            maptogenome_dict[key] = pos\n",
        "        else:\n",
        "            pos = everythingMinNoWork(key)\n",
        "            maptogenome_dict[key] = pos\n",
        "    else:\n",
        "          pos = everythingMinNoWork(key)\n",
        "          maptogenome_dict[key] = pos\n",
        "\n",
        "\n",
        "\n",
        "\n",
        "from google.colab import auth\n",
        "from googleapiclient.discovery import build\n",
        "from googleapiclient.errors import HttpError\n",
        "from googleapiclient.http import MediaFileUpload\n",
        "import pickle\n",
        "\n",
        "with open('data.pickle', 'wb') as handle:\n",
        "    pickle.dump(maptogenome_dict, handle, protocol=pickle.HIGHEST_PROTOCOL)\n",
        "\n",
        "#Authenticate and construct the Drive API client\n",
        "auth.authenticate_user()\n",
        "drive_service = build('drive', 'v3')\n",
        "\n",
        "file_metadata = {'name': 'data.pickle'}\n",
        "media = MediaFileUpload('data.pickle', mimetype='application/octet-stream')\n",
        "file = drive_service.files().create(body=file_metadata, media_body=media,\n",
        "                                    fields='id').execute()"
      ],
      "metadata": {
        "id": "L3P-_GlNq2cw"
      },
      "execution_count": null,
      "outputs": []
    },
    {
      "cell_type": "code",
      "source": [
        "maptogenome_dict"
      ],
      "metadata": {
        "id": "HmEZe8RzrEAn"
      },
      "execution_count": null,
      "outputs": []
    },
    {
      "cell_type": "code",
      "source": [
        "genome_score = {}\n",
        "for key, value in maptogenome_dict.items():\n",
        "    for el in value:\n",
        "        if(el in genome_score.keys()):\n",
        "            genome_score[el] += 1\n",
        "        else:\n",
        "            genome_score[el] = 1\n",
        ""
      ],
      "metadata": {
        "id": "lM7Xf8Pbv7ei"
      },
      "execution_count": null,
      "outputs": []
    },
    {
      "cell_type": "code",
      "source": [
        "def chooseOne(genome_list):\n",
        "    best = genome_list[0]\n",
        "    for el in genome_list:\n",
        "        if(genome_score[el] > genome_score[best]):\n",
        "            best = el\n",
        "    return(best)"
      ],
      "metadata": {
        "id": "Jvi1yb9fwwYk"
      },
      "execution_count": null,
      "outputs": []
    },
    {
      "cell_type": "code",
      "source": [
        "final_map = {}\n",
        "\n",
        "for key, value in maptogenome_dict.items():\n",
        "    if(len(value) > 1):\n",
        "        final_map[key] = chooseOne(value)\n",
        "    else:\n",
        "        final_map[key] = value[0]\n"
      ],
      "metadata": {
        "id": "a_N2H_zOwdZ7"
      },
      "execution_count": null,
      "outputs": []
    },
    {
      "cell_type": "code",
      "source": [
        "final_map"
      ],
      "metadata": {
        "id": "F1uvDQ43xYOz"
      },
      "execution_count": null,
      "outputs": []
    }
  ]
}
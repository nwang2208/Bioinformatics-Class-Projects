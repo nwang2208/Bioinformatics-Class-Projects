{
  "cells": [
    {
      "cell_type": "markdown",
      "metadata": {
        "id": "view-in-github",
        "colab_type": "text"
      },
      "source": [
        "<a href=\"https://colab.research.google.com/github/nwang2208/Bioinformatics-Class-Projects/blob/mapping-reads/Project2a.ipynb\" target=\"_parent\"><img src=\"https://colab.research.google.com/assets/colab-badge.svg\" alt=\"Open In Colab\"/></a>"
      ]
    },
    {
      "cell_type": "code",
      "execution_count": null,
      "metadata": {
        "id": "RfxfzqqPoLGr"
      },
      "outputs": [],
      "source": [
        "k = 21"
      ]
    },
    {
      "cell_type": "code",
      "execution_count": null,
      "metadata": {
        "id": "DxKoREZ7uYTL"
      },
      "outputs": [],
      "source": [
        "!pip install Bio"
      ]
    },
    {
      "cell_type": "code",
      "execution_count": null,
      "metadata": {
        "id": "OPyzdb9QuXuD"
      },
      "outputs": [],
      "source": [
        "from Bio import SeqIO\n",
        "import math\n",
        "import numpy as np"
      ]
    },
    {
      "cell_type": "markdown",
      "metadata": {
        "id": "FDl-Ya3lmr-T"
      },
      "source": [
        "Preparing PWM"
      ]
    },
    {
      "cell_type": "code",
      "execution_count": null,
      "metadata": {
        "id": "qc2VnULqmqIs"
      },
      "outputs": [],
      "source": [
        "pwm=open('/content/drive/MyDrive/122data/PROJECT2A/project2a_PWM.txt','r')\n",
        "pwm = pwm.readlines()\n"
      ]
    },
    {
      "cell_type": "code",
      "execution_count": null,
      "metadata": {
        "id": "yv-_66qrqm1o"
      },
      "outputs": [],
      "source": [
        "pwm_matrix = []\n",
        "\n",
        "for el in pwm:\n",
        "    row = []\n",
        "    num_string= ''\n",
        "    for i in range(0,len(el)):\n",
        "        if(el[i] != '\\t'):\n",
        "            if(el[i] == '\\n'):\n",
        "                row.append(float(num_string))\n",
        "                num_string = ''\n",
        "            else:\n",
        "                num_string += el[i]\n",
        "        elif(el[i] == '\\t'):\n",
        "            row.append(float(num_string))\n",
        "            num_string = ''\n",
        "    pwm_matrix.append(row)\n",
        "\n",
        "\n",
        ""
      ]
    },
    {
      "cell_type": "markdown",
      "metadata": {
        "id": "zsEv_rTbtL6M"
      },
      "source": [
        "Opening seqs"
      ]
    },
    {
      "cell_type": "code",
      "execution_count": null,
      "metadata": {
        "id": "qJm220pBtTgo"
      },
      "outputs": [],
      "source": [
        "seq_dict = {}\n",
        "for seq_record in SeqIO.parse('/content/drive/MyDrive/122data/PROJECT2A/test.fasta', \"fasta\"):\n",
        "    seq_dict[seq_record.id] = str(seq_record.seq)\n",
        ""
      ]
    },
    {
      "cell_type": "code",
      "source": [
        "seq_dict"
      ],
      "metadata": {
        "id": "mzSWJfz0S4Gy"
      },
      "execution_count": null,
      "outputs": []
    },
    {
      "cell_type": "code",
      "source": [
        "r_seq_dict= {}\n",
        "\n",
        "for key,value in seq_dict.items():\n",
        "  r_seq = \"\"\n",
        "  for x in range(0,len(value)):\n",
        "    base = ''\n",
        "    if(value[x] == \"A\"):\n",
        "      base = 'T'\n",
        "    elif(value[x] == \"T\"):\n",
        "      base = 'A'\n",
        "    elif(value[x] == \"C\"):\n",
        "      base = 'G'\n",
        "    else:\n",
        "      base = 'C'\n",
        "    r_seq += base\n",
        "  r_seq_dict[key] = r_seq[::-1]"
      ],
      "metadata": {
        "id": "N8GYWYCKT3pc"
      },
      "execution_count": null,
      "outputs": []
    },
    {
      "cell_type": "code",
      "source": [
        "r_seq_dict"
      ],
      "metadata": {
        "id": "fA9kgYSUUlZa"
      },
      "execution_count": null,
      "outputs": []
    },
    {
      "cell_type": "markdown",
      "metadata": {
        "id": "GaPF0tMfoLs5"
      },
      "source": [
        "Go through each seq and find the most probably 21mer"
      ]
    },
    {
      "cell_type": "code",
      "execution_count": null,
      "metadata": {
        "id": "o4Q0zfiewc9b"
      },
      "outputs": [],
      "source": [
        "\n",
        "def score(profile_matrix, motif_list):\n",
        "    score_list = []\n",
        "    for el in motif_list:\n",
        "        score = 1\n",
        "        for i in range(0, len(el)):\n",
        "\n",
        "            if(el[i] == 'A'):\n",
        "                score *= profile_matrix[0][i]\n",
        "            elif(el[i] == 'C'):\n",
        "                score *= profile_matrix[1][i]\n",
        "            elif(el[i] == 'G'):\n",
        "                score *= profile_matrix[2][i]\n",
        "            else:\n",
        "                score *= profile_matrix[3][i]\n",
        "        score_list.append(score)\n",
        "    return(score_list)"
      ]
    },
    {
      "cell_type": "code",
      "execution_count": null,
      "metadata": {
        "id": "zZZFD9d6vspg"
      },
      "outputs": [],
      "source": [
        "motif_list = []\n",
        "best_list = []\n",
        "prob_dict = {}\n",
        "for key, value in seq_dict.items():\n",
        "    motif_list = []\n",
        "    for i in range(0, len(value)-21):\n",
        "        kmer = value[i:i+21]\n",
        "        motif_list.append(kmer)\n",
        "    score_list = score(pwm_matrix, motif_list)\n",
        "    best_score = max(score_list)\n",
        "    prob_dict[key] = math.log(best_score/(.25**21))\n",
        "    indexofbest = score_list.index(max(score_list))\n",
        "    best_motif = motif_list[indexofbest]\n",
        "    best_list.append(best_motif)\n"
      ]
    },
    {
      "cell_type": "code",
      "source": [
        "\n",
        "\n",
        "r_prob_dict = {}\n",
        "for key, value in r_seq_dict.items():\n",
        "    motif_list = []\n",
        "    for i in range(0, len(value)-21):\n",
        "        kmer = value[i:i+21]\n",
        "        motif_list.append(kmer)\n",
        "    score_list = score(pwm_matrix, motif_list)\n",
        "    best_score = max(score_list)\n",
        "    r_prob_dict[key] = math.log(best_score/(.25**21))\n",
        ""
      ],
      "metadata": {
        "id": "-kQr24tIVH-J"
      },
      "execution_count": null,
      "outputs": []
    },
    {
      "cell_type": "code",
      "source": [
        "final_prob = {}\n",
        "\n",
        "for key, value in prob_dict.items():\n",
        "    if(value > r_prob_dict[key]):\n",
        "        final_prob[key] = value\n",
        "    else:\n",
        "        final_prob[key] = r_prob_dict[key]"
      ],
      "metadata": {
        "id": "4Xe0dQvYV0Sm"
      },
      "execution_count": null,
      "outputs": []
    },
    {
      "cell_type": "code",
      "source": [
        "final_prob"
      ],
      "metadata": {
        "id": "werxfZIJWpkP"
      },
      "execution_count": null,
      "outputs": []
    },
    {
      "cell_type": "code",
      "source": [
        "sorted_probs = sorted(final_prob.items(), key=lambda x:x[1], reverse=True)\n",
        "converted_dict = dict(sorted_probs)\n",
        "\n",
        "converted_dict_keys = list(converted_dict.keys())\n",
        "\n",
        "predictions = []\n",
        "for i in range(0, 2000):\n",
        "    predictions.append(converted_dict_keys[i])"
      ],
      "metadata": {
        "id": "NsB3uakqypmP"
      },
      "execution_count": null,
      "outputs": []
    },
    {
      "cell_type": "code",
      "source": [
        "predictions"
      ],
      "metadata": {
        "id": "PZSlYVyqy79v"
      },
      "execution_count": null,
      "outputs": []
    },
    {
      "cell_type": "code",
      "source": [
        "np.savetxt(\"predictions.csv\",\n",
        "           predictions,\n",
        "           delimiter =\", \",  # Set the delimiter as a comma followed by a space\n",
        "           fmt ='% s')"
      ],
      "metadata": {
        "id": "rWlE4w-zy_dO"
      },
      "execution_count": null,
      "outputs": []
    }
  ],
  "metadata": {
    "colab": {
      "provenance": [],
      "mount_file_id": "1VcsqdHRScsSBCHaBKK1SaY1mFHlv7VxE",
      "authorship_tag": "ABX9TyNEq+CimABYzVWZ7Ceg1U26",
      "include_colab_link": true
    },
    "kernelspec": {
      "display_name": "Python 3",
      "name": "python3"
    },
    "language_info": {
      "name": "python"
    }
  },
  "nbformat": 4,
  "nbformat_minor": 0
}
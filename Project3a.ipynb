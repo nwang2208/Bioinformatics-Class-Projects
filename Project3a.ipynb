{
  "nbformat": 4,
  "nbformat_minor": 0,
  "metadata": {
    "colab": {
      "provenance": [],
      "mount_file_id": "1tNYUJgSO4yak_qBOsCTLXAhyv4DCgjOK",
      "authorship_tag": "ABX9TyNJII2ca+eq+FoOb0SOv04d",
      "include_colab_link": true
    },
    "kernelspec": {
      "name": "python3",
      "display_name": "Python 3"
    },
    "language_info": {
      "name": "python"
    }
  },
  "cells": [
    {
      "cell_type": "markdown",
      "metadata": {
        "id": "view-in-github",
        "colab_type": "text"
      },
      "source": [
        "<a href=\"https://colab.research.google.com/github/nwang2208/Bioinformatics-Class-Projects/blob/mapping-reads/Project3a.ipynb\" target=\"_parent\"><img src=\"https://colab.research.google.com/assets/colab-badge.svg\" alt=\"Open In Colab\"/></a>"
      ]
    },
    {
      "cell_type": "code",
      "execution_count": null,
      "metadata": {
        "id": "JdlBXZhFp9d_"
      },
      "outputs": [],
      "source": [
        "!pip install Bio"
      ]
    },
    {
      "cell_type": "code",
      "source": [
        "from Bio import SeqIO"
      ],
      "metadata": {
        "id": "jniVQxnoe7b9"
      },
      "execution_count": null,
      "outputs": []
    },
    {
      "cell_type": "markdown",
      "source": [
        "Upload reads with positions"
      ],
      "metadata": {
        "id": "e1f_EzCNfAKS"
      }
    },
    {
      "cell_type": "code",
      "source": [
        "reads_wpos = {}\n",
        "for seq_record in SeqIO.parse('/content/drive/MyDrive/122data/Project3/project3_1000_sample_reads_with_positions.fasta', \"fasta\"):\n",
        "    reads_wpos[seq_record.id] = str(seq_record.seq)"
      ],
      "metadata": {
        "id": "BIQT2I9ie9xA"
      },
      "execution_count": null,
      "outputs": []
    },
    {
      "cell_type": "code",
      "source": [
        "test = open('/content/drive/MyDrive/122data/Project3/project3_1000_sample_reads_with_positions.fasta')\n",
        "test = test.readlines()"
      ],
      "metadata": {
        "id": "LLtRcAiriQ0Q"
      },
      "execution_count": null,
      "outputs": []
    },
    {
      "cell_type": "code",
      "source": [
        "test"
      ],
      "metadata": {
        "id": "cMwGvCkuiW6R"
      },
      "execution_count": null,
      "outputs": []
    },
    {
      "cell_type": "code",
      "source": [
        "reads_wpos"
      ],
      "metadata": {
        "id": "5-3jrt3Xg92b"
      },
      "execution_count": null,
      "outputs": []
    },
    {
      "cell_type": "markdown",
      "source": [
        "Upload reads w/o positions"
      ],
      "metadata": {
        "id": "U2B9zLnAhE6E"
      }
    },
    {
      "cell_type": "code",
      "source": [
        "reads = {}\n",
        "for seq_record in SeqIO.parse('/content/drive/MyDrive/122data/Project3/project3_1000_sample_reads_without_positions.fasta', \"fasta\"):\n",
        "    reads[seq_record.id] = str(seq_record.seq)"
      ],
      "metadata": {
        "id": "uAAHTg49hGzh"
      },
      "execution_count": null,
      "outputs": []
    },
    {
      "cell_type": "code",
      "source": [
        "reads"
      ],
      "metadata": {
        "id": "7pmKXefCh97w"
      },
      "execution_count": null,
      "outputs": []
    },
    {
      "cell_type": "markdown",
      "source": [
        "Look at reference genome"
      ],
      "metadata": {
        "id": "2pGMuZPy3qga"
      }
    },
    {
      "cell_type": "code",
      "source": [
        "ref = {}\n",
        "for seq_record in SeqIO.parse('/content/drive/MyDrive/122data/Project3/project3_1000_sample_reference_genome.fasta', \"fasta\"):\n",
        "    ref[seq_record.id] = str(seq_record.seq)"
      ],
      "metadata": {
        "id": "TmUIkffg38k-"
      },
      "execution_count": null,
      "outputs": []
    },
    {
      "cell_type": "code",
      "source": [
        "ref_seq = ref['genome']"
      ],
      "metadata": {
        "id": "SR5KQBwn6TAB"
      },
      "execution_count": null,
      "outputs": []
    },
    {
      "cell_type": "code",
      "source": [
        "ref_seq"
      ],
      "metadata": {
        "id": "mIoJ_FpN6bSu"
      },
      "execution_count": null,
      "outputs": []
    },
    {
      "cell_type": "markdown",
      "source": [
        "Functions for de bru"
      ],
      "metadata": {
        "id": "9KP16cKxjS48"
      }
    },
    {
      "cell_type": "code",
      "source": [
        "import sys\n",
        "sys.setrecursionlimit(1000000)"
      ],
      "metadata": {
        "id": "BrJHf3U5loJq"
      },
      "execution_count": null,
      "outputs": []
    },
    {
      "cell_type": "code",
      "source": [
        "def inDegree(node, graph):\n",
        "    ind = 0\n",
        "\n",
        "    for key, value in graph.items():\n",
        "        if(node in value):\n",
        "            ind += 1\n",
        "\n",
        "    return(ind)"
      ],
      "metadata": {
        "id": "CTPa4exMkHIL"
      },
      "execution_count": null,
      "outputs": []
    },
    {
      "cell_type": "code",
      "source": [
        "def outDegree(node, graph):\n",
        "    out = len(graph[node])\n",
        "    return(out)"
      ],
      "metadata": {
        "id": "7CuaIK3ZlUJu"
      },
      "execution_count": null,
      "outputs": []
    },
    {
      "cell_type": "code",
      "source": [
        "def outGraph(graph):\n",
        "    outgraph = {}\n",
        "    for key in graph:\n",
        "        outgraph[key] = len(graph[key])\n",
        "    return(outgraph)\n"
      ],
      "metadata": {
        "id": "4JEO7u4ZlXMA"
      },
      "execution_count": null,
      "outputs": []
    },
    {
      "cell_type": "code",
      "source": [
        "def findStart(graph):\n",
        "  start = next(node for node, neighbours in graph.items() if neighbours)\n",
        "\n",
        "  for key in graph:\n",
        "      if(outDegree(key, graph) - inDegree(key, graph) == 1):\n",
        "          start = key\n",
        "\n",
        "  return(start)"
      ],
      "metadata": {
        "id": "mCXjc2dila0F"
      },
      "execution_count": null,
      "outputs": []
    },
    {
      "cell_type": "code",
      "source": [
        "def graphHasEulPath(graph):\n",
        "    startnodes = 0\n",
        "    endnodes = 0\n",
        "\n",
        "    for key in graph:\n",
        "        if(outDegree(key, graph) - inDegree(key, graph) > 1 or inDegree(key, graph) - outDegree(key, graph) > 1):\n",
        "            return ('false b/c of path')\n",
        "        elif(outDegree(key, graph) - inDegree(key, graph) == 1):\n",
        "            startnodes += 1\n",
        "        elif(inDegree(key, graph) - outDegree(key, graph) == 1):\n",
        "            endnodes += 1\n",
        "\n",
        "    if endnodes == 0 and startnodes == 0:\n",
        "        return 'yes'\n",
        "    elif endnodes == 1 and startnodes == 1:\n",
        "        return 'yes'\n",
        "    else:\n",
        "        return (startnodes, endnodes)\n",
        "\n"
      ],
      "metadata": {
        "id": "6hK_rDywGaZL"
      },
      "execution_count": null,
      "outputs": []
    },
    {
      "cell_type": "code",
      "source": [
        "def dfs(curr, graph, outgraph, path):\n",
        "    while(curr in outgraph.keys() and outgraph[curr] != 0 ): #still edges\n",
        "        next = graph[curr][outgraph[curr] - 1]\n",
        "        outgraph[curr] = outgraph[curr] - 1\n",
        "        dfs(next, graph, outgraph, path)\n",
        "    path.insert(0, curr)\n",
        "\n",
        "    return(path)"
      ],
      "metadata": {
        "id": "BgPKyYj3lehg"
      },
      "execution_count": null,
      "outputs": []
    },
    {
      "cell_type": "code",
      "source": [
        "def overlap(patterns):\n",
        "    tree = {}\n",
        "\n",
        "    for el in patterns:\n",
        "        suffix = el[1:len(el)]\n",
        "\n",
        "        for el2 in patterns:\n",
        "            prefix = el2[0:len(el2) - 1]\n",
        "            if(el != el2 and prefix == suffix):\n",
        "                if(el in tree.keys()):\n",
        "                    tree[el].append(el2)\n",
        "                else:\n",
        "                    tree[el] = [el2]\n",
        "\n",
        "    return(tree)"
      ],
      "metadata": {
        "id": "Suw5Bh90hny0"
      },
      "execution_count": null,
      "outputs": []
    },
    {
      "cell_type": "code",
      "source": [
        "def overlap2(patterns):\n",
        "    tree = {}\n",
        "\n",
        "    for el in patterns: #dont need last mer\n",
        "        prefix = el[0:len(el)-1]\n",
        "        suffix = el[1:len(el)]\n",
        "        if(prefix in tree.keys()):\n",
        "            tree[prefix].append(suffix)\n",
        "        else:\n",
        "            tree[prefix] = [suffix]\n",
        "\n",
        "    return(tree)"
      ],
      "metadata": {
        "id": "VSTXKW12ltdv"
      },
      "execution_count": null,
      "outputs": []
    },
    {
      "cell_type": "code",
      "source": [
        "def reconstruct(kmers):\n",
        "    text = ''\n",
        "\n",
        "    for i in range(0, len(kmers)):\n",
        "        if(i == len(kmers) - 1):\n",
        "            text += kmers[i]\n",
        "        else:\n",
        "            text += kmers[i][0]\n",
        "\n",
        "    return(text)"
      ],
      "metadata": {
        "id": "DXPYqmUzls8s"
      },
      "execution_count": null,
      "outputs": []
    },
    {
      "cell_type": "code",
      "source": [
        "def StringReconstruction(patterns):\n",
        "    graph = overlap(patterns)\n",
        "    outgraph = outGraph(graph)\n",
        "    path = []\n",
        "    startNode = findStart(graph)\n",
        "\n",
        "    path = dfs(startNode, graph, outgraph, path)\n",
        "    text = reconstruct(path)\n",
        "\n",
        "    return(text, path)"
      ],
      "metadata": {
        "id": "YMGgvi2Glvmu"
      },
      "execution_count": null,
      "outputs": []
    },
    {
      "cell_type": "markdown",
      "source": [
        "Opening spectrums"
      ],
      "metadata": {
        "id": "Blm2KLfI4VTy"
      }
    },
    {
      "cell_type": "code",
      "source": [
        "spectrum_wpos = open('/content/drive/MyDrive/122data/Project3/project3_1000_sample_spectrum_with_positions.fasta')\n",
        "spectrum_wpos = spectrum_wpos.readlines()"
      ],
      "metadata": {
        "id": "qXy9QTIK3o1k"
      },
      "execution_count": null,
      "outputs": []
    },
    {
      "cell_type": "code",
      "source": [
        "spectrum_wpos"
      ],
      "metadata": {
        "id": "HPofKrQ24s59"
      },
      "execution_count": null,
      "outputs": []
    },
    {
      "cell_type": "code",
      "source": [
        "spectrum = {}\n",
        "for seq_record in SeqIO.parse('/content/drive/MyDrive/122data/Project3/project3_1000_sample_spectrum.fasta', \"fasta\"):\n",
        "    spectrum[seq_record.id] = str(seq_record.seq)"
      ],
      "metadata": {
        "id": "jp9JI9TK5JS3"
      },
      "execution_count": null,
      "outputs": []
    },
    {
      "cell_type": "code",
      "source": [
        "spectrum"
      ],
      "metadata": {
        "id": "y0jsqUpL5UuU"
      },
      "execution_count": null,
      "outputs": []
    },
    {
      "cell_type": "markdown",
      "source": [
        "Use the spectrum!"
      ],
      "metadata": {
        "id": "ZN8uEf6P5YKR"
      }
    },
    {
      "cell_type": "code",
      "source": [
        "count_spectrum = {}\n",
        "\n",
        "for key, value in spectrum.items():\n",
        "    if (value in count_spectrum):\n",
        "        count_spectrum[value] += 1\n",
        "    else:\n",
        "        count_spectrum[value] = 1"
      ],
      "metadata": {
        "id": "GPjC1TsnF_oU"
      },
      "execution_count": null,
      "outputs": []
    },
    {
      "cell_type": "code",
      "source": [
        "count_spectrum"
      ],
      "metadata": {
        "id": "Q4NnkgpNiiVj"
      },
      "execution_count": null,
      "outputs": []
    },
    {
      "cell_type": "code",
      "source": [
        "kmers_list = []\n",
        "\n",
        "for key, value in spectrum.items():\n",
        "    kmers_list.append(value)"
      ],
      "metadata": {
        "id": "fwNCqMEW5Zbj"
      },
      "execution_count": null,
      "outputs": []
    },
    {
      "cell_type": "code",
      "source": [
        "text = StringReconstruction(kmers_list)[0]"
      ],
      "metadata": {
        "id": "zZ-j1alG5dWy"
      },
      "execution_count": null,
      "outputs": []
    },
    {
      "cell_type": "code",
      "source": [
        "len(text)"
      ],
      "metadata": {
        "id": "h_TtfqN7jXgw"
      },
      "execution_count": null,
      "outputs": []
    },
    {
      "cell_type": "code",
      "source": [
        "path = StringReconstruction(kmers_list)[1]"
      ],
      "metadata": {
        "id": "1uwu-5eFBHku"
      },
      "execution_count": null,
      "outputs": []
    },
    {
      "cell_type": "markdown",
      "source": [
        "Map the spectrum reads to the text"
      ],
      "metadata": {
        "id": "mFsXDJRo_Au_"
      }
    },
    {
      "cell_type": "code",
      "source": [
        "order = {}\n",
        "for key, value in spectrum.items():\n",
        "        index = text.find(value)\n",
        "        order[index] = key\n"
      ],
      "metadata": {
        "id": "n6RetbKw_ACV"
      },
      "execution_count": null,
      "outputs": []
    },
    {
      "cell_type": "code",
      "source": [
        "myKeys = list(order.keys())\n",
        "myKeys.sort()\n",
        "sorted_dict = {i: order[i] for i in myKeys}"
      ],
      "metadata": {
        "id": "4TlOkEjd-9DX"
      },
      "execution_count": null,
      "outputs": []
    },
    {
      "cell_type": "code",
      "source": [
        "sorted_dict"
      ],
      "metadata": {
        "id": "chIaNKdiAL8C"
      },
      "execution_count": null,
      "outputs": []
    },
    {
      "cell_type": "markdown",
      "source": [
        "3A"
      ],
      "metadata": {
        "id": "GOpay5NXkNVs"
      }
    },
    {
      "cell_type": "code",
      "source": [
        "import numpy as np"
      ],
      "metadata": {
        "id": "-c0LfRU1lfzK"
      },
      "execution_count": null,
      "outputs": []
    },
    {
      "cell_type": "code",
      "source": [
        "spectrum = {}\n",
        "for seq_record in SeqIO.parse('/content/drive/MyDrive/122data/Project3/project3a_10000_spectrum.fasta', \"fasta\"):\n",
        "    spectrum[seq_record.id] = str(seq_record.seq)"
      ],
      "metadata": {
        "id": "yOBWtH_LkW68"
      },
      "execution_count": null,
      "outputs": []
    },
    {
      "cell_type": "code",
      "source": [
        "spectrum"
      ],
      "metadata": {
        "id": "o3ZwoC3_rkyk"
      },
      "execution_count": null,
      "outputs": []
    },
    {
      "cell_type": "code",
      "source": [
        "kmers_list = []\n",
        "\n",
        "for key, value in spectrum.items():\n",
        "    kmers_list.append(value)"
      ],
      "metadata": {
        "id": "o9vBZGFjk41F"
      },
      "execution_count": null,
      "outputs": []
    },
    {
      "cell_type": "code",
      "source": [
        "text = StringReconstruction(kmers_list)[0]"
      ],
      "metadata": {
        "id": "dRwnnHKNk8D4"
      },
      "execution_count": null,
      "outputs": []
    },
    {
      "cell_type": "code",
      "source": [
        "order = {}\n",
        "for key, value in spectrum.items():\n",
        "        index = text.find(value)\n",
        "        order[index] = key\n"
      ],
      "metadata": {
        "id": "sFRAz3LMlAOB"
      },
      "execution_count": null,
      "outputs": []
    },
    {
      "cell_type": "code",
      "source": [
        "myKeys = list(order.keys())\n",
        "myKeys.sort()\n",
        "sorted_dict = {i: order[i] for i in myKeys}"
      ],
      "metadata": {
        "id": "eZMvPrshlCKG"
      },
      "execution_count": null,
      "outputs": []
    },
    {
      "cell_type": "code",
      "source": [
        "predictions = []\n",
        "\n",
        "for key, value in sorted_dict.items():\n",
        "    predictions.append('>' + value)"
      ],
      "metadata": {
        "id": "2qzgCDlFlGe9"
      },
      "execution_count": null,
      "outputs": []
    },
    {
      "cell_type": "code",
      "source": [
        "predictions"
      ],
      "metadata": {
        "id": "8JkkVgy9ldeU"
      },
      "execution_count": null,
      "outputs": []
    },
    {
      "cell_type": "code",
      "source": [
        "np.savetxt(\"predictions.csv\",\n",
        "           predictions,\n",
        "           delimiter =\", \",  # Set the delimiter as a comma followed by a space\n",
        "           fmt ='% s')"
      ],
      "metadata": {
        "id": "m_UdVyrAlWDZ"
      },
      "execution_count": null,
      "outputs": []
    }
  ]
}
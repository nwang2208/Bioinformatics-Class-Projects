{
  "nbformat": 4,
  "nbformat_minor": 0,
  "metadata": {
    "colab": {
      "provenance": [],
      "mount_file_id": "13HgS2Ee3ry1ZVAqFix8U97e--gLh7FGV",
      "authorship_tag": "ABX9TyOaUPuT8syr/NEU6qP6g4Zo",
      "include_colab_link": true
    },
    "kernelspec": {
      "name": "python3",
      "display_name": "Python 3"
    },
    "language_info": {
      "name": "python"
    }
  },
  "cells": [
    {
      "cell_type": "markdown",
      "metadata": {
        "id": "view-in-github",
        "colab_type": "text"
      },
      "source": [
        "<a href=\"https://colab.research.google.com/github/nwang2208/Bioinformatics-Class-Projects/blob/mapping-reads/Project4B.ipynb\" target=\"_parent\"><img src=\"https://colab.research.google.com/assets/colab-badge.svg\" alt=\"Open In Colab\"/></a>"
      ]
    },
    {
      "cell_type": "code",
      "execution_count": null,
      "metadata": {
        "id": "XsUedImcaQMh"
      },
      "outputs": [],
      "source": [
        "k = 10\n",
        "m = 10"
      ]
    },
    {
      "cell_type": "code",
      "source": [
        "!pip install Bio"
      ],
      "metadata": {
        "id": "lj787seJaYnC"
      },
      "execution_count": null,
      "outputs": []
    },
    {
      "cell_type": "code",
      "source": [
        "from Bio import SeqIO\n",
        "import pickle\n",
        "import numpy as np"
      ],
      "metadata": {
        "id": "oDg8bfmGaaWS"
      },
      "execution_count": null,
      "outputs": []
    },
    {
      "cell_type": "markdown",
      "source": [
        "select top 50 genomes?\n",
        "omg make a hash table of minimzier | [read numbers]"
      ],
      "metadata": {
        "id": "Q5ZOzcjz2LMj"
      }
    },
    {
      "cell_type": "markdown",
      "source": [
        "Opening stuff"
      ],
      "metadata": {
        "id": "vtlXNIdibGkU"
      }
    },
    {
      "cell_type": "code",
      "source": [
        "genome_dict = {}\n",
        "for i in range(5000):\n",
        "    for seq_record in SeqIO.parse('/content/drive/MyDrive/122data/project4b-data/project4b_200000_genome_'+str(i)+'.fasta', \"fasta\"):\n",
        "        genome_dict[seq_record.id] = str(seq_record.seq)"
      ],
      "metadata": {
        "id": "7ch_8jI7bIej"
      },
      "execution_count": null,
      "outputs": []
    },
    {
      "cell_type": "code",
      "source": [
        "from google.colab import auth\n",
        "from googleapiclient.discovery import build\n",
        "from googleapiclient.errors import HttpError\n",
        "from googleapiclient.http import MediaFileUpload\n",
        "import pickle\n",
        "\n",
        "with open('genome4b.pickle', 'wb') as handle:\n",
        "    pickle.dump(genome_dict, handle, protocol=pickle.HIGHEST_PROTOCOL)\n",
        "\n",
        "#Authenticate and construct the Drive API client\n",
        "auth.authenticate_user()\n",
        "drive_service = build('drive', 'v3')\n",
        "\n",
        "file_metadata = {'name': 'genome4b.pickle'}\n",
        "media = MediaFileUpload('genome4b.pickle', mimetype='application/octet-stream')\n",
        "file = drive_service.files().create(body=file_metadata, media_body=media,\n",
        "                                    fields='id').execute()"
      ],
      "metadata": {
        "id": "V5VukjkZkf2M"
      },
      "execution_count": null,
      "outputs": []
    },
    {
      "cell_type": "code",
      "source": [
        "genome_dict = open('/content/drive/MyDrive/genome4b.pickle', 'rb')\n",
        "genome_dict = pickle.load(genome_dict)"
      ],
      "metadata": {
        "id": "2pAI_ZFGoVB0"
      },
      "execution_count": null,
      "outputs": []
    },
    {
      "cell_type": "code",
      "source": [
        "genome_kmer_dict = {}\n",
        "for key, value in genome_dict.items():\n",
        "    transcripts = []\n",
        "    for i in range(0, len(value)-k+1):\n",
        "        seq = value[i:i+k]\n",
        "        transcripts.append(seq)\n",
        "    genome_kmer_dict[key] = transcripts"
      ],
      "metadata": {
        "id": "-eD1kg71bNGS"
      },
      "execution_count": null,
      "outputs": []
    },
    {
      "cell_type": "code",
      "source": [
        "reads = {}\n",
        "for seq_record in SeqIO.parse('/content/drive/MyDrive/122data/project4b-data/project4b_200000_reads.fasta', \"fasta\"):\n",
        "    reads[seq_record.id] = str(seq_record.seq)"
      ],
      "metadata": {
        "id": "YNA6L0O_bPRq"
      },
      "execution_count": null,
      "outputs": []
    },
    {
      "cell_type": "code",
      "source": [
        "from google.colab import auth\n",
        "from googleapiclient.discovery import build\n",
        "from googleapiclient.errors import HttpError\n",
        "from googleapiclient.http import MediaFileUpload\n",
        "import pickle\n",
        "\n",
        "with open('reads4b.pickle', 'wb') as handle:\n",
        "    pickle.dump(reads, handle, protocol=pickle.HIGHEST_PROTOCOL)\n",
        "\n",
        "#Authenticate and construct the Drive API client\n",
        "auth.authenticate_user()\n",
        "drive_service = build('drive', 'v3')\n",
        "\n",
        "file_metadata = {'name': 'reads4b.pickle'}\n",
        "media = MediaFileUpload('reads4b.pickle', mimetype='application/octet-stream')\n",
        "file = drive_service.files().create(body=file_metadata, media_body=media,\n",
        "                                    fields='id').execute()"
      ],
      "metadata": {
        "id": "-aUJyp-DpUff"
      },
      "execution_count": null,
      "outputs": []
    },
    {
      "cell_type": "code",
      "source": [
        "reads = open('/content/drive/MyDrive/reads4b.pickle', 'rb')\n",
        "reads = pickle.load(reads)"
      ],
      "metadata": {
        "id": "9A-T0uV1p1VI"
      },
      "execution_count": null,
      "outputs": []
    },
    {
      "cell_type": "code",
      "source": [
        "len(reads)"
      ],
      "metadata": {
        "colab": {
          "base_uri": "https://localhost:8080/"
        },
        "id": "1RbtM6FusYwR",
        "outputId": "1b3b4505-57f9-4c78-aa9c-c86483d4df16"
      },
      "execution_count": null,
      "outputs": [
        {
          "output_type": "execute_result",
          "data": {
            "text/plain": [
              "4000000"
            ]
          },
          "metadata": {},
          "execution_count": 5
        }
      ]
    },
    {
      "cell_type": "markdown",
      "source": [
        "Minimize"
      ],
      "metadata": {
        "id": "aoXA5kDcfEAN"
      }
    },
    {
      "cell_type": "code",
      "source": [
        "def minKmer(read):\n",
        "    kmers_list = []\n",
        "    for i in range(0,len(read)-m+1):\n",
        "        seq = read[i:i+m]\n",
        "        kmers_list.append(seq)\n",
        "    final = min(x for x in kmers_list if isinstance(x, str))\n",
        "    return final, kmers_list"
      ],
      "metadata": {
        "id": "B5TTKPlhfHk5"
      },
      "execution_count": null,
      "outputs": []
    },
    {
      "cell_type": "code",
      "source": [
        "min_dict = {} # min kmer | read number\n",
        "#kmer_dict = {}\n",
        "for key, value in reads.items():\n",
        "    final = minKmer(value)[0]\n",
        "    if(final in min_dict.keys()):\n",
        "        min_dict[final].append(key)\n",
        "    else:\n",
        "        min_dict[final] = [key]\n",
        "\n",
        "\n"
      ],
      "metadata": {
        "id": "2wSmsvo7fIWO"
      },
      "execution_count": null,
      "outputs": []
    },
    {
      "cell_type": "code",
      "source": [
        "min_dict"
      ],
      "metadata": {
        "id": "fcCr_LLHd6hU"
      },
      "execution_count": null,
      "outputs": []
    },
    {
      "cell_type": "code",
      "source": [
        "from google.colab import auth\n",
        "from googleapiclient.discovery import build\n",
        "from googleapiclient.errors import HttpError\n",
        "from googleapiclient.http import MediaFileUpload\n",
        "import pickle\n",
        "\n",
        "with open('min4b.pickle', 'wb') as handle:\n",
        "    pickle.dump(min_dict, handle, protocol=pickle.HIGHEST_PROTOCOL)\n",
        "\n",
        "#Authenticate and construct the Drive API client\n",
        "auth.authenticate_user()\n",
        "drive_service = build('drive', 'v3')\n",
        "\n",
        "file_metadata = {'name': 'min4b.pickle'}\n",
        "media = MediaFileUpload('min4b.pickle', mimetype='application/octet-stream')\n",
        "file = drive_service.files().create(body=file_metadata, media_body=media,\n",
        "                                    fields='id').execute()"
      ],
      "metadata": {
        "id": "if-gwtr9qoHj"
      },
      "execution_count": null,
      "outputs": []
    },
    {
      "cell_type": "code",
      "source": [
        "min_dict = open('/content/drive/MyDrive/min4b.pickle', 'rb')\n",
        "min_dict = pickle.load(min_dict)"
      ],
      "metadata": {
        "id": "4LSs1kZys7k6"
      },
      "execution_count": null,
      "outputs": []
    },
    {
      "cell_type": "code",
      "source": [
        "mingen_dict = {} #minimizers | genome name\n",
        "\n",
        "for key, value in min_dict.items():\n",
        "    for key2, value2 in genome_dict.items():\n",
        "        if(key in value2):\n",
        "            if(key in mingen_dict.keys()):\n",
        "                mingen_dict[key].append(key2)\n",
        "            else:\n",
        "                mingen_dict[key] = [key2]\n",
        "\n"
      ],
      "metadata": {
        "id": "U4rs_efPeGPv"
      },
      "execution_count": null,
      "outputs": []
    },
    {
      "cell_type": "code",
      "source": [],
      "metadata": {
        "id": "YxCFtWPBsMi9"
      },
      "execution_count": null,
      "outputs": []
    },
    {
      "cell_type": "code",
      "source": [
        "mingen_dict"
      ],
      "metadata": {
        "id": "NHPzGBiOfaBu"
      },
      "execution_count": null,
      "outputs": []
    },
    {
      "cell_type": "markdown",
      "source": [
        "Map dict"
      ],
      "metadata": {
        "id": "3bd0EP-ifK8-"
      }
    },
    {
      "cell_type": "code",
      "source": [
        "#only 1%\n",
        "map_dict = {}\n",
        "\n",
        "for i in range(4000):\n",
        "    for j in range(5000):\n",
        "        key1 = 'read_'+str(i)\n",
        "        key2 = 'Genome_Number_'+str(j)\n",
        "        if key1 in map_dict.keys() and min_dict[key1] in genome_dict[key2]:\n",
        "            map_dict[key1].append(key2)\n",
        "        elif min_dict[key1] in genome_dict[key2]:\n",
        "            map_dict[key1] = [key2]\n",
        "\n"
      ],
      "metadata": {
        "id": "Y3EPt2Q5fM7t"
      },
      "execution_count": null,
      "outputs": []
    },
    {
      "cell_type": "code",
      "source": [
        "from google.colab import auth\n",
        "from googleapiclient.discovery import build\n",
        "from googleapiclient.errors import HttpError\n",
        "from googleapiclient.http import MediaFileUpload\n",
        "import pickle\n",
        "\n",
        "with open('map4b.pickle', 'wb') as handle:\n",
        "    pickle.dump(map_dict, handle, protocol=pickle.HIGHEST_PROTOCOL)\n",
        "\n",
        "#Authenticate and construct the Drive API client\n",
        "auth.authenticate_user()\n",
        "drive_service = build('drive', 'v3')\n",
        "\n",
        "file_metadata = {'name': 'map4b.pickle'}\n",
        "media = MediaFileUpload('map4b.pickle', mimetype='application/octet-stream')\n",
        "file = drive_service.files().create(body=file_metadata, media_body=media,\n",
        "                                    fields='id').execute()"
      ],
      "metadata": {
        "id": "1Z1xFb38z8XN"
      },
      "execution_count": null,
      "outputs": []
    },
    {
      "cell_type": "code",
      "source": [
        "map_dict = open('/content/drive/MyDrive/map4b.pickle', 'rb')\n",
        "map_dict = pickle.load(map_dict)"
      ],
      "metadata": {
        "id": "sE_AokvUGlJ3"
      },
      "execution_count": null,
      "outputs": []
    },
    {
      "cell_type": "markdown",
      "source": [
        "top 10 genomes"
      ],
      "metadata": {
        "id": "AagD8egRE3U4"
      }
    },
    {
      "cell_type": "code",
      "source": [
        "count_dict = {}\n",
        "for key, value in map_dict.items():\n",
        "    for el in value:\n",
        "        if el in count_dict.keys():\n",
        "            count_dict[el] += 1\n",
        "        else:\n",
        "            count_dict[el] = 1"
      ],
      "metadata": {
        "id": "WEnY2eSeE4yY"
      },
      "execution_count": null,
      "outputs": []
    },
    {
      "cell_type": "code",
      "source": [
        "sorted_dict = sorted(count_dict.items(), key=lambda x:x[1])\n",
        "sorted_dict = dict(sorted_dict)"
      ],
      "metadata": {
        "id": "UCbAl5IBE_JD"
      },
      "execution_count": null,
      "outputs": []
    },
    {
      "cell_type": "code",
      "source": [
        "sorted_keys = list(sorted_dict.keys())\n",
        "top10 = sorted_keys[990:1000]"
      ],
      "metadata": {
        "id": "sIYPt6VfFF_L"
      },
      "execution_count": null,
      "outputs": []
    },
    {
      "cell_type": "code",
      "source": [
        "top10_dict = {}\n",
        "\n",
        "for i in range(9):\n",
        "    top10_dict[top10[i]] = i"
      ],
      "metadata": {
        "id": "HEXjwEEuFJWm"
      },
      "execution_count": null,
      "outputs": []
    },
    {
      "cell_type": "code",
      "source": [
        "from google.colab import auth\n",
        "from googleapiclient.discovery import build\n",
        "from googleapiclient.errors import HttpError\n",
        "from googleapiclient.http import MediaFileUpload\n",
        "import pickle\n",
        "\n",
        "with open('top104b.pickle', 'wb') as handle:\n",
        "    pickle.dump(top10_dict, handle, protocol=pickle.HIGHEST_PROTOCOL)\n",
        "\n",
        "#Authenticate and construct the Drive API client\n",
        "auth.authenticate_user()\n",
        "drive_service = build('drive', 'v3')\n",
        "\n",
        "file_metadata = {'name': 'top104b.pickle'}\n",
        "media = MediaFileUpload('top104b.pickle', mimetype='application/octet-stream')\n",
        "file = drive_service.files().create(body=file_metadata, media_body=media,\n",
        "                                    fields='id').execute()"
      ],
      "metadata": {
        "id": "VCG4KvgWGNl5"
      },
      "execution_count": null,
      "outputs": []
    },
    {
      "cell_type": "code",
      "source": [
        "top10_dict = open('/content/drive/MyDrive/top104b.pickle', 'rb')\n",
        "top10_dict = pickle.load(top10_dict)"
      ],
      "metadata": {
        "id": "tC2sdCbWGp7L"
      },
      "execution_count": null,
      "outputs": []
    },
    {
      "cell_type": "code",
      "source": [
        "top10 = list(top10_dict.keys())"
      ],
      "metadata": {
        "id": "m4y0FCEVKduR"
      },
      "execution_count": null,
      "outputs": []
    },
    {
      "cell_type": "code",
      "source": [
        "top10gen_dict = {}\n",
        "\n",
        "for el in top10:\n",
        "    top10gen_dict[el] = genome_dict[el]\n",
        "\n"
      ],
      "metadata": {
        "id": "1ha3HMLPLLUN"
      },
      "execution_count": null,
      "outputs": []
    },
    {
      "cell_type": "markdown",
      "source": [
        "Mapping"
      ],
      "metadata": {
        "id": "iEcnxIa0FRmT"
      }
    },
    {
      "cell_type": "code",
      "source": [
        "def transcriptTime(genome):\n",
        "    start = 0\n",
        "    end = 0\n",
        "    transcript={}\n",
        "    for i in range(0, len(genome)):\n",
        "        end = i + k\n",
        "        if(end > len(genome)):\n",
        "          break\n",
        "        seq = genome[i:end]\n",
        "        if seq in transcript.keys():\n",
        "          transcript[seq].append(i)\n",
        "        else:\n",
        "          transcript[seq] = [i]\n",
        "\n",
        "    return(transcript)"
      ],
      "metadata": {
        "id": "8NALj6TiFTnt"
      },
      "execution_count": null,
      "outputs": []
    },
    {
      "cell_type": "code",
      "source": [
        "def scoring(positions): #helps alignRead\n",
        "\n",
        "    #first find the ranges\n",
        "    r1 = {}\n",
        "    r2 = {}\n",
        "    r3 = {}\n",
        "\n",
        "\n",
        "\n",
        "    for x in range(0, len(positions)):\n",
        "        for y in range(0, len(positions[x])):\n",
        "            pos = positions[x][y]\n",
        "            if len(str(pos)) == 3: #3 digit number\n",
        "                rg = int(str(pos)[:2] + str(0))\n",
        "            elif len(str(pos)) == 2: #2 digit number\n",
        "                rg = int(str(pos)[0] + str(0))\n",
        "            else: #single digit\n",
        "                rg = pos\n",
        "\n",
        "            if(x < 15):\n",
        "                if rg in r1.keys():\n",
        "                    r1[rg] += 1\n",
        "                else:\n",
        "                    r1[rg] = 1\n",
        "            elif(x < 30):\n",
        "                if rg in r2.keys():\n",
        "                    r2[rg] += 1\n",
        "                else:\n",
        "                    r2[rg] = 1\n",
        "            else:\n",
        "                if rg in r3.keys():\n",
        "                    r3[rg] += 1\n",
        "                else:\n",
        "                    r3[rg] = 1\n",
        "\n",
        "\n",
        "\n",
        "    #now score\n",
        "    final_positions = []\n",
        "    scores = {}\n",
        "    ranges = {}\n",
        "    one_score = 0\n",
        "    for x in range(0, len(positions)):\n",
        "          if len(positions[x]) > 1: #there are multiple positions to choose from\n",
        "              for i in range(0, len(positions[x])):\n",
        "                  if(len(str(positions[x][i])) == 3): #3 digit number\n",
        "                      kee = int(str(positions[x][i])[:2] + str(0))\n",
        "                  elif len(str(positions[x][i])) == 2: #2 digit number\n",
        "                      kee = int(str(positions[x][i])[0] + str(0))\n",
        "                  else: #single digit number\n",
        "                      kee = positions[x][i]\n",
        "\n",
        "                  kee_before = kee - 10\n",
        "                  kee_after = kee + 10\n",
        "\n",
        "                  if(x < 15):\n",
        "                      ranges = r1.copy()\n",
        "                  elif(x < 30):\n",
        "                      ranges = r2.copy()\n",
        "                  else:\n",
        "                      ranges = r3.copy()\n",
        "\n",
        "\n",
        "\n",
        "\n",
        "                  if(kee_before in ranges.keys()):\n",
        "                      score1 = ranges[kee_before]\n",
        "                      one_score += score1\n",
        "                  if(kee in ranges.keys()):\n",
        "                      score2 = ranges[kee]\n",
        "                      one_score += score2\n",
        "                  if(kee_after in ranges.keys()):\n",
        "                      score3 = ranges[kee_after]\n",
        "                      one_score += score3\n",
        "\n",
        "                  scores[positions[x][i]] = one_score\n",
        "                  one_score = 0\n",
        "              best_pos = maxDict(scores)\n",
        "              final_positions.append(best_pos)\n",
        "              scores = {}\n",
        "          else:\n",
        "              final_positions.append(positions[x][0])\n",
        "\n",
        "    return(final_positions)"
      ],
      "metadata": {
        "id": "iGca8u85FYiZ"
      },
      "execution_count": null,
      "outputs": []
    },
    {
      "cell_type": "code",
      "source": [
        "def screening(final_positions, positions): #if there are consecutive positions and they accidentally chose the wrong ones, let's bring back incrememnting consecutive positions\n",
        "    for r in range(1, len(final_positions)-1):\n",
        "        num_interest = final_positions[r]\n",
        "        before_num = final_positions[r - 1]\n",
        "        after_num = final_positions[r + 1]\n",
        "        if((num_interest != before_num+1) and (num_interest != after_num-1)): #both sides aren't good\n",
        "            for i in range(0, len(positions[r])):\n",
        "                if(positions[r][i] == before_num+1 and positions[r][i] == after_num-1): #ranges didn't catch things\n",
        "                    final_positions[r] = positions[r][i]\n",
        "                    break\n",
        "                else:\n",
        "                    final_positions[r] = 10000\n",
        "        elif(num_interest != before_num+1 and after_num == 10000): #after is a non match\n",
        "            for i in range(0, len(positions[r])):\n",
        "                if(positions[r][i] == before_num+1): #ranges didn't catch things\n",
        "                    final_positions[r] = positions[r][i]\n",
        "                    break\n",
        "                else:\n",
        "                    final_positions[r] = 10000\n",
        "        elif(num_interest != after_num-1 and before_num == 10000): #before is nonmatch\n",
        "            for i in range(0, len(positions[r])):\n",
        "                if(positions[r][i] == after_num-1): #ranges didn't catch things\n",
        "                    final_positions[r] = positions[r][i]\n",
        "                    break\n",
        "                else:\n",
        "                    final_positions[r] = 10000\n",
        "        elif(num_interest != before_num+1 and after_num != 10000 and before_num != 10000): #let's try to match our nums\n",
        "            for i in range(0, len(positions[r])):\n",
        "                if(positions[r][i] == before_num+1): #ranges didn't catch things\n",
        "                    final_positions[r] = positions[r][i]\n",
        "                    break\n",
        "                else:\n",
        "                    final_positions[r] = 10000\n",
        "\n",
        "    #now go through the list again to make sure no false 10000\n",
        "    for a in range(1, len(final_positions) - 1):\n",
        "        num_interest = final_positions[a]\n",
        "        before_num = final_positions[a - 1]\n",
        "        after_num = final_positions[a + 1]\n",
        "\n",
        "        if (num_interest == 10000 and before_num != 10000): #before is a normal number\n",
        "            for j in range(0, len(positions[a])):\n",
        "                if(positions[a][j] == before_num + 1):\n",
        "                    final_positions[a] = positions[a][j]\n",
        "                    break\n",
        "        elif(num_interest == 10000 and after_num != 10000): #after is a normal number\n",
        "            for j in range(0, len(positions[a])):\n",
        "                if(positions[a][j] == after_num - 1):\n",
        "                    final_positions[a] = positions[a][j]\n",
        "                    break\n",
        "\n",
        "\n",
        "\n",
        "\n",
        "#we need to look at the last base too\n",
        "    #if(final_positions[len(final_positions) - 1] != final_positions[len(final_positions)-2]):\n",
        "        #for i in range(0, len(positions[r])):\n",
        "                #if(positions[len(final_positions) - 1][i] == final_positions[len(final_positions)-2]): #ranges didn't catch things\n",
        "                    #final_positions[len(final_positions) - 1] = positions[len(final_positions) - 1][i]\n",
        "                    #break\n",
        "                #else:\n",
        "                    #final_positions[len(final_positions) - 1] = 10000\n",
        "\n",
        "\n",
        "    return(final_positions)"
      ],
      "metadata": {
        "id": "Tct8hnX2Fbyq"
      },
      "execution_count": null,
      "outputs": []
    },
    {
      "cell_type": "code",
      "source": [
        "def maxDict(d): #helps(alignRead)\n",
        "  return max(d, key = d.get)"
      ],
      "metadata": {
        "id": "Dm0L0BhlFeli"
      },
      "execution_count": null,
      "outputs": []
    },
    {
      "cell_type": "code",
      "source": [
        "def alignRead(kmer_list, genome): #final positions assigns a position to all bases, whether or not that is a good thing\n",
        "    start = 0\n",
        "    end = 0\n",
        "    positions = []\n",
        "    transcript = transcriptTime(genome)\n",
        "\n",
        "    for seq in kmer_list:\n",
        "        if seq in transcript.keys(): #match with ref\n",
        "            positions.append(transcript[seq])\n",
        "        else:\n",
        "            positions.append([10000])\n",
        "\n",
        "    positions2 = scoring(positions)\n",
        "    final_positions = screening(positions2, positions)\n",
        "\n",
        "\n",
        "    return(final_positions)"
      ],
      "metadata": {
        "id": "OR4G5dubFg5B"
      },
      "execution_count": null,
      "outputs": []
    },
    {
      "cell_type": "code",
      "source": [
        "def splitList(final_positions):\n",
        "    #screen out just wrong numbers\n",
        "    split_list = {}\n",
        "    count = 0\n",
        "    for pos in final_positions:\n",
        "        if(pos != 10000):\n",
        "            if(count in split_list.keys()):\n",
        "                split_list[count].append(pos)\n",
        "            else:\n",
        "                split_list[count] = [pos]\n",
        "        elif(pos == 10000):\n",
        "              count += 1\n",
        "              if(count-1 in split_list.keys()):\n",
        "                  a = 'nothing'\n",
        "              else:\n",
        "                  count -= 1\n",
        "\n",
        "    return(split_list)"
      ],
      "metadata": {
        "id": "nfW8yRDjFjL9"
      },
      "execution_count": null,
      "outputs": []
    },
    {
      "cell_type": "code",
      "source": [
        "def matchPos(split_list): #maybe just skip ahead of final_positions when you hit 1000 and see if you hit a good position a certain amount of kmers away\n",
        "    match_pos = {}\n",
        "    match_pos[0] = split_list[0].copy()\n",
        "    match_key = 0\n",
        "\n",
        "    #creating match_pos, a dict with only positions of bases that are right, this only works for substituion rn\n",
        "    keeplast = 0\n",
        "    prev_list = 0\n",
        "    prev_index = 0\n",
        "    for t in range(1, len(split_list)):\n",
        "        firstofnext = split_list[t][0]\n",
        "        if (keeplast != 1):\n",
        "            prev_list = t-1\n",
        "            prev_index = len(split_list[prev_list]) - 1\n",
        "            keeplast = 0\n",
        "\n",
        "        lastofprev = split_list[prev_list][prev_index]\n",
        "\n",
        "        #both del and in look the same in matchPos\n",
        "        if(0 <= firstofnext - lastofprev <= k*3):\n",
        "            match_key += 1\n",
        "            match_pos[match_key] = split_list[t]\n",
        "            keeplast = 0\n",
        "        else:\n",
        "            keeplast = 1\n",
        "\n",
        "    return(match_pos)"
      ],
      "metadata": {
        "id": "PAExGVdWFlRH"
      },
      "execution_count": null,
      "outputs": []
    },
    {
      "cell_type": "code",
      "source": [
        "def bestGenome(matchposlist):\n",
        "    score_genomes = {}\n",
        "    for key, value in matchposlist.items():\n",
        "        score = 0\n",
        "        for key2, value2 in value.items():\n",
        "            score += len(value2)\n",
        "        score_genomes[key] = score\n",
        "\n",
        "    genomes_list = []\n",
        "    big = max(score_genomes.values())\n",
        "    for key, value in score_genomes.items():\n",
        "          if(value == big):\n",
        "              genomes_list.append(key)\n",
        "\n",
        "    return(genomes_list)\n",
        "\n",
        "\n",
        "\n",
        ""
      ],
      "metadata": {
        "id": "3LiOdAqlFpQC"
      },
      "execution_count": null,
      "outputs": []
    },
    {
      "cell_type": "code",
      "source": [
        "def everything(read_name, top10):\n",
        "      test_matches = {}\n",
        "      kmers_list = []\n",
        "\n",
        "      read = reads[read_name]\n",
        "      for i in range(0,len(read)-m+1):\n",
        "        seq = read[i:i+m]\n",
        "        kmers_list.append(seq)\n",
        "\n",
        "\n",
        "      for el in top10:\n",
        "          final_positions = alignRead(kmers_list, top10gen_dict[el])\n",
        "          split_list = splitList(final_positions)\n",
        "          if(len(split_list) > 0):\n",
        "              match_pos = matchPos(split_list)\n",
        "          else:\n",
        "              match_pos = {}\n",
        "\n",
        "          test_matches[el] = match_pos\n",
        "\n",
        "      return bestGenome(test_matches)\n"
      ],
      "metadata": {
        "id": "gutrPXsuFSVB"
      },
      "execution_count": null,
      "outputs": []
    },
    {
      "cell_type": "code",
      "source": [
        "len(reads) *.25"
      ],
      "metadata": {
        "colab": {
          "base_uri": "https://localhost:8080/"
        },
        "id": "NMkPFeJVW_KY",
        "outputId": "e4395cb9-031a-4abe-8992-1cdf0f2f9e6f"
      },
      "execution_count": null,
      "outputs": [
        {
          "output_type": "execute_result",
          "data": {
            "text/plain": [
              "1000000.0"
            ]
          },
          "metadata": {},
          "execution_count": 20
        }
      ]
    },
    {
      "cell_type": "code",
      "source": [
        "reads1 = []\n",
        "for i in range(0, 1000000):\n",
        "    reads1.append('read_'+str(i))"
      ],
      "metadata": {
        "id": "GmpxjChQyIjm"
      },
      "execution_count": null,
      "outputs": []
    },
    {
      "cell_type": "code",
      "source": [
        "final_dict = {}\n",
        "\n",
        "for key in reads1:\n",
        "    final_dict[key] = everything(key, top10)\n",
        "\n",
        "from google.colab import auth\n",
        "from googleapiclient.discovery import build\n",
        "from googleapiclient.errors import HttpError\n",
        "from googleapiclient.http import MediaFileUpload\n",
        "import pickle\n",
        "\n",
        "with open('final4b.pickle', 'wb') as handle:\n",
        "    pickle.dump(final_dict, handle, protocol=pickle.HIGHEST_PROTOCOL)\n",
        "\n",
        "#Authenticate and construct the Drive API client\n",
        "auth.authenticate_user()\n",
        "drive_service = build('drive', 'v3')\n",
        "\n",
        "file_metadata = {'name': 'final4b.pickle'}\n",
        "media = MediaFileUpload('final4b.pickle', mimetype='application/octet-stream')\n",
        "file = drive_service.files().create(body=file_metadata, media_body=media,\n",
        "                                    fields='id').execute()"
      ],
      "metadata": {
        "id": "_tHtDf3NFvI0"
      },
      "execution_count": null,
      "outputs": []
    },
    {
      "cell_type": "code",
      "source": [
        "from google.colab import auth\n",
        "from googleapiclient.discovery import build\n",
        "from googleapiclient.errors import HttpError\n",
        "from googleapiclient.http import MediaFileUpload\n",
        "import pickle\n",
        "\n",
        "with open('final4b.pickle', 'wb') as handle:\n",
        "    pickle.dump(final_dict, handle, protocol=pickle.HIGHEST_PROTOCOL)\n",
        "\n",
        "#Authenticate and construct the Drive API client\n",
        "auth.authenticate_user()\n",
        "drive_service = build('drive', 'v3')\n",
        "\n",
        "file_metadata = {'name': 'final4b.pickle'}\n",
        "media = MediaFileUpload('final4b.pickle', mimetype='application/octet-stream')\n",
        "file = drive_service.files().create(body=file_metadata, media_body=media,\n",
        "                                    fields='id').execute()"
      ],
      "metadata": {
        "id": "Fo186LaoXmyh"
      },
      "execution_count": null,
      "outputs": []
    }
  ]
}
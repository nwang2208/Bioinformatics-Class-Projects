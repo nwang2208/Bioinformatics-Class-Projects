{
  "nbformat": 4,
  "nbformat_minor": 0,
  "metadata": {
    "colab": {
      "provenance": [],
      "mount_file_id": "19nU2s4lhLH9qWNEvFG_rZmPVZxw8npbO",
      "authorship_tag": "ABX9TyPerOsqzayosLD67GS7P+vR",
      "include_colab_link": true
    },
    "kernelspec": {
      "name": "python3",
      "display_name": "Python 3"
    },
    "language_info": {
      "name": "python"
    }
  },
  "cells": [
    {
      "cell_type": "markdown",
      "metadata": {
        "id": "view-in-github",
        "colab_type": "text"
      },
      "source": [
        "<a href=\"https://colab.research.google.com/github/nwang2208/Bioinformatics-Class-Projects/blob/mapping-reads/Project3b.ipynb\" target=\"_parent\"><img src=\"https://colab.research.google.com/assets/colab-badge.svg\" alt=\"Open In Colab\"/></a>"
      ]
    },
    {
      "cell_type": "code",
      "source": [
        "!pip install Bio"
      ],
      "metadata": {
        "id": "5VXcdo6pm7yy"
      },
      "execution_count": null,
      "outputs": []
    },
    {
      "cell_type": "code",
      "source": [
        "from Bio import SeqIO"
      ],
      "metadata": {
        "id": "gcWqtV_Km-9e"
      },
      "execution_count": null,
      "outputs": []
    },
    {
      "cell_type": "markdown",
      "source": [
        "Upload the reads"
      ],
      "metadata": {
        "id": "2QdOgScPmjMU"
      }
    },
    {
      "cell_type": "code",
      "execution_count": null,
      "metadata": {
        "id": "84wP7QqimhEb"
      },
      "outputs": [],
      "source": [
        "reads = {}\n",
        "for seq_record in SeqIO.parse('/content/drive/MyDrive/122data/Project3/project3b_20000_reads_without_positions.fasta', \"fasta\"):\n",
        "    reads[seq_record.id] = str(seq_record.seq)"
      ]
    },
    {
      "cell_type": "code",
      "source": [
        "reads"
      ],
      "metadata": {
        "id": "nMAr3tmznE4B"
      },
      "execution_count": null,
      "outputs": []
    },
    {
      "cell_type": "markdown",
      "source": [
        "Upload example reads"
      ],
      "metadata": {
        "id": "Ekc_VUUMo_UI"
      }
    },
    {
      "cell_type": "code",
      "source": [
        "reads = {}\n",
        "for seq_record in SeqIO.parse('/content/drive/MyDrive/122data/Project3/project3_1000_sample_reads_without_positions.fasta', \"fasta\"):\n",
        "    reads[seq_record.id] = str(seq_record.seq)"
      ],
      "metadata": {
        "id": "OXN7D3gJpAeC"
      },
      "execution_count": null,
      "outputs": []
    },
    {
      "cell_type": "code",
      "source": [
        "len(reads)"
      ],
      "metadata": {
        "id": "1F-GaJdMpByG"
      },
      "execution_count": null,
      "outputs": []
    },
    {
      "cell_type": "code",
      "source": [
        "spectrum = {}\n",
        "for seq_record in SeqIO.parse('/content/drive/MyDrive/122data/Project3/project3_1000_sample_spectrum.fasta', \"fasta\"):\n",
        "    spectrum[seq_record.id] = str(seq_record.seq)"
      ],
      "metadata": {
        "id": "VjG2heYNpPYg"
      },
      "execution_count": null,
      "outputs": []
    },
    {
      "cell_type": "code",
      "source": [
        "len(spectrum)"
      ],
      "metadata": {
        "id": "TGZpzJ1ipQ37"
      },
      "execution_count": null,
      "outputs": []
    },
    {
      "cell_type": "markdown",
      "source": [
        "Make spectrum"
      ],
      "metadata": {
        "id": "ejMz6hZYnHE2"
      }
    },
    {
      "cell_type": "code",
      "source": [
        "k = 20\n",
        "kmer_dict = {}\n",
        "\n",
        "for key, value in reads.items():\n",
        "    for i in range(0, len(value) - k + 1):\n",
        "        seq = value[i:i+k]\n",
        "        if(seq in kmer_dict.keys()):\n",
        "            kmer_dict[seq].append(key)\n",
        "        else:\n",
        "            kmer_dict[seq] = [key]\n"
      ],
      "metadata": {
        "id": "o3TVpmlGnIxy"
      },
      "execution_count": null,
      "outputs": []
    },
    {
      "cell_type": "code",
      "source": [
        "#filter out rare kmers\n",
        "final_kmer_dict = {}\n",
        "for key, value in kmer_dict.items():\n",
        "    if len(value) > 1:\n",
        "        final_kmer_dict[key] = value\n",
        ""
      ],
      "metadata": {
        "id": "zdB_dV4hni0M"
      },
      "execution_count": null,
      "outputs": []
    },
    {
      "cell_type": "code",
      "source": [
        "len(final_kmer_dict)"
      ],
      "metadata": {
        "colab": {
          "base_uri": "https://localhost:8080/"
        },
        "id": "Kk7-sN4jpFnZ",
        "outputId": "4112565f-6e5a-4df8-82d6-4d0faac4219f"
      },
      "execution_count": null,
      "outputs": [
        {
          "output_type": "execute_result",
          "data": {
            "text/plain": [
              "32140"
            ]
          },
          "metadata": {},
          "execution_count": 41
        }
      ]
    },
    {
      "cell_type": "code",
      "source": [
        "final_kmer_dict"
      ],
      "metadata": {
        "id": "r1WoQyfVrRT6"
      },
      "execution_count": null,
      "outputs": []
    },
    {
      "cell_type": "markdown",
      "source": [
        "Functions for Debru"
      ],
      "metadata": {
        "id": "81lTbBanquu0"
      }
    },
    {
      "cell_type": "code",
      "source": [
        "import sys\n",
        "sys.setrecursionlimit(1000000)"
      ],
      "metadata": {
        "id": "75T3OYF4qwiv"
      },
      "execution_count": null,
      "outputs": []
    },
    {
      "cell_type": "code",
      "source": [
        "def inDegree(node, graph):\n",
        "    ind = 0\n",
        "\n",
        "    for key, value in graph.items():\n",
        "        if(node in value):\n",
        "            ind += 1\n",
        "\n",
        "    return(ind)"
      ],
      "metadata": {
        "id": "sflS33sEqz5u"
      },
      "execution_count": null,
      "outputs": []
    },
    {
      "cell_type": "code",
      "source": [
        "def outDegree(node, graph):\n",
        "    out = len(graph[node])\n",
        "    return(out)"
      ],
      "metadata": {
        "id": "MTIEGNc8q2P-"
      },
      "execution_count": null,
      "outputs": []
    },
    {
      "cell_type": "code",
      "source": [
        "def outGraph(graph):\n",
        "    outgraph = {}\n",
        "    for key in graph:\n",
        "        outgraph[key] = len(graph[key])\n",
        "    return(outgraph)"
      ],
      "metadata": {
        "id": "dA2O6oGpq5Bc"
      },
      "execution_count": null,
      "outputs": []
    },
    {
      "cell_type": "code",
      "source": [
        "def findStart(graph):\n",
        "  start = next(node for node, neighbours in graph.items() if neighbours)\n",
        "\n",
        "  for key in graph:\n",
        "      if(outDegree(key, graph) - inDegree(key, graph) == 1):\n",
        "          start = key\n",
        "\n",
        "  return(start)"
      ],
      "metadata": {
        "id": "KqraecT2q7Rs"
      },
      "execution_count": null,
      "outputs": []
    },
    {
      "cell_type": "code",
      "source": [
        "def dfs(curr, graph, outgraph, path):\n",
        "    while(curr in outgraph.keys() and outgraph[curr] != 0 ): #still edges\n",
        "        next = graph[curr][outgraph[curr] - 1]\n",
        "        outgraph[curr] = outgraph[curr] - 1\n",
        "        dfs(next, graph, outgraph, path)\n",
        "    path.insert(0, curr)\n",
        "\n",
        "    return(path)"
      ],
      "metadata": {
        "id": "NSe8I_7Qq9Zj"
      },
      "execution_count": null,
      "outputs": []
    },
    {
      "cell_type": "code",
      "source": [
        "def overlap(patterns):\n",
        "    tree = {}\n",
        "\n",
        "    for el in patterns:\n",
        "        suffix = el[1:len(el)]\n",
        "\n",
        "        for el2 in patterns:\n",
        "            prefix = el2[0:len(el2) - 1]\n",
        "            if(el != el2 and prefix == suffix):\n",
        "                if(el in tree.keys()):\n",
        "                    tree[el].append(el2)\n",
        "                else:\n",
        "                    tree[el] = [el2]\n",
        "\n",
        "    return(tree)"
      ],
      "metadata": {
        "id": "o58A2NB3q_3w"
      },
      "execution_count": null,
      "outputs": []
    },
    {
      "cell_type": "code",
      "source": [
        "def reconstruct(kmers):\n",
        "    text = ''\n",
        "\n",
        "    for i in range(0, len(kmers)):\n",
        "        if(i == len(kmers) - 1):\n",
        "            text += kmers[i]\n",
        "        else:\n",
        "            text += kmers[i][0]\n",
        "\n",
        "    return(text)"
      ],
      "metadata": {
        "id": "ZslsXYeCrCW0"
      },
      "execution_count": null,
      "outputs": []
    },
    {
      "cell_type": "code",
      "source": [
        "def StringReconstruction(patterns):\n",
        "    graph = overlap(patterns)\n",
        "    outgraph = outGraph(graph)\n",
        "    path = []\n",
        "    startNode = findStart(graph)\n",
        "\n",
        "    path = dfs(startNode, graph, outgraph, path)\n",
        "    text = reconstruct(path)\n",
        "\n",
        "    return(text)"
      ],
      "metadata": {
        "id": "0XQwbjXCrEsW"
      },
      "execution_count": null,
      "outputs": []
    },
    {
      "cell_type": "markdown",
      "source": [
        "Building Genome"
      ],
      "metadata": {
        "id": "OVyD_Jr4r7wp"
      }
    },
    {
      "cell_type": "code",
      "source": [
        "kmer_list = []\n",
        "\n",
        "for key in final_kmer_dict:\n",
        "    kmer_list.append(key)\n"
      ],
      "metadata": {
        "id": "TWEhCqx_rN93"
      },
      "execution_count": null,
      "outputs": []
    },
    {
      "cell_type": "code",
      "source": [
        "text = StringReconstruction(kmer_list)"
      ],
      "metadata": {
        "id": "M07UU30PrvQb"
      },
      "execution_count": null,
      "outputs": []
    },
    {
      "cell_type": "code",
      "source": [
        "text"
      ],
      "metadata": {
        "id": "MpZroLWtt13u"
      },
      "execution_count": null,
      "outputs": []
    },
    {
      "cell_type": "code",
      "source": [
        "text_file = open(\"ref.txt\", \"w\")\n",
        "n = text_file.write(text)\n",
        "text_file.close()"
      ],
      "metadata": {
        "id": "JMamCRjQwjJE"
      },
      "execution_count": null,
      "outputs": []
    },
    {
      "cell_type": "markdown",
      "source": [
        "Match the reads with the Genome"
      ],
      "metadata": {
        "id": "Hm9cV18ft4Ua"
      }
    },
    {
      "cell_type": "code",
      "source": [],
      "metadata": {
        "id": "G49kd1Bjv-U9"
      },
      "execution_count": null,
      "outputs": []
    },
    {
      "cell_type": "code",
      "source": [],
      "metadata": {
        "id": "4UBo_BmOuKN6"
      },
      "execution_count": null,
      "outputs": []
    }
  ]
}
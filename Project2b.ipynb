{
  "nbformat": 4,
  "nbformat_minor": 0,
  "metadata": {
    "colab": {
      "provenance": [],
      "mount_file_id": "1yRst_CAnYcOPx7baf1Fn1jlKiPpcEaBT",
      "authorship_tag": "ABX9TyPt5xLg6V5KjPSSmDbwmYpC",
      "include_colab_link": true
    },
    "kernelspec": {
      "name": "python3",
      "display_name": "Python 3"
    },
    "language_info": {
      "name": "python"
    }
  },
  "cells": [
    {
      "cell_type": "markdown",
      "metadata": {
        "id": "view-in-github",
        "colab_type": "text"
      },
      "source": [
        "<a href=\"https://colab.research.google.com/github/nwang2208/Bioinformatics-Class-Projects/blob/mapping-reads/Project2b.ipynb\" target=\"_parent\"><img src=\"https://colab.research.google.com/assets/colab-badge.svg\" alt=\"Open In Colab\"/></a>"
      ]
    },
    {
      "cell_type": "code",
      "source": [
        "!pip install Bio"
      ],
      "metadata": {
        "id": "UCkuT3F4ZOet"
      },
      "execution_count": null,
      "outputs": []
    },
    {
      "cell_type": "code",
      "execution_count": null,
      "metadata": {
        "id": "jBoZtS0-YUjD"
      },
      "outputs": [],
      "source": [
        "from Bio import SeqIO\n",
        "import math\n",
        "import numpy as np"
      ]
    },
    {
      "cell_type": "markdown",
      "source": [
        "Opening Bound Reads"
      ],
      "metadata": {
        "id": "vFu3_-ezZoTj"
      }
    },
    {
      "cell_type": "code",
      "source": [
        "bound_dict = {}\n",
        "for seq_record in SeqIO.parse('/content/drive/MyDrive/122data/PROJECT2B/bound.fasta', \"fasta\"):\n",
        "    bound_dict[seq_record.id] = str(seq_record.seq)"
      ],
      "metadata": {
        "id": "C-kybZRNZrcy"
      },
      "execution_count": null,
      "outputs": []
    },
    {
      "cell_type": "markdown",
      "source": [
        "Make a reverse complement set of bound reads (did not include in final answer)"
      ],
      "metadata": {
        "id": "JjsazMTr09ql"
      }
    },
    {
      "cell_type": "code",
      "source": [
        "r_bound_dict= {}\n",
        "\n",
        "for key,value in bound_dict.items():\n",
        "  r_seq = \"\"\n",
        "  for x in range(0,len(value)):\n",
        "    base = ''\n",
        "    if(value[x] == \"A\"):\n",
        "      base = 'T'\n",
        "    elif(value[x] == \"T\"):\n",
        "      base = 'A'\n",
        "    elif(value[x] == \"C\"):\n",
        "      base = 'G'\n",
        "    else:\n",
        "      base = 'C'\n",
        "    r_seq += base\n",
        "  r_bound_dict[key] = r_seq[::-1]"
      ],
      "metadata": {
        "id": "ObyAo9rkaBO-"
      },
      "execution_count": null,
      "outputs": []
    },
    {
      "cell_type": "code",
      "source": [
        "r_bound_dict"
      ],
      "metadata": {
        "id": "xXDC9B5Z1N8-"
      },
      "execution_count": null,
      "outputs": []
    },
    {
      "cell_type": "markdown",
      "source": [
        "Building PWM"
      ],
      "metadata": {
        "id": "ec36lramaV4a"
      }
    },
    {
      "cell_type": "code",
      "source": [
        "def profileMatrix(kmer_list, k):\n",
        "    countA = 1 #pseudocounts\n",
        "    countC = 1\n",
        "    countG = 1\n",
        "    countT = 1\n",
        "    col_list = []\n",
        "\n",
        "    for i in range(0, k):\n",
        "        for el in kmer_list:\n",
        "            if(el[i] == 'A'):\n",
        "                countA += 1\n",
        "            elif(el[i] == 'C'):\n",
        "                countC += 1\n",
        "            elif(el[i] == 'G'):\n",
        "                countG += 1\n",
        "            else:\n",
        "                countT += 1\n",
        "        sum = countA + countC + countG + countT\n",
        "        col = [countA/sum, countC/sum, countG/sum, countT/sum]\n",
        "        col_list.append(col)\n",
        "        col = []\n",
        "        countA = 1\n",
        "        countC = 1\n",
        "        countG = 1\n",
        "        countT = 1\n",
        "\n",
        "    return(col_list)"
      ],
      "metadata": {
        "id": "3f4eCq62aUuN"
      },
      "execution_count": null,
      "outputs": []
    },
    {
      "cell_type": "code",
      "source": [
        "def score(profile_matrix, motif_list):\n",
        "    score_list = []\n",
        "    for el in motif_list:\n",
        "        score = 1\n",
        "        for i in range(0, len(el)):\n",
        "\n",
        "            if(el[i] == 'A'):\n",
        "                score *= profile_matrix[i][0]\n",
        "            elif(el[i] == 'C'):\n",
        "                score *= profile_matrix[i][1]\n",
        "            elif(el[i] == 'G'):\n",
        "                score *= profile_matrix[i][2]\n",
        "            else:\n",
        "                score *= profile_matrix[i][3]\n",
        "        score_list.append(score)\n",
        "    return(score_list)\n",
        ""
      ],
      "metadata": {
        "id": "oWQ_jC0MnMyO"
      },
      "execution_count": null,
      "outputs": []
    },
    {
      "cell_type": "code",
      "source": [
        "def Score(Motifs):\n",
        "    score = 0\n",
        "    for i in range(len(Motifs[0])):\n",
        "        j = [motif[i] for motif in Motifs]\n",
        "        score += (len(j) - max(j.count(\"A\"), j.count(\"C\"), j.count(\"T\"), j.count(\"G\")))\n",
        "    return score"
      ],
      "metadata": {
        "id": "S_M4B7W5m_pm"
      },
      "execution_count": null,
      "outputs": []
    },
    {
      "cell_type": "code",
      "source": [
        "def GreedyMotifSearch(dna, k, t):\n",
        "    bestMotifs = []\n",
        "    for el in dna:\n",
        "        seq = el[0:k]\n",
        "        bestMotifs.append(seq)\n",
        "\n",
        "    bestProfile = profileMatrix(bestMotifs, k)\n",
        "\n",
        "    motif_list = []\n",
        "    temp_list = []\n",
        "    for i in range(0, len(dna[0])-k+1):\n",
        "        motif1 = dna[0][i:i+k]\n",
        "        motif_list.append(motif1)\n",
        "        profile = profileMatrix(motif_list, k)\n",
        "\n",
        "\n",
        "\n",
        "        for j in range(1, t): #look at the other strings\n",
        "            for x in range(0, len(dna[j])-k+1):\n",
        "                motif = dna[j][x:x+k]\n",
        "                temp_list.append(motif)\n",
        "            score_list = score(profile, temp_list)\n",
        "            indexofbest = score_list.index(max(score_list))\n",
        "            best_motif = temp_list[indexofbest]\n",
        "            motif_list.append(best_motif)\n",
        "            profile = []\n",
        "            profile = profileMatrix(motif_list, k)\n",
        "            temp_list = []\n",
        "\n",
        "\n",
        "        if(Score(motif_list) < Score(bestMotifs)):\n",
        "            bestMotifs = []\n",
        "            bestProfile = []\n",
        "            bestMotifs = motif_list.copy()\n",
        "            bestProfile = profile.copy()\n",
        "\n",
        "        motif_list = []\n",
        "        profile = []\n",
        "        score_list1 = []\n",
        "        score_list2 = []\n",
        "\n",
        "\n",
        "\n",
        "    return(bestMotifs, bestProfile)"
      ],
      "metadata": {
        "id": "jzZNNSHLm8jz"
      },
      "execution_count": null,
      "outputs": []
    },
    {
      "cell_type": "code",
      "source": [
        "k = 21\n",
        "t = len(bound_dict)\n",
        "\n",
        "dna = []\n",
        "for key, value in bound_dict.items():\n",
        "    dna.append(value)\n",
        "'''\n",
        "for key, value in r_bound_dict.items():\n",
        "    dna.append(value)'''\n",
        "\n"
      ],
      "metadata": {
        "id": "kZ9bjMuLnQeg"
      },
      "execution_count": null,
      "outputs": []
    },
    {
      "cell_type": "code",
      "source": [
        "len(bound_dict)"
      ],
      "metadata": {
        "id": "eo5Rnilm1aJI"
      },
      "execution_count": null,
      "outputs": []
    },
    {
      "cell_type": "code",
      "source": [
        "bestProfile = GreedyMotifSearch(dna, k, t)[1]"
      ],
      "metadata": {
        "id": "r8-yD0H91X5M"
      },
      "execution_count": null,
      "outputs": []
    },
    {
      "cell_type": "code",
      "source": [
        "bestProfile"
      ],
      "metadata": {
        "id": "ZAhezW9MxJqo"
      },
      "execution_count": null,
      "outputs": []
    },
    {
      "cell_type": "code",
      "source": [
        "np.savetxt(\"pwm2.csv\",\n",
        "           bestProfile,\n",
        "           delimiter =\" \",  # Set the delimiter as a comma followed by a space\n",
        "           fmt ='% s')"
      ],
      "metadata": {
        "id": "17smItacyvT4"
      },
      "execution_count": null,
      "outputs": []
    }
  ]
}
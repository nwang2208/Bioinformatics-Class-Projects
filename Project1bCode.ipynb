{
  "nbformat": 4,
  "nbformat_minor": 0,
  "metadata": {
    "colab": {
      "provenance": [],
      "mount_file_id": "11Zw7SCB9fIaoVz-vvxfSKJC9memnKZWJ",
      "authorship_tag": "ABX9TyNTB4zMHoSoZ9ZATfnLpVjh",
      "include_colab_link": true
    },
    "kernelspec": {
      "name": "python3",
      "display_name": "Python 3"
    },
    "language_info": {
      "name": "python"
    }
  },
  "cells": [
    {
      "cell_type": "markdown",
      "metadata": {
        "id": "view-in-github",
        "colab_type": "text"
      },
      "source": [
        "<a href=\"https://colab.research.google.com/github/nwang2208/Bioinformatics-Class-Projects/blob/mapping-reads/Project1bCode.ipynb\" target=\"_parent\"><img src=\"https://colab.research.google.com/assets/colab-badge.svg\" alt=\"Open In Colab\"/></a>"
      ]
    },
    {
      "cell_type": "code",
      "execution_count": null,
      "metadata": {
        "id": "k_XbuZx_l_5D"
      },
      "outputs": [],
      "source": [
        "import sys, re\n",
        "import numpy as np"
      ]
    },
    {
      "cell_type": "code",
      "source": [
        "kmer = 10"
      ],
      "metadata": {
        "id": "7GsWZ7rX5UgU"
      },
      "execution_count": null,
      "outputs": []
    },
    {
      "cell_type": "markdown",
      "source": [
        "todo\n",
        "fix the actual finding of bases for deletion and substituion\n",
        "take into account i have identified error type in misMatch\n",
        "\n"
      ],
      "metadata": {
        "id": "4492xx3_q5G4"
      }
    },
    {
      "cell_type": "markdown",
      "source": [
        "Opening Ref Genome"
      ],
      "metadata": {
        "id": "WDt1IYdLmEHc"
      }
    },
    {
      "cell_type": "code",
      "source": [
        "ref=open('/content/drive/MyDrive/122data/project1b_1000000_reference_genome.fasta','r')\n",
        "ref_lines=ref.readlines()\n",
        "hre=re.compile('>(\\S+)')\n",
        "lre=re.compile('^(\\S+)$')\n",
        "\n",
        "ref_seq={}\n",
        "\n",
        "for line in ref_lines:\n",
        "        outh = hre.search(line)\n",
        "        if outh:\n",
        "                id=outh.group(1)\n",
        "        else:\n",
        "                outl=lre.search(line)\n",
        "                if(id in ref_seq.keys()):\n",
        "                        ref_seq[id] += outl.group(1)\n",
        "                else:\n",
        "                        ref_seq[id]  =outl.group(1)\n",
        "\n",
        "ref_seq = ref_seq['genome']"
      ],
      "metadata": {
        "id": "rZ-NeS9pmILs"
      },
      "execution_count": null,
      "outputs": []
    },
    {
      "cell_type": "code",
      "source": [
        "len(ref_seq)"
      ],
      "metadata": {
        "colab": {
          "base_uri": "https://localhost:8080/"
        },
        "id": "twiKawsqmlqL",
        "outputId": "756ae185-d334-4d38-c715-ed1de53cd158"
      },
      "execution_count": null,
      "outputs": [
        {
          "output_type": "execute_result",
          "data": {
            "text/plain": [
              "1000"
            ]
          },
          "metadata": {},
          "execution_count": 90
        }
      ]
    },
    {
      "cell_type": "code",
      "source": [
        "\n",
        "start = 0\n",
        "end = 0\n",
        "transcript={}\n",
        "for i in range(0, len(ref_seq)):\n",
        "    end = i + kmer\n",
        "    if(end > len(ref_seq)):\n",
        "      break\n",
        "    seq = ref_seq[i:end]\n",
        "    if seq in transcript.keys():\n",
        "      transcript[seq].append(i)\n",
        "    else:\n",
        "      transcript[seq] = [i]\n",
        ""
      ],
      "metadata": {
        "id": "ZoI6AtzSmokr"
      },
      "execution_count": null,
      "outputs": []
    },
    {
      "cell_type": "code",
      "source": [
        "transcript"
      ],
      "metadata": {
        "id": "q2DTaN6Ymvut"
      },
      "execution_count": null,
      "outputs": []
    },
    {
      "cell_type": "markdown",
      "source": [
        "Opening reads\n"
      ],
      "metadata": {
        "id": "ONrycH9-mGHk"
      }
    },
    {
      "cell_type": "code",
      "source": [
        "r=open('/content/drive/MyDrive/122data/project1b_1000000_with_error_paired_reads.fasta','r')\n",
        "reads_lines=r.readlines()\n",
        "\n",
        "reads = {}\n",
        "for line in reads_lines:\n",
        "        outh = hre.search(line)\n",
        "        if outh:\n",
        "                id=outh.group(1)\n",
        "        else:\n",
        "                outl=lre.search(line)\n",
        "                if(id in reads.keys()):\n",
        "                        reads[id] += outl.group(1)\n",
        "                else:\n",
        "                        reads[id]  =outl.group(1)"
      ],
      "metadata": {
        "id": "5VqCkk4WSA98"
      },
      "execution_count": null,
      "outputs": []
    },
    {
      "cell_type": "code",
      "source": [
        "reads"
      ],
      "metadata": {
        "id": "uU7HzEbzSN9U"
      },
      "execution_count": null,
      "outputs": []
    },
    {
      "cell_type": "markdown",
      "source": [
        "Necessary Functions"
      ],
      "metadata": {
        "id": "BuPCH09QiHlb"
      }
    },
    {
      "cell_type": "code",
      "source": [
        "def scoring(positions): #helps alignRead\n",
        "\n",
        "    #first find the ranges\n",
        "    r1 = {}\n",
        "    r2 = {}\n",
        "    r3 = {}\n",
        "\n",
        "\n",
        "\n",
        "    for x in range(0, len(positions)):\n",
        "        for y in range(0, len(positions[x])):\n",
        "            pos = positions[x][y]\n",
        "            if len(str(pos)) == 3: #3 digit number\n",
        "                rg = int(str(pos)[:2] + str(0))\n",
        "            elif len(str(pos)) == 2: #2 digit number\n",
        "                rg = int(str(pos)[0] + str(0))\n",
        "            else: #single digit\n",
        "                rg = pos\n",
        "\n",
        "            if(x < 15):\n",
        "                if rg in r1.keys():\n",
        "                    r1[rg] += 1\n",
        "                else:\n",
        "                    r1[rg] = 1\n",
        "            elif(x < 30):\n",
        "                if rg in r2.keys():\n",
        "                    r2[rg] += 1\n",
        "                else:\n",
        "                    r2[rg] = 1\n",
        "            else:\n",
        "                if rg in r3.keys():\n",
        "                    r3[rg] += 1\n",
        "                else:\n",
        "                    r3[rg] = 1\n",
        "\n",
        "\n",
        "\n",
        "    #now score\n",
        "    final_positions = []\n",
        "    scores = {}\n",
        "    ranges = {}\n",
        "    one_score = 0\n",
        "    for x in range(0, len(positions)):\n",
        "          if len(positions[x]) > 1: #there are multiple positions to choose from\n",
        "              for i in range(0, len(positions[x])):\n",
        "                  if(len(str(positions[x][i])) == 3): #3 digit number\n",
        "                      kee = int(str(positions[x][i])[:2] + str(0))\n",
        "                  elif len(str(positions[x][i])) == 2: #2 digit number\n",
        "                      kee = int(str(positions[x][i])[0] + str(0))\n",
        "                  else: #single digit number\n",
        "                      kee = positions[x][i]\n",
        "\n",
        "                  kee_before = kee - 10\n",
        "                  kee_after = kee + 10\n",
        "\n",
        "                  if(x < 15):\n",
        "                      ranges = r1.copy()\n",
        "                  elif(x < 30):\n",
        "                      ranges = r2.copy()\n",
        "                  else:\n",
        "                      ranges = r3.copy()\n",
        "\n",
        "\n",
        "\n",
        "\n",
        "                  if(kee_before in ranges.keys()):\n",
        "                      score1 = ranges[kee_before]\n",
        "                      one_score += score1\n",
        "                  if(kee in ranges.keys()):\n",
        "                      score2 = ranges[kee]\n",
        "                      one_score += score2\n",
        "                  if(kee_after in ranges.keys()):\n",
        "                      score3 = ranges[kee_after]\n",
        "                      one_score += score3\n",
        "\n",
        "                  scores[positions[x][i]] = one_score\n",
        "                  one_score = 0\n",
        "              best_pos = maxDict(scores)\n",
        "              final_positions.append(best_pos)\n",
        "              scores = {}\n",
        "          else:\n",
        "              final_positions.append(positions[x][0])\n",
        "\n",
        "    return(final_positions)"
      ],
      "metadata": {
        "id": "O0-tdDdDV3a2"
      },
      "execution_count": null,
      "outputs": []
    },
    {
      "cell_type": "code",
      "source": [
        "def screening(final_positions, positions): #if there are consecutive positions and they accidentally chose the wrong ones, let's bring back incrememnting consecutive positions\n",
        "    for r in range(1, len(final_positions)-1):\n",
        "        num_interest = final_positions[r]\n",
        "        before_num = final_positions[r - 1]\n",
        "        after_num = final_positions[r + 1]\n",
        "        if((num_interest != before_num+1) and (num_interest != after_num-1)): #both sides aren't good\n",
        "            for i in range(0, len(positions[r])):\n",
        "                if(positions[r][i] == before_num+1 and positions[r][i] == after_num-1): #ranges didn't catch things\n",
        "                    final_positions[r] = positions[r][i]\n",
        "                    break\n",
        "                else:\n",
        "                    final_positions[r] = 10000\n",
        "        elif(num_interest != before_num+1 and after_num == 10000): #after is a non match\n",
        "            for i in range(0, len(positions[r])):\n",
        "                if(positions[r][i] == before_num+1): #ranges didn't catch things\n",
        "                    final_positions[r] = positions[r][i]\n",
        "                    break\n",
        "                else:\n",
        "                    final_positions[r] = 10000\n",
        "        elif(num_interest != after_num-1 and before_num == 10000): #before is nonmatch\n",
        "            for i in range(0, len(positions[r])):\n",
        "                if(positions[r][i] == after_num-1): #ranges didn't catch things\n",
        "                    final_positions[r] = positions[r][i]\n",
        "                    break\n",
        "                else:\n",
        "                    final_positions[r] = 10000\n",
        "        elif(num_interest != before_num+1 and after_num != 10000 and before_num != 10000): #let's try to match our nums\n",
        "            for i in range(0, len(positions[r])):\n",
        "                if(positions[r][i] == before_num+1): #ranges didn't catch things\n",
        "                    final_positions[r] = positions[r][i]\n",
        "                    break\n",
        "                else:\n",
        "                    final_positions[r] = 10000\n",
        "\n",
        "    #now go through the list again to make sure no false 10000\n",
        "    for a in range(1, len(final_positions) - 1):\n",
        "        num_interest = final_positions[a]\n",
        "        before_num = final_positions[a - 1]\n",
        "        after_num = final_positions[a + 1]\n",
        "\n",
        "        if (num_interest == 10000 and before_num != 10000): #before is a normal number\n",
        "            for j in range(0, len(positions[a])):\n",
        "                if(positions[a][j] == before_num + 1):\n",
        "                    final_positions[a] = positions[a][j]\n",
        "                    break\n",
        "        elif(num_interest == 10000 and after_num != 10000): #after is a normal number\n",
        "            for j in range(0, len(positions[a])):\n",
        "                if(positions[a][j] == after_num - 1):\n",
        "                    final_positions[a] = positions[a][j]\n",
        "                    break\n",
        "\n",
        "\n",
        "\n",
        "\n",
        "#we need to look at the last base too\n",
        "    #if(final_positions[len(final_positions) - 1] != final_positions[len(final_positions)-2]):\n",
        "        #for i in range(0, len(positions[r])):\n",
        "                #if(positions[len(final_positions) - 1][i] == final_positions[len(final_positions)-2]): #ranges didn't catch things\n",
        "                    #final_positions[len(final_positions) - 1] = positions[len(final_positions) - 1][i]\n",
        "                    #break\n",
        "                #else:\n",
        "                    #final_positions[len(final_positions) - 1] = 10000\n",
        "\n",
        "\n",
        "    return(final_positions)"
      ],
      "metadata": {
        "id": "HDEb1g14_nQx"
      },
      "execution_count": null,
      "outputs": []
    },
    {
      "cell_type": "code",
      "source": [
        "def maxDict(d): #helps(alignRead)\n",
        "  return max(d, key = d.get)"
      ],
      "metadata": {
        "id": "9VHWocaazla-"
      },
      "execution_count": null,
      "outputs": []
    },
    {
      "cell_type": "code",
      "source": [
        "def alignRead(kmer, read): #final positions assigns a position to all bases, whether or not that is a good thing\n",
        "    start = 0\n",
        "    end = 0\n",
        "    positions = []\n",
        "    for i in range(0, len(read)): #go through the read\n",
        "            end = i + kmer\n",
        "            if(end > len(read)):\n",
        "                break\n",
        "            seq = read[i:end]\n",
        "            if seq in transcript.keys(): #match with ref\n",
        "                positions.append(transcript[seq])\n",
        "            else:\n",
        "                positions.append([10000])\n",
        "\n",
        "    positions2 = scoring(positions)\n",
        "    final_positions = screening(positions2, positions)\n",
        "\n",
        "\n",
        "    return(final_positions)"
      ],
      "metadata": {
        "id": "Rt77r6APiLSi"
      },
      "execution_count": null,
      "outputs": []
    },
    {
      "cell_type": "code",
      "source": [
        "def splitList(final_positions):\n",
        "    #screen out just wrong numbers\n",
        "    split_list = {}\n",
        "    count = 0\n",
        "    for pos in final_positions:\n",
        "        if(pos != 10000):\n",
        "            if(count in split_list.keys()):\n",
        "                split_list[count].append(pos)\n",
        "            else:\n",
        "                split_list[count] = [pos]\n",
        "        elif(pos == 10000):\n",
        "              count += 1\n",
        "              if(count-1 in split_list.keys()):\n",
        "                  a = 'nothing'\n",
        "              else:\n",
        "                  count -= 1\n",
        "\n",
        "    return(split_list)\n",
        "\n",
        "\n",
        "\n",
        "\n"
      ],
      "metadata": {
        "id": "d6F7Gi1Bju0S"
      },
      "execution_count": null,
      "outputs": []
    },
    {
      "cell_type": "code",
      "source": [
        "\n",
        "def matchPos(split_list): #maybe just skip ahead of final_positions when you hit 1000 and see if you hit a good position a certain amount of kmers away\n",
        "    match_pos = {}\n",
        "    match_pos[0] = split_list[0].copy()\n",
        "    match_key = 0\n",
        "\n",
        "    #creating match_pos, a dict with only positions of bases that are right, this only works for substituion rn\n",
        "    keeplast = 0\n",
        "    prev_list = 0\n",
        "    prev_index = 0\n",
        "    for t in range(1, len(split_list)):\n",
        "        firstofnext = split_list[t][0]\n",
        "        if (keeplast != 1):\n",
        "            prev_list = t-1\n",
        "            prev_index = len(split_list[prev_list]) - 1\n",
        "            keeplast = 0\n",
        "\n",
        "        lastofprev = split_list[prev_list][prev_index]\n",
        "\n",
        "        #both del and in look the same in matchPos\n",
        "        if(0 <= firstofnext - lastofprev <= kmer*3):\n",
        "            match_key += 1\n",
        "            match_pos[match_key] = split_list[t]\n",
        "            keeplast = 0\n",
        "        else:\n",
        "            keeplast = 1\n",
        "\n",
        "    return(match_pos)\n"
      ],
      "metadata": {
        "id": "gKiDjce-02tT"
      },
      "execution_count": null,
      "outputs": []
    },
    {
      "cell_type": "code",
      "source": [
        "def mismatchPos(match_pos, final_positions): #need to account for different types of error in the same read\n",
        "        mis_pos = {}\n",
        "        mis_key = 0\n",
        "        count = 0\n",
        "        errorCount = 0\n",
        "        typeError = []\n",
        "\n",
        "    #if(len(match_pos) >= 1):\n",
        "        for u in range(1, len(match_pos)):\n",
        "            firstofnext = match_pos[u][0] #actual position number\n",
        "            prev_list = u-1\n",
        "            prev_index = len(match_pos[prev_list]) - 1\n",
        "            lastofprev = match_pos[prev_list][prev_index] #actual position number\n",
        "            difference = firstofnext - lastofprev\n",
        "\n",
        "            index_firstofnext = final_positions.index(firstofnext)\n",
        "            index_lastofprev = final_positions.index(lastofprev)\n",
        "            errorCount = index_firstofnext - index_lastofprev - 1\n",
        "            if(errorCount == difference - 1): #substitution\n",
        "                typeError.append('s')\n",
        "                mis_index = final_positions.index(lastofprev)+1\n",
        "                mis_pos[mis_index] = list(range(lastofprev+1, firstofnext))\n",
        "            elif(errorCount == difference): #insertion\n",
        "                typeError.append('i')\n",
        "                mis_index = final_positions.index(lastofprev)+1\n",
        "                mis_pos[mis_index] = list(range(lastofprev+1, firstofnext))\n",
        "            elif(errorCount == difference - 2): #deletion\n",
        "                typeError.append('d')\n",
        "                mis_index = final_positions.index(lastofprev)+1\n",
        "                mis_pos[mis_index] = list(range(lastofprev+1, firstofnext))\n",
        "\n",
        "\n",
        "\n",
        "\n",
        "\n",
        "        return(mis_pos, typeError)"
      ],
      "metadata": {
        "id": "QeZXuen8i9yq"
      },
      "execution_count": null,
      "outputs": []
    },
    {
      "cell_type": "code",
      "source": [
        "def sub(key, value, read):\n",
        "        base = ''\n",
        "        to_add = \"\"\n",
        "        final = []\n",
        "\n",
        "        start = key\n",
        "        pos_base = 0\n",
        "\n",
        "        if(kmer < len(value) <= kmer + 1):\n",
        "              #for the first sub\n",
        "            for i in range(0, 4):\n",
        "                read_seq = read[start:start+kmer-1] #cut off the last base, we will be adding different ones to find the real base\n",
        "                if(i == 0):\n",
        "                    base = 'T'\n",
        "                elif(i == 1):\n",
        "                    base = 'A'\n",
        "                elif(i == 2):\n",
        "                    base = 'G'\n",
        "                elif(i == 3):\n",
        "                    base = 'C'\n",
        "                read_seq += base\n",
        "                if(read_seq in transcript.keys()):\n",
        "                    if(value[0] in transcript[read_seq]):\n",
        "                        toadd = \"S\" + str(value[kmer-1]) + \" \" + base + \" \" + read[start+kmer-1]\n",
        "                        final.append(toadd)\n",
        "                        break\n",
        "\n",
        "\n",
        "                toadd = \"S\" + str(value[len(value)-1]) + \" \" + ref_seq[value[len(value)-1]] + \" \" + read[start+len(value)-1]\n",
        "                final.append(toadd)\n",
        "\n",
        "        else:\n",
        "            subpos = int(len(value)/kmer)\n",
        "            for x in range(0, subpos):\n",
        "                for i in range(0, 4):\n",
        "                    read_seq = read[start:start+kmer-1] #cut off the last base, we will be adding different ones to find the real base\n",
        "                    if(i == 0):\n",
        "                        base = 'T'\n",
        "                    elif(i == 1):\n",
        "                        base = 'A'\n",
        "                    elif(i == 2):\n",
        "                        base = 'G'\n",
        "                    elif(i == 3):\n",
        "                        base = 'C'\n",
        "                    read_seq += base\n",
        "                    if(read_seq in transcript.keys()):\n",
        "                        if(value[pos_base] in transcript[read_seq]):\n",
        "                            toadd = \"S\" + str(value[pos_base + kmer - 1]) + \" \" + base + \" \" + read[start+kmer-1]\n",
        "                            final.append(toadd)\n",
        "                            break\n",
        "                start += kmer\n",
        "                pos_base += kmer\n",
        "\n",
        "        final = tuple(final)\n",
        "        return(final)"
      ],
      "metadata": {
        "id": "JqCQdqx3ky-R"
      },
      "execution_count": null,
      "outputs": []
    },
    {
      "cell_type": "code",
      "source": [
        "def dele(key, value):\n",
        "        final = []\n",
        "        toadd = \"\"\n",
        "\n",
        "        miss_pos = value[len(value)-1]\n",
        "        base = ref_seq[miss_pos]\n",
        "        toadd = \"D\" + str(miss_pos) + \" \" + base\n",
        "        final.append(toadd)\n",
        "\n",
        "        final = tuple(final)\n",
        "        return(final)\n"
      ],
      "metadata": {
        "id": "NNhwkRPW211m"
      },
      "execution_count": null,
      "outputs": []
    },
    {
      "cell_type": "code",
      "source": [
        "def inser(key, value, final_positions, read):\n",
        "        toadd = \"\"\n",
        "        final = []\n",
        "\n",
        "        miss_pos = value[len(value)-1]\n",
        "        mark_pos = miss_pos + 1\n",
        "        miss_index = final_positions.index(mark_pos) - 1\n",
        "        base = read[miss_index]\n",
        "        toadd = \"I\" + str(miss_pos) + \" \" + base\n",
        "        final.append(toadd)\n",
        "\n",
        "        final = tuple(final)\n",
        "        return(final)\n"
      ],
      "metadata": {
        "id": "BrMeMXjP5W-r"
      },
      "execution_count": null,
      "outputs": []
    },
    {
      "cell_type": "code",
      "source": [
        "def mutation(typeError, mis_pos, final_positions, read):\n",
        "    count = 0\n",
        "    error = ''\n",
        "    for key, value in mis_pos.items():\n",
        "            error = typeError[count]\n",
        "            if(error == 's'):\n",
        "                su = sub(key, value, read)\n",
        "                for el in su:\n",
        "                    '''if(el == 'S129 C A'):\n",
        "                        print(read)\n",
        "                    if(el == 'S141 G A'):\n",
        "                        print(read)'''\n",
        "                    if(el in mutation_list.keys()):\n",
        "                        mutation_list[el] += 1\n",
        "                    else:\n",
        "                        mutation_list[el] = 1\n",
        "            elif(error == 'i'):\n",
        "                ins = inser(key, value, final_positions, read)\n",
        "                for el in ins:\n",
        "                    if(el == 'I544 G'):\n",
        "                        print(read)\n",
        "\n",
        "                    if(el in mutation_list.keys()):\n",
        "                        mutation_list[el] += 1\n",
        "                    else:\n",
        "                        mutation_list[el] = 1\n",
        "            elif(error == 'd'):\n",
        "                de = dele(key, value)\n",
        "                for el in de:\n",
        "                    if(el in mutation_list.keys()):\n",
        "                        mutation_list[el] += 1\n",
        "                    else:\n",
        "                        mutation_list[el] = 1\n",
        "\n",
        "            count += 1\n",
        ""
      ],
      "metadata": {
        "id": "_2COfsmbzsDI"
      },
      "execution_count": null,
      "outputs": []
    },
    {
      "cell_type": "markdown",
      "source": [
        "Compile the mutation list"
      ],
      "metadata": {
        "id": "o6onvptfrNL9"
      }
    },
    {
      "cell_type": "code",
      "source": [
        "mutation_list = {}"
      ],
      "metadata": {
        "id": "87f4rkEJR6za"
      },
      "execution_count": null,
      "outputs": []
    },
    {
      "cell_type": "code",
      "source": [
        "positions_dict = {} #position number in ref_seq | reads that map to it correctly from match_pos"
      ],
      "metadata": {
        "id": "MNgxUS5V2mSY"
      },
      "execution_count": null,
      "outputs": []
    },
    {
      "cell_type": "code",
      "source": [
        "\n",
        "for key, value in reads.items():\n",
        "    if(len(value) >= kmer):\n",
        "        final_positions = alignRead(kmer, value)\n",
        "\n",
        "        #check 129\n",
        "        '''if(119 in final_positions and key!= 'read_46/1' and key!= 'read_19/1' and key!= 'read_38/1'):\n",
        "            print(key)\n",
        "            break'''\n",
        "\n",
        "        split_list = splitList(final_positions)\n",
        "        if(split_list != {}): #the entire read is not an error\n",
        "            match_pos = matchPos(split_list)\n",
        "\n",
        "            mis_pos = mismatchPos(match_pos, final_positions)[0]\n",
        "            typeError = mismatchPos(match_pos, final_positions)[1]\n",
        "\n",
        "            if(typeError != ''):\n",
        "                mutation(typeError, mis_pos, final_positions, value)\n",
        "\n",
        "            #build positions_dict\n",
        "            for key2, value2 in match_pos.items():\n",
        "                for el in value2:\n",
        "                    if(el in positions_dict.keys()):\n",
        "                        positions_dict[el].append(key)\n",
        "                    else:\n",
        "                        positions_dict[el] = [key]\n",
        "\n",
        "\n",
        "\n",
        "\n",
        "\n",
        ""
      ],
      "metadata": {
        "id": "MUejxGUKRy6z"
      },
      "execution_count": null,
      "outputs": []
    },
    {
      "cell_type": "code",
      "source": [
        "#screens out errors in the reads\n",
        "final_mutation_list = {}\n",
        "final_mutation_list = mutation_list.copy()\n",
        "for key, value in mutation_list.items():\n",
        "    space_index = key.find(' ')\n",
        "    pos_number = int(key[1:space_index])\n",
        "    if(pos_number in positions_dict and len(positions_dict[pos_number]) > value): #hmmmmm\n",
        "        del final_mutation_list[key]\n",
        "    elif mutation_list[key] ==1:\n",
        "        del final_mutation_list[key]\n",
        "\n"
      ],
      "metadata": {
        "id": "15bn7gGMrwK5"
      },
      "execution_count": null,
      "outputs": []
    },
    {
      "cell_type": "code",
      "source": [
        "final_mutation_list"
      ],
      "metadata": {
        "id": "03wZsLljrsOE"
      },
      "execution_count": null,
      "outputs": []
    },
    {
      "cell_type": "code",
      "source": [
        "mutation_keys = list(final_mutation_list.keys())\n",
        "mutation_keys.sort()\n",
        "#mutation_keys"
      ],
      "metadata": {
        "id": "GijG_y71Rqns"
      },
      "execution_count": null,
      "outputs": []
    },
    {
      "cell_type": "markdown",
      "source": [
        "Making a csv file"
      ],
      "metadata": {
        "id": "hjgIcLIyg82s"
      }
    },
    {
      "cell_type": "code",
      "source": [
        "predictions = []\n",
        "for el in mutation_keys:\n",
        "    el = \">\" + el\n",
        "    predictions.append(el)"
      ],
      "metadata": {
        "id": "VZMRbGIKg-A1"
      },
      "execution_count": null,
      "outputs": []
    },
    {
      "cell_type": "code",
      "source": [
        "predictions"
      ],
      "metadata": {
        "id": "9zfqOtCMhbtN"
      },
      "execution_count": null,
      "outputs": []
    },
    {
      "cell_type": "code",
      "source": [
        "np.savetxt(\"predictions.csv\",\n",
        "           predictions,\n",
        "           delimiter =\", \",  # Set the delimiter as a comma followed by a space\n",
        "           fmt ='% s')"
      ],
      "metadata": {
        "id": "SKKumf4ThAoY"
      },
      "execution_count": null,
      "outputs": []
    }
  ]
}